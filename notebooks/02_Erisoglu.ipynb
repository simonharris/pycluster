{
 "cells": [
  {
   "cell_type": "markdown",
   "metadata": {},
   "source": [
    "# Erisoglu 2011 \"New\" Algorithm"
   ]
  },
  {
   "cell_type": "markdown",
   "metadata": {},
   "source": [
    "See: A new algorithm for initial cluster centers in k-means algorithm\n",
    "\n",
    "https://www.sciencedirect.com/science/article/pii/S0167865511002248"
   ]
  },
  {
   "cell_type": "markdown",
   "metadata": {},
   "source": [
    "## Initial setup and configuration"
   ]
  },
  {
   "cell_type": "code",
   "execution_count": 1,
   "metadata": {
    "scrolled": false
   },
   "outputs": [],
   "source": [
    "import imports\n",
    "import numpy as np\n",
    "import sklearn.datasets as skdatasets\n",
    "import sklearn.metrics as skmetrics \n",
    "from matplotlib import pyplot as plt\n",
    "import kmeans\n",
    "import utils\n",
    "from initialisations import erisoglu"
   ]
  },
  {
   "cell_type": "code",
   "execution_count": 2,
   "metadata": {},
   "outputs": [],
   "source": [
    "eris = erisoglu.Erisoglu()\n",
    "\n",
    "dataset = skdatasets.load_iris()\n",
    "data = dataset.data\n",
    "target = dataset.target\n",
    "\n",
    "K = 3"
   ]
  },
  {
   "cell_type": "markdown",
   "metadata": {},
   "source": [
    "## A few inpections"
   ]
  },
  {
   "cell_type": "code",
   "execution_count": 3,
   "metadata": {
    "scrolled": true
   },
   "outputs": [
    {
     "name": "stdout",
     "output_type": "stream",
     "text": [
      "Axes are: [3, 1]\n",
      "Main feature deemed to be: petal width (cm)\n",
      "Secondary feature deemed to be: sepal width (cm)\n"
     ]
    }
   ],
   "source": [
    "main = eris._find_main_axis(data.T)\n",
    "secondary = eris._find_secondary_axis(data.T, main)\n",
    "\n",
    "print(\"Axes are: [%i, %i]\" % (main, secondary))\n",
    "print(\"Main feature deemed to be: %s\" % (dataset.feature_names[main]))\n",
    "print(\"Secondary feature deemed to be: %s\" % (dataset.feature_names[secondary]))"
   ]
  },
  {
   "cell_type": "code",
   "execution_count": 4,
   "metadata": {},
   "outputs": [
    {
     "name": "stdout",
     "output_type": "stream",
     "text": [
      "Center was: [2.3499999999999996, 2.375]\n",
      "Initial seed is: 15\n"
     ]
    }
   ],
   "source": [
    "initial, axes = eris._initialise(dataset.data)\n",
    "center = eris._find_center(data, axes)\n",
    "\n",
    "print(\"Center was:\", center)\n",
    "print(\"Initial seed is:\", initial)"
   ]
  },
  {
   "cell_type": "markdown",
   "metadata": {},
   "source": [
    "### Fig. 4a"
   ]
  },
  {
   "cell_type": "code",
   "execution_count": 5,
   "metadata": {},
   "outputs": [
    {
     "data": {
      "image/png": "[encoded data removed]",
      "text/plain": [
       "<Figure size 360x288 with 2 Axes>"
      ]
     },
     "metadata": {
      "needs_background": "light"
     },
     "output_type": "display_data"
    }
   ],
   "source": [
    "formatter = plt.FuncFormatter(lambda i, *args: dataset.target_names[int(i)])\n",
    "\n",
    "plt.figure(figsize=(5, 4))\n",
    "\n",
    "# nb. The paper plots them in a counter-intuitive fashion\n",
    "plt.scatter(data[:, axes.secondary], data[:, axes.main], c=target)\n",
    "plt.colorbar(ticks=[0, 1, 2], format=formatter)\n",
    "plt.xlabel(dataset.feature_names[axes.secondary])\n",
    "plt.ylabel(dataset.feature_names[axes.main])\n",
    "\n",
    "plt.tight_layout()\n",
    "plt.show()"
   ]
  },
  {
   "cell_type": "markdown",
   "metadata": {},
   "source": [
    "## Experiments and results"
   ]
  },
  {
   "cell_type": "markdown",
   "metadata": {},
   "source": [
    "Attempts to reproduce the published numbers."
   ]
  },
  {
   "cell_type": "markdown",
   "metadata": {},
   "source": [
    "### Table 1: Descriptive statistics"
   ]
  },
  {
   "cell_type": "code",
   "execution_count": 6,
   "metadata": {},
   "outputs": [
    {
     "name": "stdout",
     "output_type": "stream",
     "text": [
      "sepal length (cm): mean(5.843333), stdddev(0.825301), cvj(0.141238), \n",
      "sepal width (cm): mean(3.057333), stdddev(0.434411), cvj(0.142088), \n",
      "petal length (cm): mean(3.758000), stdddev(1.759404), cvj(0.468176), \n",
      "petal width (cm): mean(1.199333), stdddev(0.759693), cvj(0.633429), \n"
     ]
    }
   ],
   "source": [
    "for i in range(0, len(dataset.feature_names)):\n",
    "    \n",
    "    mean = np.mean(dataset.data.T[i])\n",
    "    stddev = np.std(dataset.data.T[i])\n",
    "    cvj = eris.variation_coefficient(dataset.data.T[i])\n",
    "    \n",
    "    print('%s: mean(%f), stdddev(%f), cvj(%f), ' % (dataset.feature_names[i], mean, stddev, cvj))\n",
    "    "
   ]
  },
  {
   "cell_type": "markdown",
   "metadata": {},
   "source": [
    "**TODO:** why is standard deviation slightly different?"
   ]
  },
  {
   "cell_type": "markdown",
   "metadata": {},
   "source": [
    "### Table 2: Correlations with other variables"
   ]
  },
  {
   "cell_type": "code",
   "execution_count": 7,
   "metadata": {},
   "outputs": [
    {
     "name": "stdout",
     "output_type": "stream",
     "text": [
      "sepal length (cm):\t0.817941\n",
      "sepal width (cm):\t-0.366126\n",
      "petal length (cm):\t0.962865\n"
     ]
    }
   ],
   "source": [
    "for i in [0,1,2]:\n",
    "    \n",
    "    corr = eris.correlation_coefficient(data.T[3], data.T[i])\n",
    "    \n",
    "    print('%s:\\t%f' % (dataset.feature_names[i], corr))"
   ]
  },
  {
   "cell_type": "markdown",
   "metadata": {},
   "source": [
    "## Main execution"
   ]
  },
  {
   "cell_type": "markdown",
   "metadata": {},
   "source": [
    "### Find seeds"
   ]
  },
  {
   "cell_type": "code",
   "execution_count": 8,
   "metadata": {},
   "outputs": [
    {
     "name": "stdout",
     "output_type": "stream",
     "text": [
      "[[5.7 4.4 1.5 0.4]\n",
      " [7.7 2.6 6.9 2.3]\n",
      " [4.5 2.3 1.3 0.3]]\n"
     ]
    }
   ],
   "source": [
    "seeds = eris.generate(dataset.data, K)\n",
    "\n",
    "print(seeds)"
   ]
  },
  {
   "cell_type": "markdown",
   "metadata": {},
   "source": [
    "### Run k-means"
   ]
  },
  {
   "cell_type": "code",
   "execution_count": 9,
   "metadata": {},
   "outputs": [
    {
     "name": "stdout",
     "output_type": "stream",
     "text": [
      "[0 0 0 0 0 0 0 0 0 0 0 0 0 0 0 0 0 0 0 0 0 0 0 0 0 0 0 0 0 0 0 0 0 0 0 0 0\n",
      " 0 0 0 0 0 0 0 0 0 0 0 0 0 1 2 1 2 2 2 2 2 2 2 2 2 2 2 2 2 2 2 2 2 2 2 2 2\n",
      " 2 2 2 1 2 2 2 2 2 2 2 2 2 2 2 2 2 2 2 2 2 2 2 2 2 2 1 2 1 1 1 1 2 1 1 1 1\n",
      " 1 1 2 2 1 1 1 1 2 1 2 1 2 1 1 2 2 1 1 1 1 1 2 1 1 1 1 2 1 1 1 2 1 1 1 2 1\n",
      " 1 2]\n"
     ]
    }
   ],
   "source": [
    "Z, U, clusters, iterations = kmeans.cluster(data, K, seeds.copy())\n",
    "\n",
    "print(U)"
   ]
  },
  {
   "cell_type": "markdown",
   "metadata": {},
   "source": [
    "### Initial metrics"
   ]
  },
  {
   "cell_type": "code",
   "execution_count": 10,
   "metadata": {},
   "outputs": [
    {
     "name": "stdout",
     "output_type": "stream",
     "text": [
      "Accuracy Score: 0.44666666666666666\n",
      "Adjusted Rand Index: 0.7163421126838475\n"
     ]
    }
   ],
   "source": [
    "acc = skmetrics.accuracy_score(target, U)\n",
    "ari = skmetrics.adjusted_rand_score(target, U)\n",
    "\n",
    "print(\"Accuracy Score:\", acc)\n",
    "print(\"Adjusted Rand Index:\", ari)"
   ]
  },
  {
   "cell_type": "code",
   "execution_count": null,
   "metadata": {},
   "outputs": [],
   "source": []
  }
 ],
 "metadata": {
  "kernelspec": {
   "display_name": "Python 3",
   "language": "python",
   "name": "python3"
  },
  "language_info": {
   "codemirror_mode": {
    "name": "ipython",
    "version": 3
   },
   "file_extension": ".py",
   "mimetype": "text/x-python",
   "name": "python",
   "nbconvert_exporter": "python",
   "pygments_lexer": "ipython3",
   "version": "3.7.1"
  }
 },
 "nbformat": 4,
 "nbformat_minor": 2
}
