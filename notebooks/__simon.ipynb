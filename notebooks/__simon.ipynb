{
 "cells": [
  {
   "cell_type": "code",
   "execution_count": null,
   "metadata": {
    "scrolled": false
   },
   "outputs": [
    {
     "data": {
      "text/plain": [
       "<Figure size 640x480 with 1 Axes>"
      ]
     },
     "metadata": {},
     "output_type": "display_data"
    }
   ],
   "source": [
    "import imports\n",
    "\n",
    "from matplotlib import pyplot as plt\n",
    "import numpy as np\n",
    "import seaborn as sns; \n",
    "sns.set(\n",
    "    style=\"ticks\", \n",
    "    color_codes=True, \n",
    "#    style=\"darkgrid\"\n",
    ")\n",
    "\n",
    "from datasets import testloader\n",
    "from initialisations import skmi2020 as skmi\n",
    "from kmeans import distance_table\n",
    "from metrics import accuracy\n",
    "import nbutils\n",
    "\n",
    "\n",
    "from sklearn.cluster import KMeans\n",
    "import sklearn.metrics as skmetrics\n",
    "\n",
    "dataset = testloader._load_local('5_2_1000_r_1.5_010')\n",
    "#dataset = testloader._load_local('skmi_test')\n",
    "K = 5  #20\n",
    "\n",
    "#dataset = testloader.load_iris()\n",
    "#K = 3\n",
    "\n",
    "data = dataset.data\n",
    "target = dataset.target\n",
    "\n",
    "C = []\n",
    "\n",
    "\n",
    "\n",
    "def calc_density(point, data):\n",
    "        \n",
    "    neighbours = int(len(data)/K) + 1\n",
    "    dists = distance_table(np.array([point]), data)[0]\n",
    "    idx = np.argpartition(dists, neighbours)\n",
    "    subdists = dists[idx[:neighbours]]\n",
    "    return np.sum(subdists)\n",
    "    \n",
    "\n",
    "def find_first_centroid(data):\n",
    "    \"\"\"The first promising point\"\"\"\n",
    "\n",
    "    density = [calc_density(point, data) for point in data]    \n",
    "    return data[np.argmin(density)]\n",
    "\n",
    "\n",
    "def find_furthest(temp_centroids, data):\n",
    "\n",
    "    distances = distance_table(data, temp_centroids)\n",
    "    nearests = np.min(distances, axis=1)\n",
    "    return data[np.argmax(nearests)]\n",
    "    \n",
    "    \n",
    "to_find = K\n",
    "\n",
    "while to_find > 1:\n",
    "\n",
    "    first = find_first_centroid(data)\n",
    "    C.append(first)\n",
    "\n",
    "    my_c = target\n",
    "\n",
    "    # the main data\n",
    "    plt.scatter(data[:, 0], data[:, 1], c=my_c)\n",
    "    plt.scatter(first[0], first[1], c='cyan')\n",
    "\n",
    "    temp_centroids = np.array([first])\n",
    "\n",
    "    while len(temp_centroids) < to_find:\n",
    "        furthest = find_furthest(temp_centroids, data)\n",
    "        plt.scatter(furthest[0], furthest[1], c='yellow')\n",
    "        temp_centroids = np.vstack((temp_centroids, furthest))\n",
    "\n",
    "    plt.show()\n",
    "    plt.clf()\n",
    "    \n",
    "    # Delete latest\n",
    "    clustering = np.argmin(distance_table(temp_centroids, data), axis=0)\n",
    "    mask = np.where(clustering==0)[0]\n",
    "    data = np.delete(data, mask, axis=0)\n",
    "    target = np.delete(target, mask, axis=0)\n",
    "    \n",
    "    to_find -= 1\n",
    "    \n",
    "    \n",
    "# Finally just get the mean of the remaining points\n",
    "final = np.mean(data, axis=0)\n",
    "\n",
    "C.append(final)\n",
    "\n",
    "#print(C)"
   ]
  },
  {
   "cell_type": "markdown",
   "metadata": {},
   "source": [
    "### Before k-means"
   ]
  },
  {
   "cell_type": "code",
   "execution_count": null,
   "metadata": {},
   "outputs": [],
   "source": [
    "print(C)\n",
    "\n",
    "data = dataset.data\n",
    "my_c = dataset.target\n",
    "plt.scatter(data[:, 0], data[:, 1], c=my_c)\n",
    "\n",
    "for centroid in C:\n",
    "    plt.scatter(centroid[0], centroid[1], c='cyan')"
   ]
  },
  {
   "cell_type": "markdown",
   "metadata": {},
   "source": [
    "### After k-means"
   ]
  },
  {
   "cell_type": "code",
   "execution_count": null,
   "metadata": {},
   "outputs": [],
   "source": [
    "C = np.array(C)\n",
    "\n",
    "est = KMeans(n_clusters=K, init=C, n_init=1)\n",
    "est.fit(dataset.data)\n",
    "\n",
    "data = dataset.data\n",
    "my_c = est.labels_\n",
    "plt.scatter(data[:, 0], data[:, 1], c=my_c)\n",
    "\n",
    "for centroid in est.cluster_centers_:\n",
    "    plt.scatter(centroid[0], centroid[1], c='cyan')"
   ]
  },
  {
   "cell_type": "markdown",
   "metadata": {},
   "source": [
    "### Vs k-means++ (50 restarts)"
   ]
  },
  {
   "cell_type": "code",
   "execution_count": null,
   "metadata": {},
   "outputs": [],
   "source": [
    "ari_me = skmetrics.adjusted_rand_score(dataset.target, est.labels_)\n",
    "\n",
    "est_kmpp = KMeans(n_clusters=K, n_init=50)\n",
    "est_kmpp.fit(dataset.data)\n",
    "ari_kmpp = skmetrics.adjusted_rand_score(dataset.target, est_kmpp.labels_)\n",
    "\n",
    "print(\"ARI\")\n",
    "print(\"Me:\", ari_me, \"\\tk-means++:\", ari_kmpp)\n",
    "\n",
    "print(\"INERTIA\")\n",
    "print(\"Me:\", est.inertia_, \"\\tk-means++:\", est_kmpp.inertia_)"
   ]
  },
  {
   "cell_type": "code",
   "execution_count": null,
   "metadata": {},
   "outputs": [],
   "source": []
  }
 ],
 "metadata": {
  "kernelspec": {
   "display_name": "Python 3",
   "language": "python",
   "name": "python3"
  },
  "language_info": {
   "codemirror_mode": {
    "name": "ipython",
    "version": 3
   },
   "file_extension": ".py",
   "mimetype": "text/x-python",
   "name": "python",
   "nbconvert_exporter": "python",
   "pygments_lexer": "ipython3",
   "version": "3.7.1"
  }
 },
 "nbformat": 4,
 "nbformat_minor": 2
}
