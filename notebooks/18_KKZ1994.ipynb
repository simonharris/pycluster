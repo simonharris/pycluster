{
 "cells": [
  {
   "cell_type": "code",
   "execution_count": null,
   "metadata": {
    "scrolled": true
   },
   "outputs": [],
   "source": [
    "import imports\n",
    "\n",
    "import numpy as np\n",
    "import sklearn.datasets as skdatasets\n",
    "\n",
    "from initialisations import kkz1994 as kkz\n",
    "from kmeans import distance_table"
   ]
  },
  {
   "cell_type": "code",
   "execution_count": 75,
   "metadata": {
    "scrolled": false
   },
   "outputs": [
    {
     "name": "stdout",
     "output_type": "stream",
     "text": [
      "[[5.1 3.5 1.4 0.2]\n",
      " [4.9 3.  1.4 0.2]\n",
      " [4.7 3.2 1.3 0.2]\n",
      " [4.6 3.1 1.5 0.2]\n",
      " [5.  3.6 1.4 0.2]\n",
      " [5.4 3.9 1.7 0.4]\n",
      " [4.6 3.4 1.4 0.3]\n",
      " [5.  3.4 1.5 0.2]\n",
      " [4.4 2.9 1.4 0.2]\n",
      " [4.9 3.1 1.5 0.1]]\n",
      "[[5.4 3.9 1.7 0.4]]\n",
      "CB: [[5.4 3.9 1.7 0.4]]\n",
      "[[0.38]\n",
      " [1.19]\n",
      " [1.18]\n",
      " [1.36]\n",
      " [0.38]\n",
      " [0.  ]\n",
      " [0.99]\n",
      " [0.49]\n",
      " [2.13]\n",
      " [1.02]]\n",
      "[0.38 1.19 1.18 1.36 0.38 0.   0.99 0.49 2.13 1.02]\n",
      "AMAX: 8\n",
      "NXT: [4.4 2.9 1.4 0.2]\n",
      "CB: [[5.4 3.9 1.7 0.4]\n",
      " [4.4 2.9 1.4 0.2]]\n",
      "[[0.38 0.85]\n",
      " [1.19 0.26]\n",
      " [1.18 0.19]\n",
      " [1.36 0.09]\n",
      " [0.38 0.85]\n",
      " [0.   2.13]\n",
      " [0.99 0.3 ]\n",
      " [0.49 0.62]\n",
      " [2.13 0.  ]\n",
      " [1.02 0.31]]\n",
      "[0.38 0.26 0.19 0.09 0.38 0.   0.3  0.49 0.   0.31]\n",
      "AMAX: 7\n",
      "NXT: [5.  3.4 1.5 0.2]\n",
      "CB: [[5.4 3.9 1.7 0.4]\n",
      " [4.4 2.9 1.4 0.2]\n",
      " [5.  3.4 1.5 0.2]]\n",
      "[[0.38 0.85 0.03]\n",
      " [1.19 0.26 0.18]\n",
      " [1.18 0.19 0.17]\n",
      " [1.36 0.09 0.25]\n",
      " [0.38 0.85 0.05]\n",
      " [0.   2.13 0.49]\n",
      " [0.99 0.3  0.18]\n",
      " [0.49 0.62 0.  ]\n",
      " [2.13 0.   0.62]\n",
      " [1.02 0.31 0.11]]\n",
      "[0.03 0.18 0.17 0.09 0.05 0.   0.18 0.   0.   0.11]\n",
      "AMAX: 6\n",
      "NXT: [4.6 3.4 1.4 0.3]\n",
      "[[5.4 3.9 1.7 0.4]\n",
      " [4.4 2.9 1.4 0.2]\n",
      " [5.  3.4 1.5 0.2]\n",
      " [4.6 3.4 1.4 0.3]]\n"
     ]
    }
   ],
   "source": [
    "K = 4\n",
    "\n",
    "dataset = skdatasets.load_iris()\n",
    "data = dataset.data[0:10]\n",
    "\n",
    "print(data)\n",
    "    \n",
    "norms = np.linalg.norm(data, axis=1)\n",
    "\n",
    "first = data[np.argmax(norms)]\n",
    "codebook = np.array([first])\n",
    "\n",
    "print(codebook)\n",
    "\n",
    "while codebook.shape[0] < K:\n",
    "    print(\"CB:\", codebook)\n",
    "    distances = distance_table(data, codebook)\n",
    "    print(distances)\n",
    "    mins = np.min(distances, axis=1)\n",
    "    print(mins) \n",
    "    amax = np.argmax(mins, axis=0)\n",
    "    print(\"AMAX:\", amax)\n",
    "    nxt = data[amax]\n",
    "    print(\"NXT:\", nxt)\n",
    "    codebook = np.append(codebook, [nxt], axis=0)\n",
    "    \n",
    "print(codebook)"
   ]
  },
  {
   "cell_type": "code",
   "execution_count": null,
   "metadata": {
    "scrolled": true
   },
   "outputs": [],
   "source": []
  },
  {
   "cell_type": "code",
   "execution_count": null,
   "metadata": {
    "scrolled": true
   },
   "outputs": [],
   "source": []
  }
 ],
 "metadata": {
  "kernelspec": {
   "display_name": "Python 3",
   "language": "python",
   "name": "python3"
  },
  "language_info": {
   "codemirror_mode": {
    "name": "ipython",
    "version": 3
   },
   "file_extension": ".py",
   "mimetype": "text/x-python",
   "name": "python",
   "nbconvert_exporter": "python",
   "pygments_lexer": "ipython3",
   "version": "3.7.1"
  }
 },
 "nbformat": 4,
 "nbformat_minor": 2
}
