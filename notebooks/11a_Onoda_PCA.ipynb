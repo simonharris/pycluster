{
 "cells": [
  {
   "cell_type": "code",
   "execution_count": 1,
   "metadata": {},
   "outputs": [],
   "source": [
    "import imports\n",
    "\n",
    "from datasets import loader\n",
    "from initialisations import onoda2012pca as onoda\n",
    "import nbutils"
   ]
  },
  {
   "cell_type": "markdown",
   "metadata": {},
   "source": [
    "### Show components"
   ]
  },
  {
   "cell_type": "code",
   "execution_count": 2,
   "metadata": {},
   "outputs": [
    {
     "name": "stdout",
     "output_type": "stream",
     "text": [
      "[[ 0.36138659 -0.08452251  0.85667061  0.3582892 ]\n",
      " [ 0.65658877  0.73016143 -0.17337266 -0.07548102]\n",
      " [-0.58202985  0.59791083  0.07623608  0.54583143]]\n"
     ]
    }
   ],
   "source": [
    "dataset = loader.load_iris()\n",
    "\n",
    "obj = onoda.OnodaPCA(dataset.data, 3)\n",
    "\n",
    "components = obj._find_components(dataset.data, 3)\n",
    "print(components)"
   ]
  },
  {
   "cell_type": "markdown",
   "metadata": {},
   "source": [
    "### Run K-Means"
   ]
  },
  {
   "cell_type": "code",
   "execution_count": 3,
   "metadata": {
    "scrolled": false
   },
   "outputs": [
    {
     "name": "stdout",
     "output_type": "stream",
     "text": [
      "Running HART\n",
      "=====================================================\n",
      "Accuracy Score: 1.0\n",
      "Adjusted Rand Index: 1.0\n",
      "NMI: 1.0\n",
      "Inertia: 48.333333333333336 \n",
      "\n",
      "Running IRIS\n",
      "=====================================================\n",
      "Accuracy Score: 0.8866666666666667\n",
      "Adjusted Rand Index: 0.7163421126838475\n",
      "NMI: 0.7419116631817837\n",
      "Inertia: 78.8556658259773 \n",
      "\n",
      "Running SOYS\n",
      "=====================================================\n",
      "Accuracy Score: 0.7872340425531915\n",
      "Adjusted Rand Index: 0.5634187422266892\n",
      "NMI: 0.7225156501894843\n",
      "Inertia: 208.15454545454548 \n",
      "\n",
      "Running WINE\n",
      "=====================================================\n",
      "Accuracy Score: 0.702247191011236\n",
      "Adjusted Rand Index: 0.37111371823084754\n",
      "NMI: 0.4287568597645354\n",
      "Inertia: 2370689.6867829687 \n",
      "\n",
      "Running WBCO\n",
      "=====================================================\n",
      "Accuracy Score: 0.9619326500732065\n",
      "Adjusted Rand Index: 0.8519538631795488\n",
      "NMI: 0.7545637910164786\n",
      "Inertia: 19323.204899819946 \n",
      "\n"
     ]
    }
   ],
   "source": [
    "nbutils.run_clustering(onoda)"
   ]
  }
 ],
 "metadata": {
  "kernelspec": {
   "display_name": "Python 3",
   "language": "python",
   "name": "python3"
  },
  "language_info": {
   "codemirror_mode": {
    "name": "ipython",
    "version": 3
   },
   "file_extension": ".py",
   "mimetype": "text/x-python",
   "name": "python",
   "nbconvert_exporter": "python",
   "pygments_lexer": "ipython3",
   "version": "3.7.1"
  }
 },
 "nbformat": 4,
 "nbformat_minor": 2
}
