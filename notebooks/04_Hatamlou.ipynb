{
 "cells": [
  {
   "cell_type": "markdown",
   "metadata": {},
   "source": [
    "# Hatamlou 2012 Binary Search Algorithm"
   ]
  },
  {
   "cell_type": "markdown",
   "metadata": {},
   "source": [
    "See: [In search of optimal centroids on data clustering using a binary search algorithm](https://www.sciencedirect.com/science/article/pii/S0167865512001961)"
   ]
  },
  {
   "cell_type": "code",
   "execution_count": 1,
   "metadata": {},
   "outputs": [],
   "source": [
    "import imports\n",
    "\n",
    "from initialisations import hatamlou2012 as hatamlou\n",
    "import nbutils"
   ]
  },
  {
   "cell_type": "code",
   "execution_count": 2,
   "metadata": {},
   "outputs": [
    {
     "name": "stdout",
     "output_type": "stream",
     "text": [
      "Running HART\n",
      "=====================================================\n",
      "Initial seeds:\n",
      "[[14.         21.          1.        ]\n",
      " [10.         28.33333333  1.33333333]\n",
      " [ 6.         33.66666667  1.66666667]] \n",
      "\n",
      "Accuracy Score: 0.625\n",
      "Adjusted Rand Index: 0.13043478260869565\n",
      "NMI: 0.4832741472564202\n",
      "Inertia: 61.083333333333336 \n",
      "\n",
      "Running IRIS\n",
      "=====================================================\n",
      "Initial seeds:\n",
      "[[5.2875     3.65       1.8625     0.1       ]\n",
      " [5.99375    2.8        4.69166667 1.525     ]\n",
      " [6.7        3.05       5.79583333 2.16875   ]] \n",
      "\n",
      "Accuracy Score: 0.8933333333333333\n",
      "Adjusted Rand Index: 0.7302382722834697\n",
      "NMI: 0.7581756800057784\n",
      "Inertia: 78.85144142614601 \n",
      "\n",
      "Running SOYS\n",
      "=====================================================\n",
      "Initial seeds:\n",
      "[[ 0.    0.    2.    0.    0.    1.    1.    1.    0.    1.    1.    0.\n",
      "   0.    2.    2.    0.    0.    0.    1.    0.    1.    2.    0.    0.\n",
      "   0.    0.    0.    3.    4.    0.    0.    0.    0.    0.    1.  ]\n",
      " [ 4.5   0.25  1.5   0.5   0.25  1.75  0.75  1.25  0.25  0.5   1.    1.25\n",
      "   0.    2.    2.    0.    0.    0.    1.    0.25  2.75  0.75  1.25  1.25\n",
      "   0.25  0.5   0.25 -0.25  4.    0.    0.    0.    0.    0.    0.25]\n",
      " [ 5.    0.5   1.    1.    0.5   1.5   1.5   1.5   0.5   1.    1.    0.5\n",
      "   0.    2.    2.    0.    0.    0.    1.    0.5   1.5   1.5   0.5   0.5\n",
      "   0.5   1.    0.5   0.5   4.    0.    0.    0.    0.    0.    0.5 ]\n",
      " [ 2.5   0.75  1.5   0.5   0.75  2.25  1.25  1.75  0.75  1.5   1.    0.75\n",
      "   0.    2.    2.    0.    0.    0.    1.   -0.25  1.25  1.25 -0.25  0.75\n",
      "  -0.25 -0.5  -0.25  3.25  4.    0.    0.    0.    0.    0.    0.75]] \n",
      "\n",
      "Accuracy Score: 0.7872340425531915\n",
      "Adjusted Rand Index: 0.5451598882908876\n",
      "NMI: 0.7157945615985007\n",
      "Inertia: 205.96373626373628 \n",
      "\n",
      "Running WINE\n",
      "=====================================================\n",
      "Initial seeds:\n",
      "[[1.28837500e+01 2.55250000e+00 2.16750000e+00 2.18500000e+01\n",
      "  9.02500000e+01 1.95000000e+00 1.61000000e+00 3.77500000e-01\n",
      "  1.30500000e+00 4.53000000e+00 9.07500000e-01 2.27000000e+00\n",
      "  4.88000000e+02]\n",
      " [1.32235417e+01 2.42666667e+00 2.38708333e+00 2.08166667e+01\n",
      "  1.00666667e+02 2.18916667e+00 1.60250000e+00 3.89166667e-01\n",
      "  1.46666667e+00 5.99916667e+00 8.90000000e-01 2.43000000e+00\n",
      "  7.45333333e+02]\n",
      " [1.35633333e+01 1.93833333e+00 2.40479167e+00 1.79083333e+01\n",
      "  1.11083333e+02 2.91333333e+00 2.86500000e+00 3.18333333e-01\n",
      "  2.07583333e+00 5.84333333e+00 1.08625000e+00 3.09000000e+00\n",
      "  1.21266667e+03]] \n",
      "\n",
      "Accuracy Score: 0.702247191011236\n",
      "Adjusted Rand Index: 0.37111371823084754\n",
      "NMI: 0.4287568597645354\n",
      "Inertia: 2370689.686782968 \n",
      "\n",
      "Running WBCO\n",
      "=====================================================\n",
      "Initial seeds:\n",
      "[[3.  1.  1.  1.  2.  1.  2.  1.  1. ]\n",
      " [7.5 6.5 6.5 5.5 5.5 7.5 6.5 6.5 2.5]] \n",
      "\n",
      "Accuracy Score: 0.9619326500732065\n",
      "Adjusted Rand Index: 0.8519538631795488\n",
      "NMI: 0.7545637910164786\n",
      "Inertia: 19323.204899819943 \n",
      "\n"
     ]
    }
   ],
   "source": [
    "nbutils.run_clustering(hatamlou)"
   ]
  }
 ],
 "metadata": {
  "kernelspec": {
   "display_name": "Python 3",
   "language": "python",
   "name": "python3"
  },
  "language_info": {
   "codemirror_mode": {
    "name": "ipython",
    "version": 3
   },
   "file_extension": ".py",
   "mimetype": "text/x-python",
   "name": "python",
   "nbconvert_exporter": "python",
   "pygments_lexer": "ipython3",
   "version": "3.7.1"
  }
 },
 "nbformat": 4,
 "nbformat_minor": 2
}
