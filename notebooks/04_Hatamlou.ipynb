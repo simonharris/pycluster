{
 "cells": [
  {
   "cell_type": "markdown",
   "metadata": {},
   "source": [
    "# Hatamlou 2012 Binary Search Algorithm"
   ]
  },
  {
   "cell_type": "markdown",
   "metadata": {},
   "source": [
    "See: [In search of optimal centroids on data clustering using a binary search algorithm](https://www.sciencedirect.com/science/article/pii/S0167865512001961)"
   ]
  },
  {
   "cell_type": "code",
   "execution_count": 25,
   "metadata": {},
   "outputs": [],
   "source": [
    "import imports\n",
    "import numpy as np\n",
    "import sklearn.datasets as skdatasets\n",
    "import sklearn.metrics as skmetrics\n",
    "from initialisations import hatamlou2012 as hatamlou\n",
    "#from metrics import accuracy\n",
    "import kmeans"
   ]
  },
  {
   "cell_type": "code",
   "execution_count": 2,
   "metadata": {},
   "outputs": [],
   "source": [
    "dataset = skdatasets.load_iris()\n",
    "data = dataset.data\n",
    "target = dataset.target\n",
    "\n",
    "K = 3"
   ]
  },
  {
   "cell_type": "markdown",
   "metadata": {},
   "source": [
    "### Define a temporary \"objective function\""
   ]
  },
  {
   "cell_type": "code",
   "execution_count": 3,
   "metadata": {},
   "outputs": [],
   "source": [
    "def objective_function(labels, target):\n",
    "    return skmetrics.adjusted_rand_score(labels, target) \n",
    "    "
   ]
  },
  {
   "cell_type": "markdown",
   "metadata": {},
   "source": [
    "### Find min and max"
   ]
  },
  {
   "cell_type": "code",
   "execution_count": 4,
   "metadata": {},
   "outputs": [
    {
     "name": "stdout",
     "output_type": "stream",
     "text": [
      "[4.3 2.  1.  0.1]\n",
      "[7.9 4.4 6.9 2.5]\n"
     ]
    }
   ],
   "source": [
    "min_ds, max_ds = hatamlou.find_min_max(data)\n",
    "\n",
    "print(min_ds)\n",
    "print(max_ds)"
   ]
  },
  {
   "cell_type": "markdown",
   "metadata": {},
   "source": [
    "### Find G"
   ]
  },
  {
   "cell_type": "code",
   "execution_count": 5,
   "metadata": {},
   "outputs": [
    {
     "name": "stdout",
     "output_type": "stream",
     "text": [
      "[1.2        0.8        1.96666667 0.8       ]\n"
     ]
    }
   ],
   "source": [
    "G = (max_ds - min_ds)/K\n",
    "\n",
    "print(G)"
   ]
  },
  {
   "cell_type": "markdown",
   "metadata": {},
   "source": [
    "### Suggest initial centroids"
   ]
  },
  {
   "cell_type": "code",
   "execution_count": 28,
   "metadata": {
    "scrolled": true
   },
   "outputs": [
    {
     "name": "stdout",
     "output_type": "stream",
     "text": [
      "[4.3 2.  1.  0.1]\n",
      "[5.5        2.8        2.96666667 0.9       ]\n",
      "[6.7        3.6        4.93333333 1.7       ]\n"
     ]
    }
   ],
   "source": [
    "centroids = []\n",
    "\n",
    "for i in range(0, K):\n",
    "    Ci = min_ds + i * G\n",
    "    centroids.append(Ci)\n",
    "    print(Ci)\n",
    "    \n",
    "centroids = np.array(centroids)"
   ]
  },
  {
   "cell_type": "markdown",
   "metadata": {},
   "source": [
    "### Clustering function"
   ]
  },
  {
   "cell_type": "code",
   "execution_count": 29,
   "metadata": {},
   "outputs": [],
   "source": [
    "def do_clustering(data, centroids):\n",
    "\n",
    "    distances = kmeans.distance_table(data, centroids)\n",
    "\n",
    "    U = distances.argmin(1)\n",
    "\n",
    "    clusters = []\n",
    "\n",
    "    for k in range(len(centroids)):\n",
    "        cluster = data[U==k, :]\n",
    "        clusters.append(cluster)\n",
    "\n",
    "    return clusters, U   \n",
    "        "
   ]
  },
  {
   "cell_type": "markdown",
   "metadata": {},
   "source": [
    "### Initial assignment of data to centroids"
   ]
  },
  {
   "cell_type": "code",
   "execution_count": 30,
   "metadata": {},
   "outputs": [
    {
     "name": "stdout",
     "output_type": "stream",
     "text": [
      "0.3898597211698147\n"
     ]
    }
   ],
   "source": [
    "clusters, labels = do_clustering(data, centroids)\n",
    "\n",
    "score = objective_function(U, target)\n",
    "print(score)"
   ]
  },
  {
   "cell_type": "markdown",
   "metadata": {},
   "source": [
    "### Main reassignment loops"
   ]
  },
  {
   "cell_type": "code",
   "execution_count": 13,
   "metadata": {},
   "outputs": [
    {
     "name": "stdout",
     "output_type": "stream",
     "text": [
      "4.3\n",
      "2.0\n",
      "1.0\n",
      "0.1\n",
      "5.5\n",
      "2.8000000000000003\n",
      "2.966666666666667\n",
      "0.8999999999999999\n",
      "6.7\n",
      "3.6000000000000005\n",
      "4.933333333333334\n",
      "1.7\n"
     ]
    }
   ],
   "source": [
    "## NB: termination criterion?\n",
    "\n",
    "for centroid in centroids:\n",
    "    for attribute in centroid:\n",
    "        \n",
    "        print(attribute)"
   ]
  },
  {
   "cell_type": "code",
   "execution_count": null,
   "metadata": {},
   "outputs": [],
   "source": []
  }
 ],
 "metadata": {
  "kernelspec": {
   "display_name": "Python 3",
   "language": "python",
   "name": "python3"
  },
  "language_info": {
   "codemirror_mode": {
    "name": "ipython",
    "version": 3
   },
   "file_extension": ".py",
   "mimetype": "text/x-python",
   "name": "python",
   "nbconvert_exporter": "python",
   "pygments_lexer": "ipython3",
   "version": "3.7.1"
  }
 },
 "nbformat": 4,
 "nbformat_minor": 2
}
