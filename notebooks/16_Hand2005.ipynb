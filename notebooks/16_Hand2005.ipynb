{
 "cells": [
  {
   "cell_type": "code",
   "execution_count": 1,
   "metadata": {},
   "outputs": [],
   "source": [
    "import imports\n",
    "\n",
    "import numpy as np\n",
    "from sklearn.cluster import KMeans\n",
    "\n",
    "from initialisations import forgy1965 as forgy\n",
    "from initialisations import hand2005 as hand\n",
    "from datasets import loader"
   ]
  },
  {
   "cell_type": "code",
   "execution_count": 2,
   "metadata": {},
   "outputs": [],
   "source": [
    "dataset = loader.load_iris()\n",
    "data = dataset.data\n",
    "target = dataset.target\n",
    "\n",
    "K = 3\n",
    "\n",
    "def run_k_means(data, K, seeds=None):\n",
    "    '''Simulate the Matlab interface a little'''\n",
    "    \n",
    "    if seeds is None:\n",
    "        seeds = forgy.generate(data, K, {})\n",
    "    \n",
    "    est = KMeans(n_clusters=K, n_init=1, init=seeds)\n",
    "    est.fit(data)\n",
    "    return est.labels_, est.cluster_centers_, est.inertia_"
   ]
  },
  {
   "cell_type": "code",
   "execution_count": 3,
   "metadata": {},
   "outputs": [
    {
     "name": "stdout",
     "output_type": "stream",
     "text": [
      "[0 0 0 0 0 0 0 0 0 0 0 0 0 0 0 0 0 0 0 0 0 0 0 0 0 0 0 0 0 0 0 0 0 0 0 0 0\n",
      " 0 0 0 0 0 0 0 0 0 0 0 0 0 1 1 2 1 1 1 1 1 1 1 1 1 1 1 1 1 1 1 1 1 1 1 1 1\n",
      " 1 1 1 2 1 1 1 1 1 1 1 1 1 1 1 1 1 1 1 1 1 1 1 1 1 1 2 1 2 2 2 2 1 2 2 2 2\n",
      " 2 2 1 1 2 2 2 2 1 2 1 2 1 2 2 1 1 2 2 2 2 2 1 2 2 2 2 1 2 2 2 1 2 2 2 1 2\n",
      " 2 1]\n",
      "[[5.006      3.428      1.462      0.246     ]\n",
      " [5.9016129  2.7483871  4.39354839 1.43387097]\n",
      " [6.85       3.07368421 5.74210526 2.07105263]]\n",
      "78.85144142614601\n"
     ]
    }
   ],
   "source": [
    "U, Z_init, SSE = run_k_means(data, K)\n",
    "\n",
    "print(U)\n",
    "print(Z_init)\n",
    "print(SSE)\n",
    "\n",
    "alpha = 0.3\n",
    "beta = 0.95\n",
    "\n",
    "loops = 100"
   ]
  },
  {
   "cell_type": "code",
   "execution_count": 4,
   "metadata": {},
   "outputs": [],
   "source": [
    "for i in range(0, loops):\n",
    "\n",
    "    r = np.random.random_sample(len(U),)\n",
    " \n",
    "    for index in np.where(r<alpha)[0]:\n",
    "        OtherValuesOfK = np.where(range(0, K) != U[index])[0]\n",
    "        U[index] = np.random.choice(OtherValuesOfK)    \n",
    "     \n",
    "    EmptyCluster = False\n",
    "    \n",
    "    New_Z_init = np.zeros(Z_init.shape)\n",
    "    \n",
    "    for k in range(0, K):\n",
    "        if (sum(U==k) == 0):\n",
    "            EmptyCluster = True; break\n",
    "        \n",
    "        New_Z_init[k] = np.mean(data[U==k], axis=0)\n",
    "        \n",
    "    if EmptyCluster:\n",
    "        print(\"Empty cluster found\")\n",
    "        continue\n",
    "        \n",
    "    NewU, _, NewSSE = run_k_means(data, K, New_Z_init)\n",
    "    \n",
    "    if NewSSE < SSE:\n",
    "        SSE = NewSSE\n",
    "        U = NewU\n",
    "        Z_init = New_Z_init\n",
    "        print(NewSSE)\n",
    "        \n",
    "    alpha = alpha * beta"
   ]
  },
  {
   "cell_type": "code",
   "execution_count": 5,
   "metadata": {},
   "outputs": [
    {
     "name": "stdout",
     "output_type": "stream",
     "text": [
      "78.85144142614601\n",
      "[[5.006      3.428      1.462      0.246     ]\n",
      " [5.9016129  2.7483871  4.39354839 1.43387097]\n",
      " [6.85       3.07368421 5.74210526 2.07105263]]\n"
     ]
    }
   ],
   "source": [
    "print(SSE)\n",
    "print(Z_init)"
   ]
  },
  {
   "cell_type": "code",
   "execution_count": null,
   "metadata": {},
   "outputs": [],
   "source": []
  }
 ],
 "metadata": {
  "kernelspec": {
   "display_name": "Python 3",
   "language": "python",
   "name": "python3"
  },
  "language_info": {
   "codemirror_mode": {
    "name": "ipython",
    "version": 3
   },
   "file_extension": ".py",
   "mimetype": "text/x-python",
   "name": "python",
   "nbconvert_exporter": "python",
   "pygments_lexer": "ipython3",
   "version": "3.7.1"
  }
 },
 "nbformat": 4,
 "nbformat_minor": 2
}
