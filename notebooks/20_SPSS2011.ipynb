{
 "cells": [
  {
   "cell_type": "code",
   "execution_count": 1,
   "metadata": {},
   "outputs": [],
   "source": [
    "import imports\n",
    "\n",
    "from initialisations import spss2010 as spss\n",
    "import nbutils"
   ]
  },
  {
   "cell_type": "code",
   "execution_count": 2,
   "metadata": {
    "scrolled": true
   },
   "outputs": [
    {
     "name": "stdout",
     "output_type": "stream",
     "text": [
      "Running HART\n",
      "=====================================================\n",
      "Accuracy Score: 0.75\n",
      "Adjusted Rand Index: 0.36\n",
      "NMI: 0.6674193149491419\n",
      "Inertia: 66.10000000000001 \n",
      "\n",
      "Running IRIS\n",
      "=====================================================\n",
      "Accuracy Score: 0.8933333333333333\n",
      "Adjusted Rand Index: 0.7302382722834697\n",
      "NMI: 0.7581756800057784\n",
      "Inertia: 78.85144142614601 \n",
      "\n",
      "Running SOYS\n",
      "=====================================================\n",
      "Accuracy Score: 0.7872340425531915\n",
      "Adjusted Rand Index: 0.5451598882908876\n",
      "NMI: 0.7157945615985007\n",
      "Inertia: 205.96373626373628 \n",
      "\n",
      "Running WINE\n",
      "=====================================================\n",
      "Accuracy Score: 0.702247191011236\n",
      "Adjusted Rand Index: 0.37111371823084754\n",
      "NMI: 0.4287568597645354\n",
      "Inertia: 2370689.686782968 \n",
      "\n",
      "Running WBCO\n",
      "=====================================================\n",
      "Accuracy Score: 0.9604685212298683\n",
      "Adjusted Rand Index: 0.8464675664733539\n",
      "NMI: 0.7478287711382018\n",
      "Inertia: 19323.173817064977 \n",
      "\n"
     ]
    }
   ],
   "source": [
    "nbutils.run_clustering(spss)"
   ]
  }
 ],
 "metadata": {
  "kernelspec": {
   "display_name": "Python 3",
   "language": "python",
   "name": "python3"
  },
  "language_info": {
   "codemirror_mode": {
    "name": "ipython",
    "version": 3
   },
   "file_extension": ".py",
   "mimetype": "text/x-python",
   "name": "python",
   "nbconvert_exporter": "python",
   "pygments_lexer": "ipython3",
   "version": "3.7.1"
  }
 },
 "nbformat": 4,
 "nbformat_minor": 2
}
