{
 "cells": [
  {
   "cell_type": "markdown",
   "metadata": {},
   "source": [
    "## MDCGEN\n",
    "\n",
    "**See:**\n",
    "\n",
    "* Original article: https://link.springer.com/article/10.1007/s00357-019-9312-3\n",
    "* JSON generator: https://www.cn.tuwien.ac.at/data-analysis/mdcgen/\n",
    "* Python/Github: https://github.com/CN-TU/mdcgenpy\n",
    "\n",
    "**TODO:**\n",
    "\n",
    "* Can we even get the labels this way?"
   ]
  },
  {
   "cell_type": "code",
   "execution_count": 11,
   "metadata": {},
   "outputs": [
    {
     "name": "stdout",
     "output_type": "stream",
     "text": [
      "(array([[0.22522742, 0.5578001 ],\n",
      "       [0.39080526, 0.79331274],\n",
      "       [0.79920587, 0.15579981],\n",
      "       ...,\n",
      "       [0.57392246, 0.74075198],\n",
      "       [0.8055478 , 0.83944631],\n",
      "       [0.58737437, 0.7193708 ]]), array([[4],\n",
      "       [1],\n",
      "       [3],\n",
      "       ...,\n",
      "       [0],\n",
      "       [2],\n",
      "       [0]]))\n"
     ]
    }
   ],
   "source": [
    "import mdcgenpy\n",
    "\n",
    "# Initialize cluster generator (all parameters are optional)\n",
    "cluster_gen = mdcgenpy.clusters.ClusterGenerator()\n",
    "\n",
    "# Get tuple with a numpy array with samples and another with labels\n",
    "data = cluster_gen.generate_data()\n",
    "\n",
    "print(\"With all defaults:\")\n",
    "print(data)"
   ]
  },
  {
   "cell_type": "markdown",
   "metadata": {},
   "source": [
    "### Example config JSON:\n",
    "\n",
    "    {\n",
    "      \"n_samples\" : 2000,\n",
    "      \"n_feats\" : 2,\n",
    "      \"k\" : 10,\n",
    "      \"seed\" : 2017,\n",
    "      \"possible_distributions\" : [\n",
    "        \"gaussian\"\n",
    "      ],\n",
    "      \"mv\" : true,\n",
    "      \"compactness_factor\" : 0.1,\n",
    "      \"rotation\" : false,\n",
    "      \"alpha_n\" : 1,\n",
    "      \"corr\" : 0.0,\n",
    "      \"outliers\" : 10,\n",
    "      \"silhouette_eval\" : true\n",
    "    }"
   ]
  },
  {
   "cell_type": "code",
   "execution_count": null,
   "metadata": {},
   "outputs": [],
   "source": []
  }
 ],
 "metadata": {
  "kernelspec": {
   "display_name": "Python 3",
   "language": "python",
   "name": "python3"
  },
  "language_info": {
   "codemirror_mode": {
    "name": "ipython",
    "version": 3
   },
   "file_extension": ".py",
   "mimetype": "text/x-python",
   "name": "python",
   "nbconvert_exporter": "python",
   "pygments_lexer": "ipython3",
   "version": "3.7.1"
  }
 },
 "nbformat": 4,
 "nbformat_minor": 2
}
