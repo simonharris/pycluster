{
 "cells": [
  {
   "cell_type": "code",
   "execution_count": 1,
   "metadata": {},
   "outputs": [],
   "source": [
    "import imports\n",
    "from sklearn.cluster import KMeans\n",
    "import sklearn.datasets as skdatasets\n",
    "import sklearn.metrics as skmetrics\n",
    "from metrics import accuracy, nmi\n",
    "from initialisations import onoda2012 as onoda\n",
    "#from sklearn import preprocessing"
   ]
  },
  {
   "cell_type": "markdown",
   "metadata": {},
   "source": [
    "## Iris"
   ]
  },
  {
   "cell_type": "code",
   "execution_count": null,
   "metadata": {},
   "outputs": [],
   "source": [
    "dataset = skdatasets.load_iris()\n",
    "#data = preprocessing.normalize(dataset.data)\n",
    "data = dataset.data\n",
    "target = dataset.target\n",
    "\n",
    "K = 3\n",
    "\n",
    "centroids = onoda.generate(data, K, {'method':'ICA'})\n",
    "\n",
    "print(centroids)\n",
    "\n",
    "est = KMeans(n_clusters=K, n_init=1, init=centroids)\n",
    "est.fit(data)\n",
    "print(est.cluster_centers_)"
   ]
  },
  {
   "cell_type": "markdown",
   "metadata": {},
   "source": [
    "### Iris Metrics"
   ]
  },
  {
   "cell_type": "code",
   "execution_count": null,
   "metadata": {
    "scrolled": true
   },
   "outputs": [],
   "source": [
    "acc = accuracy.score(target, est.labels_)\n",
    "ari = skmetrics.adjusted_rand_score(target, est.labels_)\n",
    "nsc = nmi.score(target, est.labels_)\n",
    "\n",
    "print(\"Accuracy Score:\", acc)\n",
    "print(\"Adjusted Rand Index:\", ari)\n",
    "print(\"NMI:\", nsc)\n",
    "print(\"Inertia:\", est.inertia_)"
   ]
  },
  {
   "cell_type": "markdown",
   "metadata": {},
   "source": [
    "## Wine"
   ]
  },
  {
   "cell_type": "code",
   "execution_count": null,
   "metadata": {},
   "outputs": [],
   "source": [
    "dataset = skdatasets.load_wine()\n",
    "#data = preprocessing.normalize(dataset.data)\n",
    "data = dataset.data\n",
    "target = dataset.target\n",
    "\n",
    "K = 3\n",
    "\n",
    "centroids = onoda.generate(data, K, {'method':'ICA'})\n",
    "\n",
    "print(centroids)\n",
    "\n",
    "est = KMeans(n_clusters=K, n_init=1, init=centroids)\n",
    "est.fit(data)\n",
    "print(est.cluster_centers_)"
   ]
  },
  {
   "cell_type": "markdown",
   "metadata": {},
   "source": [
    "### Wine Metrics"
   ]
  },
  {
   "cell_type": "code",
   "execution_count": null,
   "metadata": {},
   "outputs": [],
   "source": [
    "acc = accuracy.score(target, est.labels_)\n",
    "ari = skmetrics.adjusted_rand_score(target, est.labels_)\n",
    "nsc = nmi.score(target, est.labels_)\n",
    "\n",
    "print(\"Accuracy Score:\", acc)\n",
    "print(\"Adjusted Rand Index:\", ari)\n",
    "print(\"NMI:\", nsc)\n",
    "print(\"Inertia:\", est.inertia_)"
   ]
  }
 ],
 "metadata": {
  "kernelspec": {
   "display_name": "Python 3",
   "language": "python",
   "name": "python3"
  },
  "language_info": {
   "codemirror_mode": {
    "name": "ipython",
    "version": 3
   },
   "file_extension": ".py",
   "mimetype": "text/x-python",
   "name": "python",
   "nbconvert_exporter": "python",
   "pygments_lexer": "ipython3",
   "version": "3.7.1"
  }
 },
 "nbformat": 4,
 "nbformat_minor": 2
}
