{
 "cells": [
  {
   "cell_type": "code",
   "execution_count": 1,
   "metadata": {},
   "outputs": [],
   "source": [
    "import imports\n",
    "import nbutils\n",
    "from initialisations import onoda2012 as onoda"
   ]
  },
  {
   "cell_type": "code",
   "execution_count": 2,
   "metadata": {},
   "outputs": [
    {
     "data": {
      "application/javascript": [
       "IPython.OutputArea.prototype._should_scroll = function(lines) {\n",
       "    return false;\n",
       "}\n"
      ],
      "text/plain": [
       "<IPython.core.display.Javascript object>"
      ]
     },
     "metadata": {},
     "output_type": "display_data"
    }
   ],
   "source": [
    "%%javascript\n",
    "IPython.OutputArea.prototype._should_scroll = function(lines) {\n",
    "    return false;\n",
    "}"
   ]
  },
  {
   "cell_type": "code",
   "execution_count": 3,
   "metadata": {
    "scrolled": true
   },
   "outputs": [
    {
     "name": "stdout",
     "output_type": "stream",
     "text": [
      "Running IRIS\n",
      "=====================================================\n",
      "\n",
      "Initial seeds:\n",
      "[[4.5 2.3 1.3 0.3]\n",
      " [6.3 3.3 6.  2.5]\n",
      " [7.7 2.6 6.9 2.3]] \n",
      "\n",
      "Discovered centroids:\n",
      "[[5.006      3.428      1.462      0.246     ]\n",
      " [5.9016129  2.7483871  4.39354839 1.43387097]\n",
      " [6.85       3.07368421 5.74210526 2.07105263]] \n",
      "\n",
      "Accuracy Score: 0.8933333333333333\n",
      "Adjusted Rand Index: 0.7302382722834697\n",
      "NMI: 0.7581756800057784\n",
      "Inertia: 78.85144142614601\n",
      "\n",
      "\n",
      "Running WINE\n",
      "=====================================================\n",
      "\n",
      "Initial seeds:\n",
      "[[1.242e+01 4.430e+00 2.730e+00 2.650e+01 1.020e+02 2.200e+00 2.130e+00\n",
      "  4.300e-01 1.710e+00 2.080e+00 9.200e-01 3.120e+00 3.650e+02]\n",
      " [1.221e+01 1.190e+00 1.750e+00 1.680e+01 1.510e+02 1.850e+00 1.280e+00\n",
      "  1.400e-01 2.500e+00 2.850e+00 1.280e+00 3.070e+00 7.180e+02]\n",
      " [1.217e+01 1.450e+00 2.530e+00 1.900e+01 1.040e+02 1.890e+00 1.750e+00\n",
      "  4.500e-01 1.030e+00 2.950e+00 1.450e+00 2.230e+00 3.550e+02]] \n",
      "\n",
      "Discovered centroids:\n",
      "[[1.29298387e+01 2.50403226e+00 2.40806452e+00 1.98903226e+01\n",
      "  1.03596774e+02 2.11112903e+00 1.58403226e+00 3.88387097e-01\n",
      "  1.50338710e+00 5.65032258e+00 8.83967742e-01 2.36548387e+00\n",
      "  7.28338710e+02]\n",
      " [1.38044681e+01 1.88340426e+00 2.42617021e+00 1.70234043e+01\n",
      "  1.05510638e+02 2.86723404e+00 3.01425532e+00 2.85319149e-01\n",
      "  1.91042553e+00 5.70255319e+00 1.07829787e+00 3.11404255e+00\n",
      "  1.19514894e+03]\n",
      " [1.25166667e+01 2.49420290e+00 2.28855072e+00 2.08231884e+01\n",
      "  9.23478261e+01 2.07072464e+00 1.75840580e+00 3.90144928e-01\n",
      "  1.45188406e+00 4.08695651e+00 9.41159420e-01 2.49072464e+00\n",
      "  4.58231884e+02]] \n",
      "\n",
      "Accuracy Score: 0.702247191011236\n",
      "Adjusted Rand Index: 0.37111371823084754\n",
      "NMI: 0.4287568597645354\n",
      "Inertia: 2370689.686782968\n",
      "\n",
      "\n",
      "Running WBCO\n",
      "=====================================================\n",
      "\n",
      "Initial seeds:\n",
      "[[ 5 10 10  3  8  1  5 10  3]\n",
      " [ 5  5  5  6  3 10  3  1  1]] \n",
      "\n",
      "Discovered centroids:\n",
      "[[7.17391304 6.8        6.73478261 5.73913043 5.47826087 7.93043478\n",
      "  6.10869565 6.03913043 2.56956522]\n",
      " [3.05518764 1.29801325 1.42825607 1.35320088 2.09492274 1.31788079\n",
      "  2.09271523 1.26048565 1.11258278]] \n",
      "\n",
      "Accuracy Score: 0.9604685212298683\n",
      "Adjusted Rand Index: 0.8464675664733539\n",
      "NMI: 0.7478287711382018\n",
      "Inertia: 19323.173817064977\n",
      "\n",
      "\n"
     ]
    }
   ],
   "source": [
    "nbutils.run_clustering(onoda, {'method':'ICA'})"
   ]
  }
 ],
 "metadata": {
  "kernelspec": {
   "display_name": "Python 3",
   "language": "python",
   "name": "python3"
  },
  "language_info": {
   "codemirror_mode": {
    "name": "ipython",
    "version": 3
   },
   "file_extension": ".py",
   "mimetype": "text/x-python",
   "name": "python",
   "nbconvert_exporter": "python",
   "pygments_lexer": "ipython3",
   "version": "3.7.1"
  }
 },
 "nbformat": 4,
 "nbformat_minor": 2
}
