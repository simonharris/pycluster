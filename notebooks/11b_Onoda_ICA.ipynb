{
 "cells": [
  {
   "cell_type": "code",
   "execution_count": 1,
   "metadata": {},
   "outputs": [],
   "source": [
    "import imports\n",
    "from sklearn.cluster import KMeans\n",
    "import sklearn.datasets as skdatasets\n",
    "import nbutils\n",
    "from initialisations import onoda2012 as onoda\n",
    "#from sklearn import preprocessing"
   ]
  },
  {
   "cell_type": "markdown",
   "metadata": {},
   "source": [
    "## Iris"
   ]
  },
  {
   "cell_type": "code",
   "execution_count": 2,
   "metadata": {},
   "outputs": [
    {
     "name": "stdout",
     "output_type": "stream",
     "text": [
      "[[7.7 2.6 6.9 2.3]\n",
      " [6.3 3.3 6.  2.5]\n",
      " [4.5 2.3 1.3 0.3]]\n",
      "[[6.85       3.07368421 5.74210526 2.07105263]\n",
      " [5.9016129  2.7483871  4.39354839 1.43387097]\n",
      " [5.006      3.428      1.462      0.246     ]]\n"
     ]
    }
   ],
   "source": [
    "dataset = skdatasets.load_iris()\n",
    "#data = preprocessing.normalize(dataset.data)\n",
    "data = dataset.data\n",
    "target = dataset.target\n",
    "\n",
    "K = 3\n",
    "\n",
    "centroids = onoda.generate(data, K, {'method':'ICA'})\n",
    "\n",
    "print(centroids)\n",
    "\n",
    "est = KMeans(n_clusters=K, n_init=1, init=centroids)\n",
    "est.fit(data)\n",
    "print(est.cluster_centers_)"
   ]
  },
  {
   "cell_type": "markdown",
   "metadata": {},
   "source": [
    "### Iris Metrics"
   ]
  },
  {
   "cell_type": "code",
   "execution_count": 3,
   "metadata": {
    "scrolled": true
   },
   "outputs": [
    {
     "name": "stdout",
     "output_type": "stream",
     "text": [
      "Accuracy Score: 0.8933333333333333\n",
      "Adjusted Rand Index: 0.7302382722834697\n",
      "NMI: 0.7581756800057784\n",
      "Inertia: 78.85144142614601\n"
     ]
    }
   ],
   "source": [
    "nbutils.run_metrics(target, est)"
   ]
  },
  {
   "cell_type": "markdown",
   "metadata": {},
   "source": [
    "## Wine"
   ]
  },
  {
   "cell_type": "code",
   "execution_count": 4,
   "metadata": {},
   "outputs": [
    {
     "name": "stdout",
     "output_type": "stream",
     "text": [
      "[[1.217e+01 1.450e+00 2.530e+00 1.900e+01 1.040e+02 1.890e+00 1.750e+00\n",
      "  4.500e-01 1.030e+00 2.950e+00 1.450e+00 2.230e+00 3.550e+02]\n",
      " [1.208e+01 1.330e+00 2.300e+00 2.360e+01 7.000e+01 2.200e+00 1.590e+00\n",
      "  4.200e-01 1.380e+00 1.740e+00 1.070e+00 3.210e+00 6.250e+02]\n",
      " [1.438e+01 1.870e+00 2.380e+00 1.200e+01 1.020e+02 3.300e+00 3.640e+00\n",
      "  2.900e-01 2.960e+00 7.500e+00 1.200e+00 3.000e+00 1.547e+03]]\n",
      "[[1.25166667e+01 2.49420290e+00 2.28855072e+00 2.08231884e+01\n",
      "  9.23478261e+01 2.07072464e+00 1.75840580e+00 3.90144928e-01\n",
      "  1.45188406e+00 4.08695651e+00 9.41159420e-01 2.49072464e+00\n",
      "  4.58231884e+02]\n",
      " [1.29298387e+01 2.50403226e+00 2.40806452e+00 1.98903226e+01\n",
      "  1.03596774e+02 2.11112903e+00 1.58403226e+00 3.88387097e-01\n",
      "  1.50338710e+00 5.65032258e+00 8.83967742e-01 2.36548387e+00\n",
      "  7.28338710e+02]\n",
      " [1.38044681e+01 1.88340426e+00 2.42617021e+00 1.70234043e+01\n",
      "  1.05510638e+02 2.86723404e+00 3.01425532e+00 2.85319149e-01\n",
      "  1.91042553e+00 5.70255319e+00 1.07829787e+00 3.11404255e+00\n",
      "  1.19514894e+03]]\n"
     ]
    }
   ],
   "source": [
    "dataset = skdatasets.load_wine()\n",
    "#data = preprocessing.normalize(dataset.data)\n",
    "data = dataset.data\n",
    "target = dataset.target\n",
    "\n",
    "K = 3\n",
    "\n",
    "centroids = onoda.generate(data, K, {'method':'ICA'})\n",
    "\n",
    "print(centroids)\n",
    "\n",
    "est = KMeans(n_clusters=K, n_init=1, init=centroids)\n",
    "est.fit(data)\n",
    "print(est.cluster_centers_)"
   ]
  },
  {
   "cell_type": "markdown",
   "metadata": {},
   "source": [
    "### Wine Metrics"
   ]
  },
  {
   "cell_type": "code",
   "execution_count": 5,
   "metadata": {},
   "outputs": [
    {
     "name": "stdout",
     "output_type": "stream",
     "text": [
      "Accuracy Score: 0.702247191011236\n",
      "Adjusted Rand Index: 0.37111371823084754\n",
      "NMI: 0.4287568597645354\n",
      "Inertia: 2370689.686782968\n"
     ]
    }
   ],
   "source": [
    "nbutils.run_metrics(target, est)"
   ]
  },
  {
   "cell_type": "code",
   "execution_count": null,
   "metadata": {},
   "outputs": [],
   "source": []
  }
 ],
 "metadata": {
  "kernelspec": {
   "display_name": "Python 3",
   "language": "python",
   "name": "python3"
  },
  "language_info": {
   "codemirror_mode": {
    "name": "ipython",
    "version": 3
   },
   "file_extension": ".py",
   "mimetype": "text/x-python",
   "name": "python",
   "nbconvert_exporter": "python",
   "pygments_lexer": "ipython3",
   "version": "3.7.1"
  }
 },
 "nbformat": 4,
 "nbformat_minor": 2
}
