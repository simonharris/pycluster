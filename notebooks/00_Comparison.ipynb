{
 "cells": [
  {
   "cell_type": "markdown",
   "metadata": {},
   "source": [
    "# K-Means trial run"
   ]
  },
  {
   "cell_type": "markdown",
   "metadata": {},
   "source": [
    "Run own implementation of k-means alongside scikit-learn to ensure results are consistent."
   ]
  },
  {
   "cell_type": "markdown",
   "metadata": {},
   "source": [
    "## 0. Initial setup and configuration"
   ]
  },
  {
   "cell_type": "code",
   "execution_count": 1,
   "metadata": {},
   "outputs": [],
   "source": [
    "import imports\n",
    "import sklearn.datasets as skdatasets\n",
    "import sklearn.cluster as skcluster\n",
    "import sklearn.metrics as skmetrics    \n",
    "import kmeans\n",
    "from metrics import accuracy\n",
    "from initialisations import random, ikmeans, erisoglu"
   ]
  },
  {
   "cell_type": "markdown",
   "metadata": {},
   "source": [
    "Configuration available:"
   ]
  },
  {
   "cell_type": "code",
   "execution_count": 2,
   "metadata": {},
   "outputs": [],
   "source": [
    "datasets = {\n",
    "    'iris':  skdatasets.load_iris,\n",
    "    'wine':  skdatasets.load_wine,\n",
    "    'bc':    skdatasets.load_breast_cancer,\n",
    "}\n",
    "\n",
    "algorithms = {\n",
    "    'random': random.generate,\n",
    "    'ikmeans': ikmeans.generate,\n",
    "    'erisoglu': erisoglu.generate,\n",
    "}                "
   ]
  },
  {
   "cell_type": "markdown",
   "metadata": {},
   "source": [
    "Set up the options for this run:"
   ]
  },
  {
   "cell_type": "code",
   "execution_count": 3,
   "metadata": {},
   "outputs": [],
   "source": [
    "args = {\n",
    "    'dataset':'iris',\n",
    "    #'dataset':'wine',\n",
    "    #'dataset':'bc',\n",
    "    #'algorithm':'random',\n",
    "    #'algorithm':'ikmeans',\n",
    "    'algorithm':'erisoglu',\n",
    "    'K':3\n",
    "}"
   ]
  },
  {
   "cell_type": "markdown",
   "metadata": {},
   "source": [
    "Run some setup code:"
   ]
  },
  {
   "cell_type": "code",
   "execution_count": 4,
   "metadata": {},
   "outputs": [],
   "source": [
    "dataloader = datasets[args['dataset']]\n",
    "initialiser = algorithms[args['algorithm']]\n",
    "K = args['K']\n",
    "\n",
    "dataset = dataloader()\n",
    "data = dataset.data\n",
    "\n",
    "if args['algorithm'] == 'ikmeans':\n",
    "    data = ikmeans.standardise(data)\n",
    "\n",
    "target = dataset.target"
   ]
  },
  {
   "cell_type": "markdown",
   "metadata": {},
   "source": [
    "## 1. Discover some centroids:"
   ]
  },
  {
   "cell_type": "code",
   "execution_count": 5,
   "metadata": {},
   "outputs": [
    {
     "name": "stdout",
     "output_type": "stream",
     "text": [
      "Centroids:\n",
      " [[5.7 4.4 1.5 0.4]\n",
      " [7.7 2.6 6.9 2.3]\n",
      " [4.5 2.3 1.3 0.3]]\n"
     ]
    }
   ],
   "source": [
    "centroids = initialiser(data, K)\n",
    "print(\"Centroids:\\n\", centroids)"
   ]
  },
  {
   "cell_type": "markdown",
   "metadata": {},
   "source": [
    "## 2. Run k-means clustering algorithm:"
   ]
  },
  {
   "cell_type": "code",
   "execution_count": 6,
   "metadata": {},
   "outputs": [
    {
     "data": {
      "text/plain": [
       "KMeans(algorithm='auto', copy_x=True,\n",
       "    init=array([[5.7, 4.4, 1.5, 0.4],\n",
       "       [7.7, 2.6, 6.9, 2.3],\n",
       "       [4.5, 2.3, 1.3, 0.3]]),\n",
       "    max_iter=300, n_clusters=3, n_init=1, n_jobs=None,\n",
       "    precompute_distances='auto', random_state=None, tol=0.0001, verbose=0)"
      ]
     },
     "execution_count": 6,
     "metadata": {},
     "output_type": "execute_result"
    }
   ],
   "source": [
    "# Homemade version:\n",
    "result = kmeans.cluster(data, K, centroids.copy())\n",
    "\n",
    "# SKLearn version\n",
    "est1 = skcluster.KMeans(n_clusters=K, n_init=1, init=centroids.copy())\n",
    "est1.fit(data)"
   ]
  },
  {
   "cell_type": "markdown",
   "metadata": {},
   "source": [
    "## 3. Show clustering outcome"
   ]
  },
  {
   "cell_type": "code",
   "execution_count": 7,
   "metadata": {},
   "outputs": [
    {
     "name": "stdout",
     "output_type": "stream",
     "text": [
      "Me:\n",
      " [0 0 0 0 0 0 0 0 0 0 0 0 0 0 0 0 0 0 0 0 0 0 0 0 0 0 0 0 0 0 0 0 0 0 0 0 0\n",
      " 0 0 0 0 0 0 0 0 0 0 0 0 0 1 2 1 2 2 2 2 2 2 2 2 2 2 2 2 2 2 2 2 2 2 2 2 2\n",
      " 2 2 2 1 2 2 2 2 2 2 2 2 2 2 2 2 2 2 2 2 2 2 2 2 2 2 1 2 1 1 1 1 2 1 1 1 1\n",
      " 1 1 2 2 1 1 1 1 2 1 2 1 2 1 1 2 2 1 1 1 1 1 2 1 1 1 1 2 1 1 1 2 1 1 1 2 1\n",
      " 1 2]\n",
      "SKL:\n",
      " [0 0 0 0 0 0 0 0 0 0 0 0 0 0 0 0 0 0 0 0 0 0 0 0 0 0 0 0 0 0 0 0 0 0 0 0 0\n",
      " 0 0 0 0 0 0 0 0 0 0 0 0 0 1 2 1 2 2 2 2 2 2 2 2 2 2 2 2 2 2 2 2 2 2 2 2 2\n",
      " 2 2 2 1 2 2 2 2 2 2 2 2 2 2 2 2 2 2 2 2 2 2 2 2 2 2 1 2 1 1 1 1 2 1 1 1 1\n",
      " 1 1 2 2 1 1 1 1 2 1 2 1 2 1 1 2 2 1 1 1 1 1 2 1 1 1 1 2 1 1 1 2 1 1 1 2 1\n",
      " 1 2]\n",
      "Target:\n",
      " [0 0 0 0 0 0 0 0 0 0 0 0 0 0 0 0 0 0 0 0 0 0 0 0 0 0 0 0 0 0 0 0 0 0 0 0 0\n",
      " 0 0 0 0 0 0 0 0 0 0 0 0 0 1 1 1 1 1 1 1 1 1 1 1 1 1 1 1 1 1 1 1 1 1 1 1 1\n",
      " 1 1 1 1 1 1 1 1 1 1 1 1 1 1 1 1 1 1 1 1 1 1 1 1 1 1 2 2 2 2 2 2 2 2 2 2 2\n",
      " 2 2 2 2 2 2 2 2 2 2 2 2 2 2 2 2 2 2 2 2 2 2 2 2 2 2 2 2 2 2 2 2 2 2 2 2 2\n",
      " 2 2]\n",
      "\n",
      "Iterations:\n",
      "Me: 14 | SKL: 14\n"
     ]
    }
   ],
   "source": [
    "print('Me:\\n', result['labels'])\n",
    "print(\"SKL:\\n\", est1.labels_)\n",
    "print(\"Target:\\n\", target)\n",
    "\n",
    "print(\"\\nIterations:\")\n",
    "print(\"Me:\", result['iterations'], \"| SKL:\", est1.n_iter_)"
   ]
  },
  {
   "cell_type": "markdown",
   "metadata": {},
   "source": [
    "### Centroids"
   ]
  },
  {
   "cell_type": "code",
   "execution_count": 8,
   "metadata": {},
   "outputs": [
    {
     "name": "stdout",
     "output_type": "stream",
     "text": [
      "Centroids (them):\n",
      " [[5.006      3.428      1.462      0.246     ]\n",
      " [6.85384615 3.07692308 5.71538462 2.05384615]\n",
      " [5.88360656 2.74098361 4.38852459 1.43442623]]\n",
      "Centroids (me):\n",
      " [[5.006      3.428      1.462      0.246     ]\n",
      " [6.85384615 3.07692308 5.71538462 2.05384615]\n",
      " [5.88360656 2.74098361 4.38852459 1.43442623]]\n"
     ]
    }
   ],
   "source": [
    "print(\"Centroids (them):\\n\", est1.cluster_centers_ )\n",
    "print(\"Centroids (me):\\n\", result['centroids'])"
   ]
  },
  {
   "cell_type": "markdown",
   "metadata": {},
   "source": [
    "## 4. Run metrics"
   ]
  },
  {
   "cell_type": "markdown",
   "metadata": {},
   "source": [
    "### Main metrics"
   ]
  },
  {
   "cell_type": "code",
   "execution_count": 9,
   "metadata": {
    "scrolled": true
   },
   "outputs": [
    {
     "name": "stdout",
     "output_type": "stream",
     "text": [
      "\n",
      "Accuracy Score:\n",
      "Me: 0.8866666666666667 | SKL: 0.8866666666666667\n",
      "\n",
      "Adjusted Rand Index:\n",
      "Me: 0.7163421126838475 | SKL: 0.7163421126838475\n"
     ]
    }
   ],
   "source": [
    "acc_me = accuracy.score(target, result['labels'])\n",
    "acc_them = accuracy.score(target, est1.labels_)\n",
    "\n",
    "print(\"\\nAccuracy Score:\")\n",
    "print(\"Me:\", acc_me, \"| SKL:\", acc_them)\n",
    "\n",
    "ari_me = skmetrics.adjusted_rand_score(target, result['labels'])\n",
    "ari_them = skmetrics.adjusted_rand_score(target, est1.labels_)\n",
    "\n",
    "print(\"\\nAdjusted Rand Index:\")\n",
    "print(\"Me:\", ari_me, \"| SKL:\", ari_them)"
   ]
  },
  {
   "cell_type": "markdown",
   "metadata": {},
   "source": [
    "### Confusion matrices"
   ]
  },
  {
   "cell_type": "code",
   "execution_count": 10,
   "metadata": {},
   "outputs": [
    {
     "name": "stdout",
     "output_type": "stream",
     "text": [
      "Me:\n",
      " [[50  0  0]\n",
      " [ 0  3 47]\n",
      " [ 0 36 14]] \n",
      "\n",
      "SKL:\n",
      " [[50  0  0]\n",
      " [ 0  3 47]\n",
      " [ 0 36 14]]\n"
     ]
    }
   ],
   "source": [
    "cm_me = skmetrics.confusion_matrix(target, result['labels'])\n",
    "cm_them = skmetrics.confusion_matrix(target, est1.labels_)\n",
    "\n",
    "print(\"Me:\\n\", cm_me, \"\\n\")\n",
    "print(\"SKL:\\n\", cm_them)"
   ]
  },
  {
   "cell_type": "code",
   "execution_count": null,
   "metadata": {},
   "outputs": [],
   "source": []
  }
 ],
 "metadata": {
  "kernelspec": {
   "display_name": "Python 3",
   "language": "python",
   "name": "python3"
  },
  "language_info": {
   "codemirror_mode": {
    "name": "ipython",
    "version": 3
   },
   "file_extension": ".py",
   "mimetype": "text/x-python",
   "name": "python",
   "nbconvert_exporter": "python",
   "pygments_lexer": "ipython3",
   "version": "3.7.1"
  }
 },
 "nbformat": 4,
 "nbformat_minor": 2
}
