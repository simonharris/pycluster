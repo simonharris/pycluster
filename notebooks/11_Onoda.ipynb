{
 "cells": [
  {
   "cell_type": "code",
   "execution_count": 1,
   "metadata": {},
   "outputs": [],
   "source": [
    "import imports\n",
    "import numpy as np\n",
    "from sklearn.cluster import KMeans\n",
    "import sklearn.datasets as skdatasets\n",
    "import sklearn.metrics as skmetrics \n",
    "from metrics import accuracy\n",
    "from initialisations import onoda2012 as onoda\n",
    "from sklearn.decomposition import FastICA, PCA"
   ]
  },
  {
   "cell_type": "code",
   "execution_count": 2,
   "metadata": {},
   "outputs": [],
   "source": [
    "dataset = skdatasets.load_iris()\n",
    "data = dataset.data\n",
    "target = dataset.target\n",
    "\n",
    "K = 3\n",
    "\n",
    "whiten_data=False"
   ]
  },
  {
   "cell_type": "markdown",
   "metadata": {},
   "source": [
    "### TODO:\n",
    "\n",
    " * whiten/centre/standardise data?"
   ]
  },
  {
   "cell_type": "code",
   "execution_count": 3,
   "metadata": {},
   "outputs": [],
   "source": [
    "def calc_distance(row, component):\n",
    "    def mag(vector):\n",
    "        return np.linalg.norm(vector)\n",
    "    \n",
    "    return np.dot(component, row) / (mag(component) * mag(row))"
   ]
  },
  {
   "cell_type": "markdown",
   "metadata": {},
   "source": [
    "## PCA\n",
    "\n",
    "nb. ``KernelPCA`` and ``IncrementalPCA`` exist too."
   ]
  },
  {
   "cell_type": "code",
   "execution_count": 7,
   "metadata": {},
   "outputs": [
    {
     "name": "stdout",
     "output_type": "stream",
     "text": [
      "[[ 0.36138659 -0.08452251  0.85667061  0.3582892 ]\n",
      " [ 0.65658877  0.73016143 -0.17337266 -0.07548102]\n",
      " [-0.58202985  0.59791083  0.07623608  0.54583143]]\n",
      "[[5.006      3.428      1.462      0.246     ]\n",
      " [6.85384615 3.07692308 5.71538462 2.05384615]\n",
      " [5.88360656 2.74098361 4.38852459 1.43442623]]\n"
     ]
    }
   ],
   "source": [
    "# PCA(n_components=None, copy=True, whiten=False, svd_solver=’auto’, \n",
    "#        tol=0.0, iterated_power=’auto’, random_state=None)\n",
    "\n",
    "pca = PCA(n_components=K, whiten=whiten_data)\n",
    "pca.fit(data)\n",
    "print(pca.components_) \n",
    "\n",
    "C = []\n",
    "\n",
    "for component in pca.components_:\n",
    "    distances = [calc_distance(x, component) for x in data]\n",
    "    C.append(data[np.argmin(distances)])\n",
    "\n",
    "centroids = np.array(C)\n",
    "\n",
    "est = KMeans(n_clusters=K, n_init=1, init=centroids)\n",
    "est.fit(data)\n",
    "print(est.cluster_centers_)\n"
   ]
  },
  {
   "cell_type": "markdown",
   "metadata": {},
   "source": [
    "### PCA Metrics"
   ]
  },
  {
   "cell_type": "code",
   "execution_count": 8,
   "metadata": {},
   "outputs": [
    {
     "name": "stdout",
     "output_type": "stream",
     "text": [
      "Accuracy Score: 0.8866666666666667\n",
      "Adjusted Rand Index: 0.7163421126838475\n",
      "Inertia: 78.8556658259773\n"
     ]
    }
   ],
   "source": [
    "acc = accuracy.score(target, est.labels_)\n",
    "ari = skmetrics.adjusted_rand_score(target, est.labels_)\n",
    "\n",
    "print(\"Accuracy Score:\", acc)\n",
    "print(\"Adjusted Rand Index:\", ari)\n",
    "print(\"Inertia:\", est.inertia_)"
   ]
  },
  {
   "cell_type": "markdown",
   "metadata": {},
   "source": [
    "## ICA"
   ]
  },
  {
   "cell_type": "code",
   "execution_count": null,
   "metadata": {},
   "outputs": [],
   "source": [
    "# Compute ICA\n",
    "ica = FastICA(n_components=K) # return 3x4\n",
    "#ica = FastICA() # returns 4x4 - completely different numbers\n",
    "S_ = ica.fit_transform(data)  # Reconstruct signals\n",
    "#A_ = ica.mixing_  # Get estimated mixing matrix\n",
    "\n",
    "print(ica.components_) # The unmixing matrix\n",
    "\n",
    "print(len(S_))\n",
    "#print(A_)\n",
    "\n",
    "# We can `prove` that the ICA model applies by reverting the unmixing.\n",
    "#assert np.allclose(X, np.dot(S_, A_.T) + ica.mean_)"
   ]
  },
  {
   "cell_type": "code",
   "execution_count": null,
   "metadata": {},
   "outputs": [],
   "source": [
    "# For comparison, compute PCA\n",
    "#pca = PCA(n_components=K)\n",
    "#H = pca.fit_transform(data)  # Reconstruct signals based on orthogonal components\n",
    "#print(H)"
   ]
  },
  {
   "cell_type": "code",
   "execution_count": null,
   "metadata": {},
   "outputs": [],
   "source": []
  }
 ],
 "metadata": {
  "kernelspec": {
   "display_name": "Python 3",
   "language": "python",
   "name": "python3"
  },
  "language_info": {
   "codemirror_mode": {
    "name": "ipython",
    "version": 3
   },
   "file_extension": ".py",
   "mimetype": "text/x-python",
   "name": "python",
   "nbconvert_exporter": "python",
   "pygments_lexer": "ipython3",
   "version": "3.7.1"
  }
 },
 "nbformat": 4,
 "nbformat_minor": 2
}
