{
 "cells": [
  {
   "cell_type": "markdown",
   "metadata": {},
   "source": [
    "# Bradley & Fayyad 1998 Algorithm\n",
    "\n",
    "\n",
    "### Questions:\n",
    "\n",
    " - What is sample size? Steinley 2007 says |X|/J\n",
    " - What is SP \"Starting point\"?\n",
    " - Can sample sets overlap or must they be removed from the pool?\n",
    " - Why is FMS never used?\n",
    " - Remove duplicate centroids from CM?"
   ]
  },
  {
   "cell_type": "code",
   "execution_count": 1,
   "metadata": {},
   "outputs": [],
   "source": [
    "import imports\n",
    "import numpy as np\n",
    "from sklearn.cluster import KMeans\n",
    "import sklearn.datasets as skdatasets\n",
    "import sklearn.metrics as skmetrics \n",
    "from metrics import accuracy\n",
    "from initialisations import bradleyfayyad1998 as bf\n",
    "from initialisations import random as ran"
   ]
  },
  {
   "cell_type": "code",
   "execution_count": 2,
   "metadata": {},
   "outputs": [],
   "source": [
    "dataset = skdatasets.load_iris()\n",
    "data = dataset.data\n",
    "target = dataset.target"
   ]
  },
  {
   "cell_type": "markdown",
   "metadata": {},
   "source": [
    "## Configuration/Parameters"
   ]
  },
  {
   "cell_type": "code",
   "execution_count": 3,
   "metadata": {},
   "outputs": [
    {
     "name": "stdout",
     "output_type": "stream",
     "text": [
      "[[4.8 3.  1.4 0.1]\n",
      " [4.9 3.1 1.5 0.2]\n",
      " [5.  3.3 1.4 0.2]]\n"
     ]
    }
   ],
   "source": [
    "K = 3\n",
    "J = 10\n",
    "\n",
    "sample_size = int(len(data)/J) # According to Steinley\n",
    "\n",
    "# I have no idea\n",
    "SP = ran.generate(data, K)\n",
    "\n",
    "print(SP)"
   ]
  },
  {
   "cell_type": "markdown",
   "metadata": {},
   "source": [
    "### k_means()"
   ]
  },
  {
   "cell_type": "code",
   "execution_count": 4,
   "metadata": {},
   "outputs": [],
   "source": [
    "def k_means(seeds, data, K):\n",
    "    '''Calls the standard k-means with the given seeds'''\n",
    "    est = KMeans(n_clusters=K, init=seeds, n_init=1)\n",
    "    est.fit(data)\n",
    "    return est       "
   ]
  },
  {
   "cell_type": "markdown",
   "metadata": {},
   "source": [
    "### k_means_mod()"
   ]
  },
  {
   "cell_type": "code",
   "execution_count": 5,
   "metadata": {},
   "outputs": [],
   "source": [
    "def k_means_mod(SP, Si, K):\n",
    "    '''TODO'''\n",
    "    \n",
    "    centroids = k_means(SP, Si, K).cluster_centers_ \n",
    "    #print(centroids)\n",
    "    return centroids"
   ]
  },
  {
   "cell_type": "markdown",
   "metadata": {},
   "source": [
    "## Refine()"
   ]
  },
  {
   "cell_type": "code",
   "execution_count": 6,
   "metadata": {},
   "outputs": [],
   "source": [
    "\n",
    "\n",
    "def refine(SP, data, K, J):\n",
    "    '''Main algorithm'''\n",
    "    \n",
    "    # The J possible solutions\n",
    "    CMI = []\n",
    "    \n",
    "    # All the points found so far\n",
    "    CM = []\n",
    "    \n",
    "    for i in range(0, J):\n",
    "        Si = data[np.random.choice(data.shape[0], sample_size, replace=False), :]\n",
    "        centroids = k_means_mod(SP, Si, K)\n",
    "    \n",
    "        CMI.append(centroids)\n",
    "        for c in centroids:\n",
    "            CM.append(c)\n",
    "     \n",
    "    CM = np.unique(CM, axis=0)\n",
    "    \n",
    "    best = None\n",
    "    \n",
    "    for i in range(0, J):\n",
    "\n",
    "        km = k_means(CMI[i], CM, K)     \n",
    "        \n",
    "        if best is None or km.inertia_ < best.inertia_:\n",
    "            best = km\n",
    "\n",
    "    return km.cluster_centers_"
   ]
  },
  {
   "cell_type": "code",
   "execution_count": 7,
   "metadata": {
    "scrolled": false
   },
   "outputs": [
    {
     "name": "stdout",
     "output_type": "stream",
     "text": [
      "[[4.73777778 3.12592593 1.42222222 0.21444444]\n",
      " [6.34614469 2.84969197 4.95966783 1.64643773]\n",
      " [5.31291667 3.75104167 1.45875    0.25354167]]\n"
     ]
    }
   ],
   "source": [
    "solution = refine(SP, data.copy(), K, J)\n",
    "print(solution)"
   ]
  },
  {
   "cell_type": "markdown",
   "metadata": {},
   "source": [
    "### Metrics"
   ]
  },
  {
   "cell_type": "code",
   "execution_count": 8,
   "metadata": {},
   "outputs": [
    {
     "name": "stdout",
     "output_type": "stream",
     "text": [
      "Adjusted Rand Index: 0.4289511167236898\n",
      "Accuracy score: 0.6666666666666666\n"
     ]
    }
   ],
   "source": [
    "final_est =  KMeans(n_clusters=K, init=solution, n_init=1)\n",
    "final_est.fit(data)\n",
    "\n",
    "ari = skmetrics.adjusted_rand_score(target, final_est.labels_)\n",
    "print(\"Adjusted Rand Index:\", ari)\n",
    "\n",
    "print(\"Accuracy score:\", accuracy.score(target, final_est.labels_))"
   ]
  }
 ],
 "metadata": {
  "kernelspec": {
   "display_name": "Python 3",
   "language": "python",
   "name": "python3"
  },
  "language_info": {
   "codemirror_mode": {
    "name": "ipython",
    "version": 3
   },
   "file_extension": ".py",
   "mimetype": "text/x-python",
   "name": "python",
   "nbconvert_exporter": "python",
   "pygments_lexer": "ipython3",
   "version": "3.7.1"
  }
 },
 "nbformat": 4,
 "nbformat_minor": 2
}
