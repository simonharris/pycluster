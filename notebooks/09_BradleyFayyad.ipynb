{
 "cells": [
  {
   "cell_type": "markdown",
   "metadata": {},
   "source": [
    "# Bradley & Fayyad 1998 Algorithm\n",
    "\n",
    "\n",
    "### Questions:\n",
    "\n",
    " - What is sample size? Steinley 2007 says |X|/J\n",
    " - What is SP \"Starting point\"?\n",
    " - Can sample sets overlap or must they be removed from the pool?"
   ]
  },
  {
   "cell_type": "code",
   "execution_count": 1,
   "metadata": {},
   "outputs": [],
   "source": [
    "import imports\n",
    "import numpy as np\n",
    "from sklearn.cluster import KMeans\n",
    "import sklearn.datasets as skdatasets\n",
    "from initialisations import likas2003 as likas\n",
    "import sklearn.metrics as skmetrics \n",
    "from metrics import accuracy\n",
    "from initialisations import bradleyfayyad1998 as bf"
   ]
  },
  {
   "cell_type": "code",
   "execution_count": 2,
   "metadata": {},
   "outputs": [],
   "source": [
    "dataset = skdatasets.load_iris()\n",
    "data = dataset.data\n",
    "target = dataset.target"
   ]
  },
  {
   "cell_type": "markdown",
   "metadata": {},
   "source": [
    "## Configuration/Parameters"
   ]
  },
  {
   "cell_type": "code",
   "execution_count": 3,
   "metadata": {},
   "outputs": [],
   "source": [
    "\n",
    "\n",
    "K = 3\n",
    "J = 10\n",
    "\n",
    "sample_size = int(len(data)/J) # According to Steinley\n",
    "\n",
    "SP = 'I have no idea'"
   ]
  },
  {
   "cell_type": "markdown",
   "metadata": {},
   "source": [
    "### k_means()"
   ]
  },
  {
   "cell_type": "code",
   "execution_count": null,
   "metadata": {},
   "outputs": [],
   "source": [
    "def k_means()"
   ]
  },
  {
   "cell_type": "markdown",
   "metadata": {},
   "source": [
    "### k_means_mod()"
   ]
  },
  {
   "cell_type": "code",
   "execution_count": 6,
   "metadata": {},
   "outputs": [],
   "source": [
    "def k_means_mod(SP, Si, K):\n",
    "    '''...'''\n",
    "    \n",
    "    pass"
   ]
  },
  {
   "cell_type": "markdown",
   "metadata": {},
   "source": [
    "## Refine()"
   ]
  },
  {
   "cell_type": "code",
   "execution_count": 4,
   "metadata": {},
   "outputs": [],
   "source": [
    "\n",
    "\n",
    "def refine(SP, data, K, J):\n",
    "    '''Main algorithm'''\n",
    "    \n",
    "    CM = set()\n",
    "    \n",
    "    for i in range(0, J):\n",
    "        \n",
    "        Si = data[np.random.choice(data.shape[0], sample_size, replace=False), :]\n",
    "        \n",
    "        CMi = k_means_mod(SP, Si, K)\n",
    "        CM = CM.union(CMi)\n",
    "        \n",
    "    FMS = set()\n",
    "    \n",
    "    for i in range(0, J):\n",
    "        \n",
    "        FMi = k_means(CM[i], CM, K)  \n",
    "        \n",
    "        \n",
    "        FMS = FMS.union(FMi)\n",
    "        \n",
    "        "
   ]
  },
  {
   "cell_type": "code",
   "execution_count": 5,
   "metadata": {},
   "outputs": [
    {
     "name": "stdout",
     "output_type": "stream",
     "text": [
      "[[7.7 2.6 6.9 2.3]\n",
      " [6.3 2.5 5.  1.9]\n",
      " [6.9 3.2 5.7 2.3]\n",
      " [6.  2.2 4.  1. ]\n",
      " [6.3 2.8 5.1 1.5]\n",
      " [4.7 3.2 1.3 0.2]\n",
      " [5.1 3.8 1.5 0.3]\n",
      " [6.  3.4 4.5 1.6]\n",
      " [6.5 3.  5.5 1.8]\n",
      " [5.  3.4 1.5 0.2]\n",
      " [5.9 3.  5.1 1.8]\n",
      " [4.4 2.9 1.4 0.2]\n",
      " [5.4 3.9 1.3 0.4]\n",
      " [5.1 3.4 1.5 0.2]\n",
      " [4.9 2.5 4.5 1.7]]\n",
      "[[4.9 2.4 3.3 1. ]\n",
      " [7.7 3.8 6.7 2.2]\n",
      " [5.4 3.7 1.5 0.2]\n",
      " [4.3 3.  1.1 0.1]\n",
      " [6.8 2.8 4.8 1.4]\n",
      " [5.  3.4 1.6 0.4]\n",
      " [6.1 3.  4.9 1.8]\n",
      " [6.4 2.8 5.6 2.2]\n",
      " [6.  2.7 5.1 1.6]\n",
      " [5.6 3.  4.5 1.5]\n",
      " [5.7 2.6 3.5 1. ]\n",
      " [5.2 3.4 1.4 0.2]\n",
      " [5.4 3.4 1.7 0.2]\n",
      " [4.8 3.1 1.6 0.2]\n",
      " [4.4 2.9 1.4 0.2]]\n",
      "[[6.9 3.1 5.4 2.1]\n",
      " [5.  2.3 3.3 1. ]\n",
      " [5.4 3.4 1.7 0.2]\n",
      " [6.7 3.1 4.7 1.5]\n",
      " [6.2 3.4 5.4 2.3]\n",
      " [7.1 3.  5.9 2.1]\n",
      " [5.7 2.6 3.5 1. ]\n",
      " [5.1 3.8 1.9 0.4]\n",
      " [6.5 2.8 4.6 1.5]\n",
      " [5.  2.  3.5 1. ]\n",
      " [5.5 2.4 3.8 1.1]\n",
      " [5.4 3.9 1.3 0.4]\n",
      " [5.  3.6 1.4 0.2]\n",
      " [6.1 3.  4.6 1.4]\n",
      " [7.2 3.6 6.1 2.5]]\n",
      "[[5.9 3.2 4.8 1.8]\n",
      " [5.  3.3 1.4 0.2]\n",
      " [6.6 3.  4.4 1.4]\n",
      " [7.7 3.  6.1 2.3]\n",
      " [6.5 3.  5.2 2. ]\n",
      " [5.7 3.  4.2 1.2]\n",
      " [6.4 3.1 5.5 1.8]\n",
      " [5.1 3.5 1.4 0.3]\n",
      " [5.8 2.7 5.1 1.9]\n",
      " [5.8 2.8 5.1 2.4]\n",
      " [5.6 3.  4.5 1.5]\n",
      " [5.5 3.5 1.3 0.2]\n",
      " [6.3 2.5 5.  1.9]\n",
      " [6.9 3.1 5.4 2.1]\n",
      " [6.1 2.8 4.7 1.2]]\n",
      "[[4.6 3.1 1.5 0.2]\n",
      " [5.  2.3 3.3 1. ]\n",
      " [5.  2.  3.5 1. ]\n",
      " [4.8 3.4 1.6 0.2]\n",
      " [4.8 3.1 1.6 0.2]\n",
      " [4.9 3.1 1.5 0.2]\n",
      " [5.5 2.4 3.7 1. ]\n",
      " [5.6 2.8 4.9 2. ]\n",
      " [4.7 3.2 1.6 0.2]\n",
      " [6.1 2.8 4.7 1.2]\n",
      " [6.3 2.9 5.6 1.8]\n",
      " [5.7 3.8 1.7 0.3]\n",
      " [6.3 2.3 4.4 1.3]\n",
      " [5.5 4.2 1.4 0.2]\n",
      " [4.7 3.2 1.3 0.2]]\n",
      "[[5.5 2.5 4.  1.3]\n",
      " [6.9 3.2 5.7 2.3]\n",
      " [5.1 3.8 1.9 0.4]\n",
      " [5.2 4.1 1.5 0.1]\n",
      " [5.  3.6 1.4 0.2]\n",
      " [6.1 3.  4.6 1.4]\n",
      " [6.  2.2 4.  1. ]\n",
      " [6.3 2.9 5.6 1.8]\n",
      " [6.7 3.  5.2 2.3]\n",
      " [7.7 2.8 6.7 2. ]\n",
      " [4.9 3.1 1.5 0.1]\n",
      " [5.3 3.7 1.5 0.2]\n",
      " [5.4 3.4 1.5 0.4]\n",
      " [7.4 2.8 6.1 1.9]\n",
      " [6.4 2.8 5.6 2.1]]\n",
      "[[6.1 2.8 4.7 1.2]\n",
      " [6.4 3.1 5.5 1.8]\n",
      " [5.8 2.7 4.1 1. ]\n",
      " [5.6 3.  4.5 1.5]\n",
      " [6.8 2.8 4.8 1.4]\n",
      " [4.7 3.2 1.6 0.2]\n",
      " [6.1 3.  4.6 1.4]\n",
      " [5.2 2.7 3.9 1.4]\n",
      " [6.7 3.3 5.7 2.1]\n",
      " [7.7 2.8 6.7 2. ]\n",
      " [5.8 2.7 5.1 1.9]\n",
      " [7.2 3.2 6.  1.8]\n",
      " [4.5 2.3 1.3 0.3]\n",
      " [6.3 2.9 5.6 1.8]\n",
      " [6.7 3.3 5.7 2.5]]\n",
      "[[6.2 2.9 4.3 1.3]\n",
      " [6.3 2.7 4.9 1.8]\n",
      " [5.  3.4 1.6 0.4]\n",
      " [6.3 2.8 5.1 1.5]\n",
      " [5.4 3.7 1.5 0.2]\n",
      " [6.  3.4 4.5 1.6]\n",
      " [5.8 2.7 3.9 1.2]\n",
      " [6.7 3.1 5.6 2.4]\n",
      " [7.2 3.  5.8 1.6]\n",
      " [5.2 3.4 1.4 0.2]\n",
      " [6.1 2.8 4.7 1.2]\n",
      " [6.1 3.  4.9 1.8]\n",
      " [6.3 2.5 5.  1.9]\n",
      " [5.6 3.  4.5 1.5]\n",
      " [4.8 3.1 1.6 0.2]]\n",
      "[[5.2 4.1 1.5 0.1]\n",
      " [5.7 2.9 4.2 1.3]\n",
      " [6.  2.2 4.  1. ]\n",
      " [5.8 2.7 5.1 1.9]\n",
      " [5.6 2.9 3.6 1.3]\n",
      " [5.9 3.2 4.8 1.8]\n",
      " [6.3 2.5 4.9 1.5]\n",
      " [6.4 2.8 5.6 2.2]\n",
      " [6.9 3.1 5.4 2.1]\n",
      " [5.6 3.  4.1 1.3]\n",
      " [5.4 3.4 1.5 0.4]\n",
      " [6.7 3.3 5.7 2.1]\n",
      " [5.8 2.7 5.1 1.9]\n",
      " [4.8 3.1 1.6 0.2]\n",
      " [4.7 3.2 1.6 0.2]]\n",
      "[[5.6 2.7 4.2 1.3]\n",
      " [7.7 3.  6.1 2.3]\n",
      " [5.8 2.8 5.1 2.4]\n",
      " [5.5 2.6 4.4 1.2]\n",
      " [4.8 3.  1.4 0.3]\n",
      " [5.  3.  1.6 0.2]\n",
      " [6.6 3.  4.4 1.4]\n",
      " [5.5 2.3 4.  1.3]\n",
      " [5.6 2.5 3.9 1.1]\n",
      " [5.  3.4 1.5 0.2]\n",
      " [6.  2.7 5.1 1.6]\n",
      " [6.9 3.1 5.1 2.3]\n",
      " [5.5 2.4 3.7 1. ]\n",
      " [5.6 3.  4.1 1.3]\n",
      " [5.1 3.5 1.4 0.3]]\n",
      "None\n"
     ]
    }
   ],
   "source": [
    "\n",
    "\n",
    "output = refine(SP, data.copy(), K, J)\n",
    "print(output)"
   ]
  }
 ],
 "metadata": {
  "kernelspec": {
   "display_name": "Python 3",
   "language": "python",
   "name": "python3"
  },
  "language_info": {
   "codemirror_mode": {
    "name": "ipython",
    "version": 3
   },
   "file_extension": ".py",
   "mimetype": "text/x-python",
   "name": "python",
   "nbconvert_exporter": "python",
   "pygments_lexer": "ipython3",
   "version": "3.7.1"
  }
 },
 "nbformat": 4,
 "nbformat_minor": 2
}
