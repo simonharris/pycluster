{
 "cells": [
  {
   "cell_type": "markdown",
   "metadata": {},
   "source": [
    "# Bradley & Fayyad 1998 Algorithm\n",
    "\n",
    "\n",
    "### Questions:\n",
    "\n",
    " - What is sample size? Steinley 2007 says |X|/J\n",
    " - What is SP \"Starting point\"?\n",
    " - Can sample sets overlap or must they be removed from the pool?\n",
    " - Why is FMS never used?"
   ]
  },
  {
   "cell_type": "code",
   "execution_count": 1,
   "metadata": {},
   "outputs": [],
   "source": [
    "import imports\n",
    "import numpy as np\n",
    "from sklearn.cluster import KMeans\n",
    "import sklearn.datasets as skdatasets\n",
    "import sklearn.metrics as skmetrics \n",
    "from metrics import accuracy\n",
    "from initialisations import bradleyfayyad1998 as bf"
   ]
  },
  {
   "cell_type": "code",
   "execution_count": 2,
   "metadata": {},
   "outputs": [],
   "source": [
    "dataset = skdatasets.load_iris()\n",
    "data = dataset.data\n",
    "target = dataset.target"
   ]
  },
  {
   "cell_type": "markdown",
   "metadata": {},
   "source": [
    "## Configuration/Parameters"
   ]
  },
  {
   "cell_type": "code",
   "execution_count": 3,
   "metadata": {},
   "outputs": [],
   "source": [
    "K = 3\n",
    "J = 10\n",
    "J = 30"
   ]
  },
  {
   "cell_type": "code",
   "execution_count": 4,
   "metadata": {
    "scrolled": false
   },
   "outputs": [
    {
     "name": "stdout",
     "output_type": "stream",
     "text": [
      "Labels: [2 2 2 0 1]\n",
      "Label set: {0, 1, 2}\n",
      "Labels: [1 2 1 2 0]\n",
      "Label set: {0, 1, 2}\n",
      "Labels: [0 2 1 1 2]\n",
      "Label set: {0, 1, 2}\n",
      "Labels: [1 0 2 2 2]\n",
      "Label set: {0, 1, 2}\n",
      "Labels: [0 1 1 2 0]\n",
      "Label set: {0, 1, 2}\n",
      "Labels: [0 1 0 1 2]\n",
      "Label set: {0, 1, 2}\n",
      "Labels: [0 2 0 1 0]\n",
      "Label set: {0, 1, 2}\n",
      "Labels: [0 0 2 0 1]\n",
      "Label set: {0, 1, 2}\n",
      "Labels: [2 2 0 0 1]\n",
      "Label set: {0, 1, 2}\n",
      "Labels: [0 1 2 1 0]\n",
      "Label set: {0, 1, 2}\n",
      "Labels: [0 1 2 2 2]\n",
      "Label set: {0, 1, 2}\n",
      "Labels: [1 1 0 2 0]\n",
      "Label set: {0, 1, 2}\n",
      "Labels: [1 1 1 2 0]\n",
      "Label set: {0, 1, 2}\n",
      "Labels: [2 2 0 1 2]\n",
      "Label set: {0, 1, 2}\n",
      "Labels: [2 0 1 2 2]\n",
      "Label set: {0, 1, 2}\n",
      "Labels: [2 1 2 0 2]\n",
      "Label set: {0, 1, 2}\n",
      "Labels: [2 2 1 0 0]\n",
      "Label set: {0, 1, 2}\n",
      "Labels: [1 2 0 1 1]\n",
      "Label set: {0, 1, 2}\n",
      "Labels: [2 1 2 0 2]\n",
      "Label set: {0, 1, 2}\n",
      "Labels: [2 2 1 0 1]\n",
      "Label set: {0, 1, 2}\n",
      "Labels: [2 1 2 0 0]\n",
      "Label set: {0, 1, 2}\n",
      "Labels: [2 1 1 0 0]\n",
      "Label set: {0, 1, 2}\n",
      "Labels: [2 2 0 1 2]\n",
      "Label set: {0, 1, 2}\n",
      "Labels: [1 2 1 0 0]\n",
      "Label set: {0, 1, 2}\n",
      "Labels: [1 2 0 2 0]\n",
      "Label set: {0, 1, 2}\n",
      "Labels: [1 2 0 2 2]\n",
      "Label set: {0, 1, 2}\n",
      "Labels: [2 1 2 1 0]\n",
      "Label set: {0, 1, 2}\n",
      "Labels: [1 2 2 0 2]\n",
      "Label set: {0, 1, 2}\n",
      "Labels: [2 1 2 0 2]\n",
      "Label set: {0, 1, 2}\n",
      "Labels: [0 0 0 1 2]\n",
      "Label set: {0, 1, 2}\n",
      "[[5.86481481 2.77037037 4.5117284  1.50061728]\n",
      " [6.79375    3.10069444 5.70416667 2.0375    ]\n",
      " [5.06875    3.43385417 1.5765625  0.2984375 ]]\n"
     ]
    }
   ],
   "source": [
    "solution = bf.generate(data, K, {'J':J})\n",
    "print(solution)"
   ]
  },
  {
   "cell_type": "markdown",
   "metadata": {},
   "source": [
    "### Metrics\n",
    "\n",
    "Before k_means_mod() implemented:\n",
    " - Adjusted Rand Index: 0.7163421126838475\n",
    " - Accuracy score: 0.8866666666666667"
   ]
  },
  {
   "cell_type": "code",
   "execution_count": 5,
   "metadata": {},
   "outputs": [
    {
     "name": "stdout",
     "output_type": "stream",
     "text": [
      "Adjusted Rand Index: 0.7163421126838475\n",
      "Accuracy score: 0.8866666666666667\n"
     ]
    }
   ],
   "source": [
    "final_est =  KMeans(n_clusters=K, init=solution, n_init=1)\n",
    "final_est.fit(data)\n",
    "\n",
    "ari = skmetrics.adjusted_rand_score(target, final_est.labels_)\n",
    "print(\"Adjusted Rand Index:\", ari)\n",
    "\n",
    "print(\"Accuracy score:\", accuracy.score(target, final_est.labels_))"
   ]
  }
 ],
 "metadata": {
  "kernelspec": {
   "display_name": "Python 3",
   "language": "python",
   "name": "python3"
  },
  "language_info": {
   "codemirror_mode": {
    "name": "ipython",
    "version": 3
   },
   "file_extension": ".py",
   "mimetype": "text/x-python",
   "name": "python",
   "nbconvert_exporter": "python",
   "pygments_lexer": "ipython3",
   "version": "3.7.1"
  }
 },
 "nbformat": 4,
 "nbformat_minor": 2
}
