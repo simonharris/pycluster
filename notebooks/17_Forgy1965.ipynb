{
 "cells": [
  {
   "cell_type": "code",
   "execution_count": 3,
   "metadata": {},
   "outputs": [],
   "source": [
    "import imports\n",
    "\n",
    "import nbutils\n",
    "from initialisations import forgy1965 as forgy"
   ]
  },
  {
   "cell_type": "code",
   "execution_count": 4,
   "metadata": {
    "scrolled": false
   },
   "outputs": [
    {
     "name": "stdout",
     "output_type": "stream",
     "text": [
      "Running HART\n",
      "=====================================================\n",
      "Accuracy Score: 0.75\n",
      "Adjusted Rand Index: 0.36\n",
      "NMI: 0.6674193149491419\n",
      "Inertia: 66.10000000000001 \n",
      "\n",
      "Running IRIS\n",
      "=====================================================\n",
      "Accuracy Score: 0.8866666666666667\n",
      "Adjusted Rand Index: 0.7163421126838475\n",
      "NMI: 0.7419116631817836\n",
      "Inertia: 78.8556658259773 \n",
      "\n",
      "Running SOYS\n",
      "=====================================================\n",
      "Accuracy Score: 0.8936170212765957\n",
      "Adjusted Rand Index: 0.747729972844535\n",
      "NMI: 0.847249658984262\n",
      "Inertia: 218.94545454545457 \n",
      "\n",
      "Running WINE\n",
      "=====================================================\n",
      "Accuracy Score: 0.702247191011236\n",
      "Adjusted Rand Index: 0.37111371823084754\n",
      "NMI: 0.4287568597645354\n",
      "Inertia: 2370689.686782968 \n",
      "\n",
      "Running WBCO\n",
      "=====================================================\n",
      "Accuracy Score: 0.9619326500732065\n",
      "Adjusted Rand Index: 0.8519538631795488\n",
      "NMI: 0.7545637910164786\n",
      "Inertia: 19323.204899819943 \n",
      "\n"
     ]
    }
   ],
   "source": [
    "nbutils.run_clustering(forgy)"
   ]
  },
  {
   "cell_type": "code",
   "execution_count": null,
   "metadata": {},
   "outputs": [],
   "source": []
  }
 ],
 "metadata": {
  "kernelspec": {
   "display_name": "Python 3",
   "language": "python",
   "name": "python3"
  },
  "language_info": {
   "codemirror_mode": {
    "name": "ipython",
    "version": 3
   },
   "file_extension": ".py",
   "mimetype": "text/x-python",
   "name": "python",
   "nbconvert_exporter": "python",
   "pygments_lexer": "ipython3",
   "version": "3.7.1"
  }
 },
 "nbformat": 4,
 "nbformat_minor": 2
}
