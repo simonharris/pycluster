{
 "cells": [
  {
   "cell_type": "code",
   "execution_count": 1,
   "metadata": {},
   "outputs": [],
   "source": [
    "import imports\n",
    "\n",
    "import nbutils\n",
    "from initialisations import random as random"
   ]
  },
  {
   "cell_type": "code",
   "execution_count": 2,
   "metadata": {
    "scrolled": false
   },
   "outputs": [
    {
     "name": "stdout",
     "output_type": "stream",
     "text": [
      "Running HART\n",
      "=====================================================\n",
      "Accuracy Score: 0.875\n",
      "Adjusted Rand Index: 0.5454545454545454\n",
      "NMI: 0.7550042924856722\n",
      "Inertia: 49.75 \n",
      "\n",
      "Running IRIS\n",
      "=====================================================\n",
      "Accuracy Score: 0.6666666666666666\n",
      "Adjusted Rand Index: 0.4289511167236898\n",
      "NMI: 0.5873776041729258\n",
      "Inertia: 142.7540625 \n",
      "\n",
      "Running SOYS\n",
      "=====================================================\n",
      "Accuracy Score: 0.7872340425531915\n",
      "Adjusted Rand Index: 0.5634187422266892\n",
      "NMI: 0.7225156501894843\n",
      "Inertia: 207.49545454545455 \n",
      "\n",
      "Running WINE\n",
      "=====================================================\n",
      "Accuracy Score: 0.702247191011236\n",
      "Adjusted Rand Index: 0.37111371823084754\n",
      "NMI: 0.4287568597645354\n",
      "Inertia: 2370689.6867829687 \n",
      "\n",
      "Running WBCO\n",
      "=====================================================\n",
      "Accuracy Score: 0.9604685212298683\n",
      "Adjusted Rand Index: 0.8464675664733539\n",
      "NMI: 0.7478287711382018\n",
      "Inertia: 19323.173817064977 \n",
      "\n"
     ]
    }
   ],
   "source": [
    "nbutils.run_clustering(random)"
   ]
  }
 ],
 "metadata": {
  "kernelspec": {
   "display_name": "Python 3",
   "language": "python",
   "name": "python3"
  },
  "language_info": {
   "codemirror_mode": {
    "name": "ipython",
    "version": 3
   },
   "file_extension": ".py",
   "mimetype": "text/x-python",
   "name": "python",
   "nbconvert_exporter": "python",
   "pygments_lexer": "ipython3",
   "version": "3.7.1"
  }
 },
 "nbformat": 4,
 "nbformat_minor": 2
}
