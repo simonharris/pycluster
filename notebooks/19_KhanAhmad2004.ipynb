{
 "cells": [
  {
   "cell_type": "code",
   "execution_count": 8,
   "metadata": {},
   "outputs": [],
   "source": [
    "import imports\n",
    "\n",
    "import numpy as np\n",
    "from scipy.special import erfcinv\n",
    "\n",
    "from datasets import loader\n",
    "from initialisations import khanahmad2004 as ka"
   ]
  },
  {
   "cell_type": "code",
   "execution_count": 9,
   "metadata": {},
   "outputs": [],
   "source": [
    "dataset = loader.load_iris()\n",
    "data = dataset.data\n",
    "\n",
    "K = 3"
   ]
  },
  {
   "cell_type": "code",
   "execution_count": 12,
   "metadata": {},
   "outputs": [],
   "source": [
    "\n",
    "def cluster_numeric_attribute(attrib, data):\n",
    "\n",
    "    xs = []\n",
    "\n",
    "    mn = np.mean(val)\n",
    "    sd = np.std(val)\n",
    "    \n",
    "    for i in range(0, K):\n",
    "        percentile = 2*(i+1)-1 / 2*K\n",
    "        z = 2**0.5 * erfcinv(2*percentile)\n",
    "        print(\"z:\", z)\n",
    "        \n",
    "        xs.append(z * sd * mn)\n",
    "    \n",
    "    print(xs) "
   ]
  },
  {
   "cell_type": "code",
   "execution_count": 14,
   "metadata": {
    "scrolled": true
   },
   "outputs": [
    {
     "name": "stdout",
     "output_type": "stream",
     "text": [
      "z: -0.0\n",
      "z: -inf\n",
      "z: -inf\n",
      "[-0.0, -inf, -inf]\n",
      "None\n",
      "z: -0.0\n",
      "z: -inf\n",
      "z: -inf\n",
      "[-0.0, -inf, -inf]\n",
      "None\n",
      "z: -0.0\n",
      "z: -inf\n",
      "z: -inf\n",
      "[-0.0, -inf, -inf]\n",
      "None\n",
      "z: -0.0\n",
      "z: -inf\n",
      "z: -inf\n",
      "[-0.0, -inf, -inf]\n",
      "None\n"
     ]
    }
   ],
   "source": [
    "\n",
    "# for each attribute\n",
    "for i in range(0, data.shape[1]):\n",
    "    val = data[:,i]\n",
    "    \n",
    "    mystr = cluster_numeric_attribute(val, data)\n",
    "    #print(mystr)\n",
    "    \n",
    "#//for (int j=0;j<str[i].length;j++)\n",
    "#//System.out.print(str[i][j]+\" \");\n",
    "#//System.out.println();\n",
    "#int [] membership=generateClusterString(str,data);\n",
    "#for(int l=0;l<data.numInstances();l++) {\n",
    "#clusterString[l][i]=membership[l];\n",
    "\n",
    "    \n",
    "    \n"
   ]
  },
  {
   "cell_type": "code",
   "execution_count": null,
   "metadata": {},
   "outputs": [],
   "source": [
    "    "
   ]
  }
 ],
 "metadata": {
  "kernelspec": {
   "display_name": "Python 3",
   "language": "python",
   "name": "python3"
  },
  "language_info": {
   "codemirror_mode": {
    "name": "ipython",
    "version": 3
   },
   "file_extension": ".py",
   "mimetype": "text/x-python",
   "name": "python",
   "nbconvert_exporter": "python",
   "pygments_lexer": "ipython3",
   "version": "3.7.1"
  }
 },
 "nbformat": 4,
 "nbformat_minor": 2
}
