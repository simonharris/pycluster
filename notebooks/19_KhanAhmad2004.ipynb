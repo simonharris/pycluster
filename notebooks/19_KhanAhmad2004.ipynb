{
 "cells": [
  {
   "cell_type": "code",
   "execution_count": 1,
   "metadata": {
    "scrolled": true
   },
   "outputs": [],
   "source": [
    "import imports\n",
    "\n",
    "import math\n",
    "\n",
    "import numpy as np\n",
    "from sklearn.cluster import KMeans\n",
    "from sklearn.preprocessing import normalize\n",
    "from scipy.special import erfcinv\n",
    "\n",
    "from datasets import loader\n",
    "from initialisations import khanahmad2004 as ka"
   ]
  },
  {
   "cell_type": "code",
   "execution_count": 2,
   "metadata": {
    "scrolled": true
   },
   "outputs": [],
   "source": [
    "dataset = loader.load_iris()\n",
    "data = normalize(dataset.data)\n",
    "\n",
    "K = 3"
   ]
  },
  {
   "cell_type": "markdown",
   "metadata": {},
   "source": [
    "### k_means_clustering()"
   ]
  },
  {
   "cell_type": "code",
   "execution_count": 35,
   "metadata": {},
   "outputs": [],
   "source": [
    "\n",
    "def k_means_clustering(data, means, K):\n",
    "    est = KMeans(K, init=means, n_init=1)\n",
    "    est.fit(data)\n",
    "    return est.labels_\n",
    "    "
   ]
  },
  {
   "cell_type": "markdown",
   "metadata": {},
   "source": [
    "### cluster_numeric_attribute()"
   ]
  },
  {
   "cell_type": "code",
   "execution_count": 36,
   "metadata": {
    "scrolled": true
   },
   "outputs": [],
   "source": [
    "\n",
    "def cluster_numeric_attribute(attrib, data):\n",
    "\n",
    "    xs = []\n",
    "\n",
    "    mn = np.mean(attrib)\n",
    "    sd = np.std(attrib)\n",
    "    \n",
    "    for i in range(0, K):\n",
    "        percentile = (2*(i+1)-1) / (2*K)\n",
    "        z = math.sqrt(2) * erfcinv(2*percentile)\n",
    "        xs.append(z * sd * mn)\n",
    "        \n",
    "    ad = attrib.reshape(-1, 1)        \n",
    "    seeds = np.array(xs).reshape(-1, 1)\n",
    "    \n",
    "    return k_means_clustering(ad, seeds, K)\n",
    "    "
   ]
  },
  {
   "cell_type": "markdown",
   "metadata": {},
   "source": [
    "### generate_cluster_string()"
   ]
  },
  {
   "cell_type": "code",
   "execution_count": null,
   "metadata": {},
   "outputs": [],
   "source": [
    "def generate_cluster_string(mystr, data):\n",
    "    '''Find new centers corresponding to this attribute's cluster \n",
    "    allotments and allot data objects based on cluster allotments'''\n",
    "    \n",
    "    num_attrs = data.shape[1]\n",
    "    \n",
    "    clust = np.zeros((K, num_attrs))\n",
    "    \n",
    "    count = np.zeros((1, K))\n",
    "    print(count)\n",
    "    \n",
    "    # for each data point label\n",
    "    #for i in range(0, len(mystr)):\n",
    "        \n",
    "    #    for j in range(0, num_attrs): \n",
    "     #       clust[mystr[i]][j] += data.instance(i).value(j);\n",
    "#    }\t\n",
    "#    count[str[i]]++;\n",
    "\n",
    "    # end for each dp label\n",
    "\n",
    "\n",
    "#for (int i=0;i<getK();i++) {\n",
    "#    for (int j=0;j<data.numAttributes();j++) {\n",
    "#        clust[i][j]=clust[i][j]/count[i];\n",
    "#    }\n",
    "#}\n",
    "\n",
    "\n",
    "#System.out.println(\"\\nUsing centers derived from this attribute\");\n",
    "#//Perform Kmeans with these initial centers\n",
    "#int [] membership = KMeansClustering(data,clust,getK(),data.numAttributes());\n",
    "#return membership;\n"
   ]
  },
  {
   "cell_type": "code",
   "execution_count": 41,
   "metadata": {
    "scrolled": true
   },
   "outputs": [
    {
     "name": "stdout",
     "output_type": "stream",
     "text": [
      "[1 1 1 1 1 2 2 1 1 1 1 2 1 1 1 2 1 1 1 2 1 2 2 1 2 1 1 1 1 1 1 1 2 2 1 1 1\n",
      " 2 1 1 1 1 2 2 2 1 2 1 1 1 2 2 2 2 2 0 0 2 2 0 2 2 2 0 2 2 0 2 2 2 0 2 2 0\n",
      " 2 2 2 2 0 2 2 2 2 0 0 0 2 2 0 2 0 0 2 2 0 0 0 2 2 2 0 0 0 0 0 0 0 0 0 0 0\n",
      " 0 0 0 0 0 0 0 0 0 0 0 0 0 0 0 0 0 0 0 0 0 0 0 0 0 0 0 0 0 0 0 0 0 0 0 0 0\n",
      " 0 0]\n",
      "[[0. 0. 0.]]\n",
      "None\n",
      "[1 2 1 2 1 1 1 1 2 2 1 1 2 1 1 1 1 1 2 1 2 1 1 2 1 2 2 2 2 2 2 2 1 1 2 2 2\n",
      " 1 1 2 1 2 1 1 1 2 1 1 1 2 0 0 0 0 0 0 0 0 0 0 0 0 0 0 0 0 0 0 0 0 0 0 0 0\n",
      " 0 0 0 0 0 0 0 0 0 0 0 0 0 0 0 0 0 0 0 0 0 0 0 0 0 0 0 0 0 0 0 0 0 0 0 0 0\n",
      " 0 0 0 0 0 0 0 0 0 0 0 0 0 0 0 0 0 0 0 0 0 0 0 0 0 0 0 0 0 0 0 0 0 0 0 0 0\n",
      " 0 0]\n",
      "[[0. 0. 0.]]\n",
      "None\n",
      "[0 0 0 0 0 0 0 0 0 0 0 0 0 0 0 0 0 0 0 0 0 0 0 0 0 0 0 0 0 0 0 0 0 0 0 0 0\n",
      " 0 0 0 0 0 0 0 0 0 0 0 0 0 2 2 2 2 2 1 2 2 2 2 2 2 2 1 2 2 1 2 2 2 1 2 1 1\n",
      " 2 2 2 2 2 2 2 2 2 1 1 2 2 2 2 2 1 2 2 2 2 2 2 2 2 2 1 1 1 1 1 1 1 1 1 1 1\n",
      " 1 1 1 1 1 1 1 1 1 1 1 1 1 1 1 1 1 1 1 1 1 1 1 1 1 1 1 1 1 1 2 1 1 1 2 1 1\n",
      " 1 1]\n",
      "[[0. 0. 0.]]\n",
      "None\n",
      "[0 0 0 0 0 0 0 0 0 0 0 0 0 0 0 0 0 0 0 0 0 0 0 0 0 0 0 0 0 0 0 0 0 0 0 0 0\n",
      " 0 0 0 0 0 0 0 0 0 0 0 0 0 2 2 2 2 2 2 2 2 2 2 2 2 2 2 2 2 2 2 2 2 1 2 2 2\n",
      " 2 2 2 2 2 2 2 2 2 2 2 2 2 2 2 2 2 2 2 2 2 2 2 2 2 2 1 1 1 2 1 2 1 2 2 1 1\n",
      " 1 1 1 1 1 2 2 1 2 1 1 2 1 1 2 1 1 1 2 2 2 1 2 2 1 1 2 1 1 1 1 1 1 1 1 1 1\n",
      " 1 1]\n",
      "[[0. 0. 0.]]\n",
      "None\n"
     ]
    }
   ],
   "source": [
    "# main CCIA method\n",
    "num_samples = data.shape[0]\n",
    "num_attrs = data.shape[1]\n",
    "\n",
    "clusterString = np.zeros((num_samples, num_attrs))\n",
    "\n",
    "# Find centers corresponding to each attribute\n",
    "for i in range (0, num_attrs):\n",
    "    val = data[:,i]\n",
    "    \n",
    "    mystr = cluster_numeric_attribute(val,data)\n",
    "    print(mystr)\n",
    "    \n",
    "    membership = generate_cluster_string(mystr, data)\n",
    "    print(membership)\n",
    "\t\t\t#for(int l=0;l<data.numInstances();l++) {\n",
    "\t\t\t#\tclusterString[l][i]=membership[l];\n",
    "\t\t\t#}"
   ]
  },
  {
   "cell_type": "code",
   "execution_count": null,
   "metadata": {},
   "outputs": [],
   "source": []
  },
  {
   "cell_type": "code",
   "execution_count": null,
   "metadata": {},
   "outputs": [],
   "source": []
  }
 ],
 "metadata": {
  "kernelspec": {
   "display_name": "Python 3",
   "language": "python",
   "name": "python3"
  },
  "language_info": {
   "codemirror_mode": {
    "name": "ipython",
    "version": 3
   },
   "file_extension": ".py",
   "mimetype": "text/x-python",
   "name": "python",
   "nbconvert_exporter": "python",
   "pygments_lexer": "ipython3",
   "version": "3.7.1"
  }
 },
 "nbformat": 4,
 "nbformat_minor": 2
}
