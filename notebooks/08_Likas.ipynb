{
 "cells": [
  {
   "cell_type": "code",
   "execution_count": 1,
   "metadata": {},
   "outputs": [],
   "source": [
    "import imports\n",
    "import numpy as np\n",
    "from sklearn.cluster import KMeans\n",
    "import sklearn.datasets as skdatasets\n",
    "import kmeans\n",
    "from initialisations import likas2003 as likas"
   ]
  },
  {
   "cell_type": "code",
   "execution_count": 2,
   "metadata": {},
   "outputs": [],
   "source": [
    "dataset = skdatasets.load_iris()\n",
    "data = dataset.data\n",
    "\n",
    "K = 10"
   ]
  },
  {
   "cell_type": "code",
   "execution_count": 3,
   "metadata": {
    "scrolled": true
   },
   "outputs": [],
   "source": [
    "\n",
    "def run_k_means(data, centroids):\n",
    "    \n",
    "    best = None\n",
    "    \n",
    "    for row in data:\n",
    "        \n",
    "        candidates = np.concatenate((centroids, [row]), axis=0)\n",
    "    \n",
    "        estimator = KMeans(n_clusters=len(candidates), init=np.array(candidates), n_init=1)\n",
    "        estimator.fit(data)\n",
    "        \n",
    "        if best == None or estimator.inertia_ < best.inertia_:\n",
    "            best = estimator\n",
    " \n",
    "    print(\"Inertia:\", best.inertia_)\n",
    "    return best.cluster_centers_\n",
    "    "
   ]
  },
  {
   "cell_type": "code",
   "execution_count": null,
   "metadata": {
    "scrolled": true
   },
   "outputs": [
    {
     "name": "stdout",
     "output_type": "stream",
     "text": [
      "[array([5.84333333, 3.05733333, 3.758     , 1.19933333])]\n",
      "Inertia: 152.34795176035792\n",
      "[[6.30103093 2.88659794 4.95876289 1.69587629]\n",
      " [5.00566038 3.36981132 1.56037736 0.29056604]]\n",
      "Inertia: 78.85144142614601\n",
      "[[5.9016129  2.7483871  4.39354839 1.43387097]\n",
      " [5.006      3.428      1.462      0.246     ]\n",
      " [6.85       3.07368421 5.74210526 2.07105263]]\n",
      "Inertia: 57.228473214285714\n",
      "[[5.53214286 2.63571429 3.96071429 1.22857143]\n",
      " [5.006      3.428      1.462      0.246     ]\n",
      " [6.9125     3.1        5.846875   2.13125   ]\n",
      " [6.2525     2.855      4.815      1.625     ]]\n"
     ]
    }
   ],
   "source": [
    "mean = np.mean(data, axis=0)\n",
    "\n",
    "centroids = [mean]\n",
    "\n",
    "print(centroids)\n",
    "#print(len(centroids))\n",
    "\n",
    "while len(centroids) < K:\n",
    "    centroids = run_k_means(data, centroids)\n",
    "    print(centroids)"
   ]
  },
  {
   "cell_type": "code",
   "execution_count": null,
   "metadata": {},
   "outputs": [],
   "source": []
  },
  {
   "cell_type": "code",
   "execution_count": null,
   "metadata": {},
   "outputs": [],
   "source": []
  },
  {
   "cell_type": "code",
   "execution_count": null,
   "metadata": {},
   "outputs": [],
   "source": []
  }
 ],
 "metadata": {
  "kernelspec": {
   "display_name": "Python 3",
   "language": "python",
   "name": "python3"
  },
  "language_info": {
   "codemirror_mode": {
    "name": "ipython",
    "version": 3
   },
   "file_extension": ".py",
   "mimetype": "text/x-python",
   "name": "python",
   "nbconvert_exporter": "python",
   "pygments_lexer": "ipython3",
   "version": "3.7.1"
  }
 },
 "nbformat": 4,
 "nbformat_minor": 2
}
