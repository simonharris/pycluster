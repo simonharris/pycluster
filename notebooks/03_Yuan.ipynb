{
 "cells": [
  {
   "cell_type": "markdown",
   "metadata": {},
   "source": [
    "# Yuan 2004 \"New\" Algorithm"
   ]
  },
  {
   "cell_type": "markdown",
   "metadata": {},
   "source": [
    "See: [A new algorithm to get the initial centroids](https://ieeexplore.ieee.org/abstract/document/1382371)"
   ]
  },
  {
   "cell_type": "code",
   "execution_count": 1,
   "metadata": {},
   "outputs": [],
   "source": [
    "import imports\n",
    "import numpy as np\n",
    "from scipy.spatial import distance as spdistance\n",
    "#import sklearn.datasets as skdatasets\n",
    "#import sklearn.metrics as skmetrics \n",
    "#from matplotlib import pyplot as plt\n",
    "#import kmeans\n",
    "#import utils"
   ]
  },
  {
   "cell_type": "code",
   "execution_count": 2,
   "metadata": {},
   "outputs": [],
   "source": [
    "data = [\n",
    "    [1,1,2,1],\n",
    "    [1,1,1,1],\n",
    "    [4,4,3,4],\n",
    "    [7,7,7,7], \n",
    "    [7,8,9,7],\n",
    "]"
   ]
  },
  {
   "cell_type": "code",
   "execution_count": 7,
   "metadata": {},
   "outputs": [
    {
     "name": "stdout",
     "output_type": "stream",
     "text": [
      "[[        nan  1.          5.29150262 11.53256259 13.03840481]\n",
      " [ 1.                 nan  5.56776436 12.         13.60147051]\n",
      " [ 5.29150262  5.56776436         nan  6.55743852  8.36660027]\n",
      " [11.53256259 12.          6.55743852         nan  2.23606798]\n",
      " [13.03840481 13.60147051  8.36660027  2.23606798         nan]]\n"
     ]
    }
   ],
   "source": [
    "#TODO: this is brute force and won't scale. Try to find better (vectorised) solution?\n",
    "\n",
    "numrows = len(data)\n",
    "numcols = len(data[0])\n",
    "\n",
    "distances = np.nan * np.empty((numrows, numrows))\n",
    "\n",
    "for i in range(0, numrows):\n",
    "    for j in range(0, numrows):\n",
    "        \n",
    "        if i != j: \n",
    "            distances[i][j] = spdistance.euclidean(data[i], data[j])\n",
    "\n",
    "print(distances)  \n",
    "        "
   ]
  },
  {
   "cell_type": "code",
   "execution_count": 6,
   "metadata": {},
   "outputs": [
    {
     "name": "stdout",
     "output_type": "stream",
     "text": [
      "(0, 1)\n"
     ]
    }
   ],
   "source": [
    "ind = np.unravel_index(np.nanargmin(distances, axis=None), distances.shape)\n",
    "print(ind)"
   ]
  },
  {
   "cell_type": "code",
   "execution_count": null,
   "metadata": {},
   "outputs": [],
   "source": []
  }
 ],
 "metadata": {
  "kernelspec": {
   "display_name": "Python 3",
   "language": "python",
   "name": "python3"
  },
  "language_info": {
   "codemirror_mode": {
    "name": "ipython",
    "version": 3
   },
   "file_extension": ".py",
   "mimetype": "text/x-python",
   "name": "python",
   "nbconvert_exporter": "python",
   "pygments_lexer": "ipython3",
   "version": "3.7.1"
  }
 },
 "nbformat": 4,
 "nbformat_minor": 2
}
