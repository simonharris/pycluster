{
 "cells": [
  {
   "cell_type": "markdown",
   "metadata": {},
   "source": [
    "# Yuan 2004 \"New\" Algorithm"
   ]
  },
  {
   "cell_type": "markdown",
   "metadata": {},
   "source": [
    "See: [A new algorithm to get the initial centroids](https://ieeexplore.ieee.org/abstract/document/1382371)"
   ]
  },
  {
   "cell_type": "code",
   "execution_count": 1,
   "metadata": {},
   "outputs": [],
   "source": [
    "import imports\n",
    "import numpy as np\n",
    "from scipy.spatial import distance as spdistance\n",
    "import sklearn.datasets as skdatasets\n",
    "import sklearn.metrics as skmetrics \n",
    "import kmeans"
   ]
  },
  {
   "cell_type": "code",
   "execution_count": 2,
   "metadata": {},
   "outputs": [],
   "source": [
    "''''data = np.array([\n",
    "    [4,4,3,4],\n",
    "    [1,1,2,1],\n",
    "    [7,7,7,7], \n",
    "    [1,1,1,1],\n",
    "    [7,8,9,7],\n",
    "    [5,5,5,5],\n",
    "    [100,100,100,100]\n",
    "])'''\n",
    "\n",
    "dataset = skdatasets.load_iris()\n",
    "data = dataset.data\n",
    "target = dataset.target\n",
    "\n",
    "K = 3"
   ]
  },
  {
   "cell_type": "markdown",
   "metadata": {},
   "source": [
    "### Find distances between all rows"
   ]
  },
  {
   "cell_type": "code",
   "execution_count": 3,
   "metadata": {},
   "outputs": [
    {
     "name": "stdout",
     "output_type": "stream",
     "text": [
      "[[       nan 0.53851648 0.50990195 ... 4.45982062 4.65080638 4.14004831]\n",
      " [0.53851648        nan 0.3        ... 4.49888875 4.71805044 4.15331193]\n",
      " [0.50990195 0.3               nan ... 4.66154481 4.84871117 4.29883705]\n",
      " ...\n",
      " [4.45982062 4.49888875 4.66154481 ...        nan 0.6164414  0.64031242]\n",
      " [4.65080638 4.71805044 4.84871117 ... 0.6164414         nan 0.76811457]\n",
      " [4.14004831 4.15331193 4.29883705 ... 0.64031242 0.76811457        nan]]\n"
     ]
    }
   ],
   "source": [
    "#TODO: this is brute force and won't scale. Try to find better (vectorised?) solution\n",
    "\n",
    "def distance_table(data):\n",
    "    numrows = len(data)\n",
    "    numcols = len(data[0])\n",
    "\n",
    "    distances = np.nan * np.empty((numrows, numrows))\n",
    "\n",
    "    for i in range(0, numrows):\n",
    "        for j in range(0, numrows):\n",
    "            if i != j: \n",
    "                distances[i][j] = spdistance.euclidean(data[i], data[j])\n",
    "\n",
    "    return distances\n",
    "        \n",
    "distances = distance_table(data)\n",
    "print(distances)"
   ]
  },
  {
   "cell_type": "markdown",
   "metadata": {},
   "source": [
    "### Find closest two rows in U"
   ]
  },
  {
   "cell_type": "code",
   "execution_count": 4,
   "metadata": {},
   "outputs": [
    {
     "name": "stdout",
     "output_type": "stream",
     "text": [
      "[101, 142]\n"
     ]
    }
   ],
   "source": [
    "def find_closest(data):\n",
    "    \n",
    "    distances = distance_table(data)\n",
    "    ind = np.unravel_index(np.nanargmin(distances, axis=None), distances.shape)\n",
    "\n",
    "    return list(ind)\n",
    "\n",
    "print(find_closest(data))"
   ]
  },
  {
   "cell_type": "markdown",
   "metadata": {},
   "source": [
    "### TODO: find next closest"
   ]
  },
  {
   "cell_type": "code",
   "execution_count": 5,
   "metadata": {},
   "outputs": [],
   "source": [
    "\n",
    "def find_next_closest(Am, U):\n",
    "\n",
    "    pass"
   ]
  },
  {
   "cell_type": "markdown",
   "metadata": {},
   "source": [
    "### Main loops"
   ]
  },
  {
   "cell_type": "code",
   "execution_count": 6,
   "metadata": {},
   "outputs": [
    {
     "name": "stdout",
     "output_type": "stream",
     "text": [
      "[[array([5.8, 2.7, 5.1, 1.9]), array([5.8, 2.7, 5.1, 1.9])], [array([5. , 3.4, 1.5, 0.2]), array([5.1, 3.4, 1.5, 0.2])], [array([5.1, 3.5, 1.4, 0.2]), array([5.1, 3.5, 1.4, 0.3])]]\n"
     ]
    }
   ],
   "source": [
    "# Holder for the point sets\n",
    "A = []\n",
    "\n",
    "U = data.copy()\n",
    "\n",
    "while len(A) < K:\n",
    "\n",
    "    Am = []\n",
    "    pair = find_closest(U)\n",
    "    \n",
    "    Am.append(U[pair[0]])\n",
    "    Am.append(U[pair[1]])\n",
    "\n",
    "    U = np.delete(U, list(pair), 0)\n",
    "  \n",
    "    ## TODO:\n",
    "    ##while len(Am) < THAT_SPECIAL_NUMBER\n",
    "    ##    next = find_next_closest(U, Am)\n",
    "    ##    #append\n",
    "    ##    #delete\n",
    "        \n",
    "    A.append(Am)\n",
    "    \n",
    "    \n",
    "print(A)\n",
    "#print(U)"
   ]
  },
  {
   "cell_type": "markdown",
   "metadata": {},
   "source": [
    "### Sum the vectors in U"
   ]
  },
  {
   "cell_type": "code",
   "execution_count": 7,
   "metadata": {},
   "outputs": [
    {
     "name": "stdout",
     "output_type": "stream",
     "text": [
      "[[5.8  2.7  5.1  1.9 ]\n",
      " [5.05 3.4  1.5  0.2 ]\n",
      " [5.1  3.5  1.4  0.25]]\n"
     ]
    }
   ],
   "source": [
    "centroids = []\n",
    "\n",
    "for pointset in A:\n",
    "    centroids.append(np.mean(pointset, 0))\n",
    "        \n",
    "centroids = np.array(centroids)\n",
    "print(centroids)"
   ]
  },
  {
   "cell_type": "markdown",
   "metadata": {},
   "source": [
    "### Run k-means"
   ]
  },
  {
   "cell_type": "code",
   "execution_count": 8,
   "metadata": {
    "scrolled": true
   },
   "outputs": [
    {
     "name": "stdout",
     "output_type": "stream",
     "text": [
      "[2 1 1 1 2 2 1 2 1 1 2 2 1 1 2 2 2 2 2 2 2 2 2 2 1 1 2 2 2 1 1 2 2 2 1 2 2\n",
      " 2 1 2 2 1 1 2 2 1 2 1 2 2 0 0 0 0 0 0 0 1 0 0 1 0 0 0 0 0 0 0 0 0 0 0 0 0\n",
      " 0 0 0 0 0 0 0 0 0 0 0 0 0 0 0 0 0 0 0 1 0 0 0 0 1 0 0 0 0 0 0 0 0 0 0 0 0\n",
      " 0 0 0 0 0 0 0 0 0 0 0 0 0 0 0 0 0 0 0 0 0 0 0 0 0 0 0 0 0 0 0 0 0 0 0 0 0\n",
      " 0 0]\n",
      "[0 0 0 0 0 0 0 0 0 0 0 0 0 0 0 0 0 0 0 0 0 0 0 0 0 0 0 0 0 0 0 0 0 0 0 0 0\n",
      " 0 0 0 0 0 0 0 0 0 0 0 0 0 1 1 1 1 1 1 1 1 1 1 1 1 1 1 1 1 1 1 1 1 1 1 1 1\n",
      " 1 1 1 1 1 1 1 1 1 1 1 1 1 1 1 1 1 1 1 1 1 1 1 1 1 1 2 2 2 2 2 2 2 2 2 2 2\n",
      " 2 2 2 2 2 2 2 2 2 2 2 2 2 2 2 2 2 2 2 2 2 2 2 2 2 2 2 2 2 2 2 2 2 2 2 2 2\n",
      " 2 2]\n"
     ]
    }
   ],
   "source": [
    "Z, U, clusters, iterations = kmeans.cluster(data, K, centroids.copy())\n",
    "\n",
    "print(U)\n",
    "print(target)"
   ]
  },
  {
   "cell_type": "markdown",
   "metadata": {},
   "source": [
    "### Run some metrics"
   ]
  },
  {
   "cell_type": "code",
   "execution_count": 9,
   "metadata": {},
   "outputs": [
    {
     "name": "stdout",
     "output_type": "stream",
     "text": [
      "Accuracy Score: 0.02666666666666667\n",
      "Adjusted Rand Index: 0.4289511167236898\n"
     ]
    }
   ],
   "source": [
    "acc = skmetrics.accuracy_score(target, U)\n",
    "ari = skmetrics.adjusted_rand_score(target, U)\n",
    "\n",
    "print(\"Accuracy Score:\", acc)\n",
    "print(\"Adjusted Rand Index:\", ari)"
   ]
  },
  {
   "cell_type": "code",
   "execution_count": null,
   "metadata": {},
   "outputs": [],
   "source": []
  }
 ],
 "metadata": {
  "kernelspec": {
   "display_name": "Python 3",
   "language": "python",
   "name": "python3"
  },
  "language_info": {
   "codemirror_mode": {
    "name": "ipython",
    "version": 3
   },
   "file_extension": ".py",
   "mimetype": "text/x-python",
   "name": "python",
   "nbconvert_exporter": "python",
   "pygments_lexer": "ipython3",
   "version": "3.7.1"
  }
 },
 "nbformat": 4,
 "nbformat_minor": 2
}
