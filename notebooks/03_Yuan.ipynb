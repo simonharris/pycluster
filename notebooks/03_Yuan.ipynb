{
 "cells": [
  {
   "cell_type": "markdown",
   "metadata": {},
   "source": [
    "# Yuan 2004 \"New\" Algorithm"
   ]
  },
  {
   "cell_type": "markdown",
   "metadata": {},
   "source": [
    "See: [A new algorithm to get the initial centroids](https://ieeexplore.ieee.org/abstract/document/1382371)"
   ]
  },
  {
   "cell_type": "code",
   "execution_count": 1,
   "metadata": {},
   "outputs": [],
   "source": [
    "import imports\n",
    "import numpy as np\n",
    "from scipy.spatial import distance as spdistance\n",
    "import kmeans"
   ]
  },
  {
   "cell_type": "code",
   "execution_count": 10,
   "metadata": {},
   "outputs": [],
   "source": [
    "data = np.array([\n",
    "    [4,4,3,4],\n",
    "    [1,1,2,1],\n",
    "    [7,7,7,7], \n",
    "    [1,1,1,1],\n",
    "    [7,8,9,7],\n",
    "    [5,5,5,5],\n",
    "    [100,100,100,100]\n",
    "])\n",
    "\n",
    "n = len(data)\n",
    "\n",
    "K = 3\n"
   ]
  },
  {
   "cell_type": "markdown",
   "metadata": {},
   "source": [
    "### Find distances between all rows"
   ]
  },
  {
   "cell_type": "code",
   "execution_count": 11,
   "metadata": {},
   "outputs": [
    {
     "name": "stdout",
     "output_type": "stream",
     "text": [
      "[[         nan   5.29150262   6.55743852   5.56776436   8.36660027\n",
      "    2.64575131 192.50194804]\n",
      " [  5.29150262          nan  11.53256259   1.          13.03840481\n",
      "    7.54983444 197.50189873]\n",
      " [  6.55743852  11.53256259          nan  12.           2.23606798\n",
      "    4.         186.        ]\n",
      " [  5.56776436   1.          12.                  nan  13.60147051\n",
      "    8.         198.        ]\n",
      " [  8.36660027  13.03840481   2.23606798  13.60147051          nan\n",
      "    5.74456265 184.50745242]\n",
      " [  2.64575131   7.54983444   4.           8.           5.74456265\n",
      "           nan 190.        ]\n",
      " [192.50194804 197.50189873 186.         198.         184.50745242\n",
      "  190.                  nan]]\n"
     ]
    }
   ],
   "source": [
    "#TODO: this is brute force and won't scale. Try to find better (vectorised) solution?\n",
    "\n",
    "def distance_table(data):\n",
    "    numrows = len(data)\n",
    "    numcols = len(data[0])\n",
    "\n",
    "    distances = np.nan * np.empty((numrows, numrows))\n",
    "\n",
    "    for i in range(0, numrows):\n",
    "        for j in range(0, numrows):\n",
    "            if i != j: \n",
    "                distances[i][j] = spdistance.euclidean(data[i], data[j])\n",
    "\n",
    "    return distances\n",
    "        \n",
    "distances = distance_table(data)\n",
    "print(distances)"
   ]
  },
  {
   "cell_type": "markdown",
   "metadata": {},
   "source": [
    "### Find closest two rows in U"
   ]
  },
  {
   "cell_type": "code",
   "execution_count": 12,
   "metadata": {},
   "outputs": [
    {
     "name": "stdout",
     "output_type": "stream",
     "text": [
      "[1, 3]\n"
     ]
    }
   ],
   "source": [
    "def find_closest(data):\n",
    "    \n",
    "    distances = distance_table(data)\n",
    "    ind = np.unravel_index(np.nanargmin(distances, axis=None), distances.shape)\n",
    "\n",
    "    return list(ind)\n",
    "\n",
    "print(find_closest(data))"
   ]
  },
  {
   "cell_type": "markdown",
   "metadata": {},
   "source": [
    "### TODO: find next closest"
   ]
  },
  {
   "cell_type": "code",
   "execution_count": null,
   "metadata": {},
   "outputs": [],
   "source": [
    "\n",
    "def find_next_closest(Am, U)\n",
    "\n",
    "    pass"
   ]
  },
  {
   "cell_type": "markdown",
   "metadata": {},
   "source": [
    "### Main loops"
   ]
  },
  {
   "cell_type": "code",
   "execution_count": 26,
   "metadata": {},
   "outputs": [
    {
     "name": "stdout",
     "output_type": "stream",
     "text": [
      "[[array([1, 1, 2, 1]), array([1, 1, 1, 1])], [array([7, 7, 7, 7]), array([7, 8, 9, 7])], [array([4, 4, 3, 4]), array([5, 5, 5, 5])]]\n",
      "[[100 100 100 100]]\n"
     ]
    }
   ],
   "source": [
    "# Holder for the point sets\n",
    "A = []\n",
    "\n",
    "U = data.copy()\n",
    "\n",
    "while len(A) < K:\n",
    "\n",
    "    Am = []\n",
    "    pair = find_closest(U)\n",
    "    \n",
    "    Am.append(U[pair[0]])\n",
    "    Am.append(U[pair[1]])\n",
    "\n",
    "    U = np.delete(U, list(pair), 0)\n",
    "  \n",
    "    ## TODO:\n",
    "    ##while len(Am) < THAT_SPECIAL_NUMBER\n",
    "    ##    next = find_next_nearest(U, Am)\n",
    "    ##    #append\n",
    "    ##    #delete\n",
    "        \n",
    "    A.append(Am)\n",
    "    \n",
    "    #print(Am)\n",
    "    #print(U)  \n",
    "    \n",
    "print(A)\n",
    "print(U)"
   ]
  },
  {
   "cell_type": "markdown",
   "metadata": {},
   "source": [
    "### Sum the vectors in U"
   ]
  },
  {
   "cell_type": "code",
   "execution_count": null,
   "metadata": {},
   "outputs": [],
   "source": []
  }
 ],
 "metadata": {
  "kernelspec": {
   "display_name": "Python 3",
   "language": "python",
   "name": "python3"
  },
  "language_info": {
   "codemirror_mode": {
    "name": "ipython",
    "version": 3
   },
   "file_extension": ".py",
   "mimetype": "text/x-python",
   "name": "python",
   "nbconvert_exporter": "python",
   "pygments_lexer": "ipython3",
   "version": "3.7.1"
  }
 },
 "nbformat": 4,
 "nbformat_minor": 2
}
