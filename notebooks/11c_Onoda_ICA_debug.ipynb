{
 "cells": [
  {
   "cell_type": "code",
   "execution_count": 1,
   "metadata": {},
   "outputs": [],
   "source": [
    "import imports\n",
    "\n",
    "import sklearn.datasets as skdatasets\n",
    "\n",
    "from initialisations import onoda2012 as onoda"
   ]
  },
  {
   "cell_type": "code",
   "execution_count": 3,
   "metadata": {},
   "outputs": [
    {
     "name": "stdout",
     "output_type": "stream",
     "text": [
      "[[ 0.20140714 -0.09119276 -0.02684775 -0.14009071]\n",
      " [-0.02361384 -0.00064313  0.04064828  0.03549208]\n",
      " [-0.00881853 -0.19265888  0.011038   -0.07101224]]\n",
      "[[-0.00881191 -0.19266195  0.01103735 -0.07101672]\n",
      " [ 0.02361195  0.00064276 -0.04064797 -0.03549125]\n",
      " [-0.20140765  0.09118628  0.02684849  0.14008865]]\n"
     ]
    }
   ],
   "source": [
    "dataset = skdatasets.load_iris()\n",
    "\n",
    "K = 3\n",
    "\n",
    "for i in range(0, 2):\n",
    "    \n",
    "    components = onoda._run_ica(dataset.data, K)\n",
    "    print(components)\n",
    "    "
   ]
  },
  {
   "cell_type": "code",
   "execution_count": null,
   "metadata": {},
   "outputs": [],
   "source": []
  },
  {
   "cell_type": "code",
   "execution_count": null,
   "metadata": {},
   "outputs": [],
   "source": []
  }
 ],
 "metadata": {
  "kernelspec": {
   "display_name": "Python 3",
   "language": "python",
   "name": "python3"
  },
  "language_info": {
   "codemirror_mode": {
    "name": "ipython",
    "version": 3
   },
   "file_extension": ".py",
   "mimetype": "text/x-python",
   "name": "python",
   "nbconvert_exporter": "python",
   "pygments_lexer": "ipython3",
   "version": "3.7.1"
  }
 },
 "nbformat": 4,
 "nbformat_minor": 2
}
