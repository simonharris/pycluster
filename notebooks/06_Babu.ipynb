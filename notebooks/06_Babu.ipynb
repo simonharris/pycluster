{
 "cells": [
  {
   "cell_type": "code",
   "execution_count": 1,
   "metadata": {},
   "outputs": [],
   "source": [
    "import imports\n",
    "import kmeans\n",
    "import numpy as np\n",
    "import math"
   ]
  },
  {
   "cell_type": "markdown",
   "metadata": {},
   "source": [
    "### Parameters"
   ]
  },
  {
   "cell_type": "code",
   "execution_count": 2,
   "metadata": {},
   "outputs": [],
   "source": [
    "# Generation size (\"we fix N = 8, 10\")\n",
    "N = 8 \n",
    "\n",
    "# Number of generations\n",
    "G = 50\n",
    "\n",
    "# Crossover probability\n",
    "Pc = 0.9\n",
    "\n",
    "# Mutation probability\n",
    "Pm = None\n",
    "\n",
    "# TODO:\n",
    "\n",
    "# \"T is the threshold error\"\n",
    "T = 0.5 # placeholder\n",
    "# \"m is a constant\"\n",
    "m = 4 # placeholder"
   ]
  },
  {
   "cell_type": "markdown",
   "metadata": {},
   "source": [
    "### A fitness function"
   ]
  },
  {
   "cell_type": "code",
   "execution_count": 3,
   "metadata": {},
   "outputs": [
    {
     "name": "stdout",
     "output_type": "stream",
     "text": [
      "0.8824969025845955\n"
     ]
    }
   ],
   "source": [
    "def fitness(solution):\n",
    "    \n",
    "    def error_value(solution):\n",
    "        return 1 # Very much TODO\n",
    "    \n",
    "    Ev = error_value(solution)\n",
    "    \n",
    "    return math.exp(-(Ev-T)/m)\n",
    "    \n",
    "print(fitness('foo'))    "
   ]
  },
  {
   "cell_type": "markdown",
   "metadata": {},
   "source": [
    "### An encoding function"
   ]
  },
  {
   "cell_type": "code",
   "execution_count": 4,
   "metadata": {},
   "outputs": [],
   "source": [
    "def encode(Im_not_sure):\n",
    "    pass"
   ]
  },
  {
   "cell_type": "markdown",
   "metadata": {},
   "source": [
    "### Selection operator (R)"
   ]
  },
  {
   "cell_type": "code",
   "execution_count": 5,
   "metadata": {},
   "outputs": [],
   "source": [
    "# NB this may be overkill if the population are just strings\n",
    "\n",
    "# R:Pi -> s\n",
    "def R(population):\n",
    "    randindex = np.random.choice(population.shape[0])\n",
    "    return population[randindex]\n",
    "    \n",
    "#foo = np.array([[1,2,3], [2,3,4], [5,6,7]])\n",
    "#print(R(foo))"
   ]
  },
  {
   "cell_type": "markdown",
   "metadata": {},
   "source": [
    "### Crossover operator (C)"
   ]
  },
  {
   "cell_type": "code",
   "execution_count": 6,
   "metadata": {},
   "outputs": [],
   "source": [
    "# C:s1, s2 -> s3, s4\n",
    "\n",
    "def C(s1, s2):\n",
    "    # Assume Pc is available to us globally?\n",
    "    \n",
    "    pass"
   ]
  },
  {
   "cell_type": "markdown",
   "metadata": {},
   "source": [
    "### Mutation operator (M)"
   ]
  },
  {
   "cell_type": "code",
   "execution_count": 7,
   "metadata": {},
   "outputs": [],
   "source": [
    "# M:s -> s'\n",
    "def M(s):\n",
    "    pass"
   ]
  },
  {
   "cell_type": "markdown",
   "metadata": {},
   "source": [
    "### Algorithm"
   ]
  },
  {
   "cell_type": "code",
   "execution_count": 8,
   "metadata": {},
   "outputs": [],
   "source": [
    "def algorithm():\n",
    "    pass"
   ]
  }
 ],
 "metadata": {
  "kernelspec": {
   "display_name": "Python 3",
   "language": "python",
   "name": "python3"
  },
  "language_info": {
   "codemirror_mode": {
    "name": "ipython",
    "version": 3
   },
   "file_extension": ".py",
   "mimetype": "text/x-python",
   "name": "python",
   "nbconvert_exporter": "python",
   "pygments_lexer": "ipython3",
   "version": "3.7.1"
  }
 },
 "nbformat": 4,
 "nbformat_minor": 2
}
