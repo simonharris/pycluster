{
 "cells": [
  {
   "cell_type": "code",
   "execution_count": 1,
   "metadata": {},
   "outputs": [],
   "source": [
    "import imports\n",
    "import kmeans\n",
    "import numpy as np\n",
    "import math"
   ]
  },
  {
   "cell_type": "markdown",
   "metadata": {},
   "source": [
    "### TODO:\n",
    "\n",
    " * \"Threshold error\" and \"a constant\"\n",
    " * encoding and decoding\n",
    " * error_value() and then test fitness()\n",
    " * test selection operator R()\n",
    " * mutation operator M()\n",
    " * main algorithm\n",
    " * ...\n",
    " * Fitness function will only work with MY kmeans. Look into unifying interfaces somehow"
   ]
  },
  {
   "cell_type": "markdown",
   "metadata": {},
   "source": [
    "### Parameters"
   ]
  },
  {
   "cell_type": "code",
   "execution_count": 2,
   "metadata": {},
   "outputs": [],
   "source": [
    "# Generation size (\"we fix N = 8, 10\")\n",
    "N = 8 \n",
    "\n",
    "# Number of generations\n",
    "G = 50\n",
    "\n",
    "# Crossover probability\n",
    "Pc = 1 # 0.9\n",
    "\n",
    "# Mutation probability\n",
    "Pm = 0.03 # 0.005\n",
    "\n",
    "# TODO:\n",
    "\n",
    "# \"T is the threshold error\"\n",
    "T = 0.5 # placeholder\n",
    "# \"m is a constant\"\n",
    "m = 4 # placeholder"
   ]
  },
  {
   "cell_type": "markdown",
   "metadata": {},
   "source": [
    "### A fitness function"
   ]
  },
  {
   "cell_type": "code",
   "execution_count": 3,
   "metadata": {},
   "outputs": [],
   "source": [
    "def fitness(solution):\n",
    "    \n",
    "    def error_value(solution):\n",
    "        '''TODO: unify these interfaces'''\n",
    "\n",
    "        # return solution.inertia_  # For sklearn\n",
    "    \n",
    "        return solution['inertia'] # For mine\n",
    "    \n",
    "    Ev = error_value(solution)\n",
    "    \n",
    "    return math.exp(-(Ev-T)/m)\n",
    "      "
   ]
  },
  {
   "cell_type": "markdown",
   "metadata": {},
   "source": [
    "### An encoding function"
   ]
  },
  {
   "cell_type": "code",
   "execution_count": 4,
   "metadata": {},
   "outputs": [],
   "source": [
    "def encode(Im_not_sure):\n",
    "    pass"
   ]
  },
  {
   "cell_type": "markdown",
   "metadata": {},
   "source": [
    "### A decoding function"
   ]
  },
  {
   "cell_type": "code",
   "execution_count": 5,
   "metadata": {},
   "outputs": [],
   "source": [
    "def decode(string):\n",
    "    pass"
   ]
  },
  {
   "cell_type": "markdown",
   "metadata": {},
   "source": [
    "### Selection operator (R)"
   ]
  },
  {
   "cell_type": "code",
   "execution_count": 6,
   "metadata": {},
   "outputs": [],
   "source": [
    "# R:Pi -> s\n",
    "def R(population):\n",
    "    '''Roulette wheel select strategy. Assigns a proportionally higher \n",
    "    likelihood to returning fitter chromosomes'''\n",
    "    \n",
    "    fitnesses = [fitness(chromosome) for chromosome in population]\n",
    "    \n",
    "    R_fitness = np.random.random_sample() * np.sum(fitnesses)\n",
    "    T_fitness = 0.0\n",
    "    \n",
    "    for i in range(len(population)):\n",
    "        \n",
    "        T_fitness += fitnesses[i]\n",
    "        \n",
    "        if T_fitness >= R_fitness:\n",
    "            return population[i]\n"
   ]
  },
  {
   "cell_type": "markdown",
   "metadata": {},
   "source": [
    "### Crossover operator (C)"
   ]
  },
  {
   "cell_type": "code",
   "execution_count": 7,
   "metadata": {},
   "outputs": [
    {
     "name": "stdout",
     "output_type": "stream",
     "text": [
      "('herld', 'wollo')\n"
     ]
    }
   ],
   "source": [
    "# C:s1, s2 -> s3, s4\n",
    "def C(s1, s2):\n",
    "    \n",
    "    sp = np.random.randint(1, len(s1))\n",
    "    \n",
    "    s3 = s1[:sp] + s2[sp:]\n",
    "    s4 = s2[:sp] + s1[sp:]\n",
    "    \n",
    "    return s3, s4\n",
    "    \n",
    "print(C('hello', 'world'))"
   ]
  },
  {
   "cell_type": "markdown",
   "metadata": {},
   "source": [
    "### Mutation operator (M)"
   ]
  },
  {
   "cell_type": "code",
   "execution_count": 31,
   "metadata": {},
   "outputs": [],
   "source": [
    "# M:s -> s'\n",
    "def M(chromosome):\n",
    "    \n",
    "    def alter(bit):\n",
    "        if (bit == '1'):\n",
    "            return '0'\n",
    "        else:\n",
    "            return '1'\n",
    "    \n",
    "    out = []\n",
    "    \n",
    "    for allele in chromosome:\n",
    "  \n",
    "        if (np.random.sample() <= Pm):\n",
    "            allele = alter(allele)\n",
    "        \n",
    "        out.append(allele)\n",
    "    \n",
    "    return ''.join(out)\n",
    "    \n",
    "    \n",
    "#print(M('100110100101'))    "
   ]
  },
  {
   "cell_type": "markdown",
   "metadata": {},
   "source": [
    "### Algorithm"
   ]
  },
  {
   "cell_type": "code",
   "execution_count": 27,
   "metadata": {},
   "outputs": [],
   "source": [
    "def algorithm():\n",
    "    pass"
   ]
  },
  {
   "cell_type": "code",
   "execution_count": null,
   "metadata": {},
   "outputs": [],
   "source": []
  },
  {
   "cell_type": "code",
   "execution_count": null,
   "metadata": {},
   "outputs": [],
   "source": []
  },
  {
   "cell_type": "code",
   "execution_count": null,
   "metadata": {},
   "outputs": [],
   "source": []
  }
 ],
 "metadata": {
  "kernelspec": {
   "display_name": "Python 3",
   "language": "python",
   "name": "python3"
  },
  "language_info": {
   "codemirror_mode": {
    "name": "ipython",
    "version": 3
   },
   "file_extension": ".py",
   "mimetype": "text/x-python",
   "name": "python",
   "nbconvert_exporter": "python",
   "pygments_lexer": "ipython3",
   "version": "3.7.1"
  }
 },
 "nbformat": 4,
 "nbformat_minor": 2
}
