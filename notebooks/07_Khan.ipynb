{
 "cells": [
  {
   "cell_type": "markdown",
   "metadata": {},
   "source": [
    "### TODO:\n",
    " * Jenks' algorithm?\n",
    " * reproduce their numbers"
   ]
  },
  {
   "cell_type": "code",
   "execution_count": 1,
   "metadata": {},
   "outputs": [],
   "source": [
    "import imports\n",
    "import numpy as np\n",
    "from initialisations import khan2012 as khan\n",
    "import sklearn.datasets as skdatasets\n",
    "from scipy.spatial import distance as spdistance\n",
    "from sklearn.cluster import KMeans\n",
    "from sklearn import preprocessing\n",
    "#from initialisations import ikmeans"
   ]
  },
  {
   "cell_type": "code",
   "execution_count": 2,
   "metadata": {},
   "outputs": [],
   "source": [
    "dataset = skdatasets.load_iris()\n",
    "data = dataset.data\n",
    "target = dataset.target\n",
    "\n",
    "K = 5\n",
    "\n",
    "column = 0"
   ]
  },
  {
   "cell_type": "markdown",
   "metadata": {},
   "source": [
    "### Normalise data"
   ]
  },
  {
   "cell_type": "code",
   "execution_count": 3,
   "metadata": {},
   "outputs": [],
   "source": [
    "data = preprocessing.normalize(data, axis=1, norm='l2') # Defaults:, axis=1, norm='l2')\n",
    "#data = preprocessing.scale(data)\n",
    "#data = ikmeans.standardise(data)\n",
    "#print(data)"
   ]
  },
  {
   "cell_type": "markdown",
   "metadata": {},
   "source": [
    "### Run algorithm"
   ]
  },
  {
   "cell_type": "code",
   "execution_count": 4,
   "metadata": {},
   "outputs": [
    {
     "name": "stdout",
     "output_type": "stream",
     "text": [
      "[[0.65387747 0.34250725 0.62274045 0.25947519]\n",
      " [0.68961607 0.33539368 0.59866674 0.22814432]\n",
      " [0.72419203 0.33031931 0.5716886  0.19177719]\n",
      " [0.78793716 0.47485275 0.33601359 0.08109306]\n",
      " [0.86093857 0.44003527 0.24871559 0.0573959 ]]\n"
     ]
    }
   ],
   "source": [
    "centroids = khan.generate(data, K, column)\n",
    "print(centroids)"
   ]
  },
  {
   "cell_type": "markdown",
   "metadata": {},
   "source": [
    "### Run K-means"
   ]
  },
  {
   "cell_type": "code",
   "execution_count": 5,
   "metadata": {},
   "outputs": [
    {
     "name": "stdout",
     "output_type": "stream",
     "text": [
      "0.2308655463663352\n",
      "0.0015391036424422346\n"
     ]
    }
   ],
   "source": [
    "est = KMeans(n_clusters=K, n_init=1, init=centroids)\n",
    "est.fit(data)\n",
    "\n",
    "print(est.inertia_)\n",
    "print(est.inertia_/150)"
   ]
  },
  {
   "cell_type": "code",
   "execution_count": null,
   "metadata": {},
   "outputs": [],
   "source": []
  }
 ],
 "metadata": {
  "kernelspec": {
   "display_name": "Python 3",
   "language": "python",
   "name": "python3"
  },
  "language_info": {
   "codemirror_mode": {
    "name": "ipython",
    "version": 3
   },
   "file_extension": ".py",
   "mimetype": "text/x-python",
   "name": "python",
   "nbconvert_exporter": "python",
   "pygments_lexer": "ipython3",
   "version": "3.7.1"
  }
 },
 "nbformat": 4,
 "nbformat_minor": 2
}
