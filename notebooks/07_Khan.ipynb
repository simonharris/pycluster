{
 "cells": [
  {
   "cell_type": "markdown",
   "metadata": {},
   "source": [
    "### TODO:\n",
    " * Jenks' algorithm?\n",
    " * reproduce their numbers"
   ]
  },
  {
   "cell_type": "code",
   "execution_count": 1,
   "metadata": {},
   "outputs": [],
   "source": [
    "import imports\n",
    "import numpy as np\n",
    "from initialisations import khan2012 as khan\n",
    "import sklearn.datasets as skdatasets\n",
    "from scipy.spatial import distance as spdistance\n",
    "from sklearn.cluster import KMeans\n",
    "from sklearn import preprocessing\n",
    "#from initialisations import ikmeans"
   ]
  },
  {
   "cell_type": "code",
   "execution_count": 2,
   "metadata": {},
   "outputs": [],
   "source": [
    "dataset = skdatasets.load_iris()\n",
    "data = dataset.data\n",
    "target = dataset.target\n",
    "\n",
    "K = 3 # paper suggests 5?!"
   ]
  },
  {
   "cell_type": "code",
   "execution_count": 3,
   "metadata": {},
   "outputs": [
    {
     "name": "stdout",
     "output_type": "stream",
     "text": [
      "[[5.76527778 3.05277778 3.64097222 1.15972222]\n",
      " [7.68       3.04       6.6        2.18      ]\n",
      " [7.9        3.8        6.4        2.        ]]\n"
     ]
    }
   ],
   "source": [
    "centroids = khan.generate(data, K)\n",
    "print(centroids)"
   ]
  },
  {
   "cell_type": "markdown",
   "metadata": {},
   "source": [
    "### Run K-means"
   ]
  },
  {
   "cell_type": "code",
   "execution_count": 4,
   "metadata": {},
   "outputs": [
    {
     "name": "stdout",
     "output_type": "stream",
     "text": [
      "78.85144142614601\n",
      "0.5256762761743068\n"
     ]
    }
   ],
   "source": [
    "est = KMeans(n_clusters=K, n_init=1, init=centroids)\n",
    "est.fit(data)\n",
    "\n",
    "print(est.inertia_)\n",
    "print(est.inertia_/150)"
   ]
  }
 ],
 "metadata": {
  "kernelspec": {
   "display_name": "Python 3",
   "language": "python",
   "name": "python3"
  },
  "language_info": {
   "codemirror_mode": {
    "name": "ipython",
    "version": 3
   },
   "file_extension": ".py",
   "mimetype": "text/x-python",
   "name": "python",
   "nbconvert_exporter": "python",
   "pygments_lexer": "ipython3",
   "version": "3.7.1"
  }
 },
 "nbformat": 4,
 "nbformat_minor": 2
}
