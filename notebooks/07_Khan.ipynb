{
 "cells": [
  {
   "cell_type": "markdown",
   "metadata": {},
   "source": [
    "### TODO:\n",
    " * why/how only one attribute?\n",
    " * Jenks' algorithm?\n",
    " * reproduce their numbers"
   ]
  },
  {
   "cell_type": "code",
   "execution_count": 1,
   "metadata": {},
   "outputs": [],
   "source": [
    "import imports\n",
    "import numpy as np\n",
    "from initialisations import khan2012 as khan\n",
    "import sklearn.datasets as skdatasets\n",
    "from scipy.spatial import distance as spdistance\n",
    "from sklearn.cluster import KMeans\n",
    "from sklearn.preprocessing import normalize"
   ]
  },
  {
   "cell_type": "code",
   "execution_count": 2,
   "metadata": {},
   "outputs": [],
   "source": [
    "dataset = skdatasets.load_iris()\n",
    "data = dataset.data\n",
    "target = dataset.target\n",
    "\n",
    "K = 5"
   ]
  },
  {
   "cell_type": "markdown",
   "metadata": {},
   "source": [
    "### Normalise data"
   ]
  },
  {
   "cell_type": "code",
   "execution_count": 3,
   "metadata": {},
   "outputs": [],
   "source": [
    "data = normalize(data) # Defaults:, axis=1, norm='l2')"
   ]
  },
  {
   "cell_type": "markdown",
   "metadata": {},
   "source": [
    "### Run algorithm\n",
    "\n",
    "The paper seems to say they only used the first column, for some reason."
   ]
  },
  {
   "cell_type": "code",
   "execution_count": 4,
   "metadata": {},
   "outputs": [
    {
     "name": "stdout",
     "output_type": "stream",
     "text": [
      "[ 61  69  81  99 150]\n"
     ]
    }
   ],
   "source": [
    "\n",
    "tosort = data.copy()\n",
    "#tosort = data[:, 0].reshape(len(data), 1)\n",
    "#print(tosort)\n",
    "\n",
    "# Step a)\n",
    "sorted = khan.sort_by_magnitude(tosort)\n",
    "\n",
    "# Step b)\n",
    "D = khan.find_distances(sorted)\n",
    "\n",
    "# Step c)\n",
    "splits = khan.find_split_points(D, K)\n",
    "\n",
    "# Step d) Find upper bounds\n",
    "\n",
    "# Because there n-1 possible splits\n",
    "uppers = [split + 1 for split in splits]\n",
    "# and the final upper is always n\n",
    "uppers = np.append(uppers, len(sorted))\n",
    "\n",
    "uppers.sort()\n",
    "\n",
    "print(uppers)\n"
   ]
  },
  {
   "cell_type": "code",
   "execution_count": 5,
   "metadata": {},
   "outputs": [
    {
     "name": "stdout",
     "output_type": "stream",
     "text": [
      "Group: 61\n",
      "Group: 8\n",
      "Group: 12\n",
      "Group: 18\n",
      "Group: 51\n",
      "[[0.75591181 0.40957828 0.44264459 0.13534033]\n",
      " [0.71540401 0.3895993  0.50032601 0.18631625]\n",
      " [0.71945208 0.33617965 0.55699309 0.20437392]\n",
      " [0.74069829 0.41615491 0.45321146 0.14287771]\n",
      " [0.76294504 0.4147081  0.43866455 0.12529679]]\n"
     ]
    }
   ],
   "source": [
    "# Step e and f) \n",
    "\n",
    "centroids = []\n",
    "\n",
    "lower = 0\n",
    "\n",
    "for i in range(0, K):\n",
    "    \n",
    "    upper = uppers[i]\n",
    "    \n",
    "    group = sorted[lower:upper]\n",
    "    print(\"Group:\", len(group))\n",
    "    centroids.append(np.mean(group, axis=0))\n",
    "    \n",
    "    lower = upper\n",
    "\n",
    "centroids = np.array(centroids)\n",
    "    \n",
    "print(centroids)"
   ]
  },
  {
   "cell_type": "markdown",
   "metadata": {},
   "source": [
    "### Run K-means"
   ]
  },
  {
   "cell_type": "code",
   "execution_count": 6,
   "metadata": {},
   "outputs": [
    {
     "name": "stdout",
     "output_type": "stream",
     "text": [
      "0.2704412669106977\n"
     ]
    },
    {
     "name": "stderr",
     "output_type": "stream",
     "text": [
      "C:\\ProgramData\\Anaconda3\\lib\\site-packages\\sklearn\\cluster\\k_means_.py:971: RuntimeWarning: Explicit initial center position passed: performing only one init in k-means instead of n_init=10\n",
      "  return_n_iter=True)\n"
     ]
    }
   ],
   "source": [
    "est = KMeans(n_clusters=K, init=centroids)\n",
    "est.fit(data)\n",
    "\n",
    "print(est.inertia_)"
   ]
  },
  {
   "cell_type": "code",
   "execution_count": null,
   "metadata": {},
   "outputs": [],
   "source": []
  }
 ],
 "metadata": {
  "kernelspec": {
   "display_name": "Python 3",
   "language": "python",
   "name": "python3"
  },
  "language_info": {
   "codemirror_mode": {
    "name": "ipython",
    "version": 3
   },
   "file_extension": ".py",
   "mimetype": "text/x-python",
   "name": "python",
   "nbconvert_exporter": "python",
   "pygments_lexer": "ipython3",
   "version": "3.7.1"
  }
 },
 "nbformat": 4,
 "nbformat_minor": 2
}
