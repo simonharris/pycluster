{
 "cells": [
  {
   "cell_type": "markdown",
   "metadata": {},
   "source": [
    "### TODO:\n",
    " * why only one attribute?\n",
    " * reproduce their numbers"
   ]
  },
  {
   "cell_type": "code",
   "execution_count": 1,
   "metadata": {},
   "outputs": [],
   "source": [
    "import imports\n",
    "import numpy as np\n",
    "from initialisations import khan2012 as khan\n",
    "import sklearn.datasets as skdatasets\n",
    "#import sklearn.metrics as skmetrics\n",
    "#from metrics import accuracy\n",
    "from scipy.spatial import distance as spdistance\n",
    "import kmeans\n",
    "from sklearn.preprocessing import normalize"
   ]
  },
  {
   "cell_type": "code",
   "execution_count": 2,
   "metadata": {},
   "outputs": [],
   "source": [
    "dataset = skdatasets.load_iris()\n",
    "data = dataset.data\n",
    "target = dataset.target\n",
    "\n",
    "K = 5"
   ]
  },
  {
   "cell_type": "markdown",
   "metadata": {},
   "source": [
    "### Normalise data"
   ]
  },
  {
   "cell_type": "code",
   "execution_count": 3,
   "metadata": {},
   "outputs": [],
   "source": [
    "data = normalize(data, axis=1, norm='l1')"
   ]
  },
  {
   "cell_type": "markdown",
   "metadata": {},
   "source": [
    "### Run algorithm\n",
    "\n",
    "The paper seems to say the only used the first column, for some reason."
   ]
  },
  {
   "cell_type": "code",
   "execution_count": 4,
   "metadata": {},
   "outputs": [
    {
     "name": "stdout",
     "output_type": "stream",
     "text": [
      "[ 75  80  86 100 150]\n"
     ]
    }
   ],
   "source": [
    "\n",
    "tosort = data.copy()\n",
    "#tosort = data[:, 0].reshape(len(data), 1)\n",
    "#print(tosort)\n",
    "\n",
    "# Step a)\n",
    "sorted = khan.sort_by_magnitude(tosort)\n",
    "\n",
    "# Step b)\n",
    "D = khan.find_distances(sorted)\n",
    "\n",
    "# Step c)\n",
    "splits = khan.find_split_points(D, K)\n",
    "\n",
    "# Step d) Find upper bounds\n",
    "\n",
    "# Because there n-1 possible splits\n",
    "uppers = [split + 1 for split in splits]\n",
    "# and the final upper is always n\n",
    "uppers = np.append(uppers, len(sorted))\n",
    "\n",
    "uppers.sort()\n",
    "\n",
    "print(uppers)\n"
   ]
  },
  {
   "cell_type": "code",
   "execution_count": 5,
   "metadata": {},
   "outputs": [
    {
     "name": "stdout",
     "output_type": "stream",
     "text": [
      "Group: 75\n",
      "Group: 5\n",
      "Group: 6\n",
      "Group: 14\n",
      "Group: 50\n",
      "[array([0.39296181, 0.18704   , 0.30978604, 0.11021215]), array([0.40905086, 0.16335516, 0.32823026, 0.09936372]), array([0.41768957, 0.18036714, 0.31039602, 0.09154728]), array([0.42732812, 0.17509229, 0.30992824, 0.08765135]), array([0.4941101 , 0.3374682 , 0.14436744, 0.02405426])]\n"
     ]
    }
   ],
   "source": [
    "# Step e and f) \n",
    "\n",
    "centroids = []\n",
    "\n",
    "lower = 0\n",
    "\n",
    "for i in range(0, K):\n",
    "    \n",
    "    upper = uppers[i]\n",
    "    \n",
    "    group = sorted[lower:upper]\n",
    "    print(\"Group:\", len(group))\n",
    "    centroids.append(np.mean(group, axis=0))\n",
    "    \n",
    "    lower = upper\n",
    "    \n",
    "    \n",
    "print(centroids)"
   ]
  },
  {
   "cell_type": "markdown",
   "metadata": {},
   "source": [
    "### Run K-means"
   ]
  },
  {
   "cell_type": "code",
   "execution_count": 6,
   "metadata": {},
   "outputs": [
    {
     "name": "stdout",
     "output_type": "stream",
     "text": [
      "[[0.37444998 0.1790338  0.31951453 0.12700169]\n",
      " [0.42821362 0.19138024 0.29247962 0.08792652]\n",
      " [0.4941101  0.3374682  0.14436744 0.02405426]\n",
      " [0.3994442  0.16195881 0.33248343 0.10611357]\n",
      " [0.39656926 0.19935736 0.30325008 0.10082329]]\n",
      "0.08747632995809329\n"
     ]
    }
   ],
   "source": [
    "result = kmeans.cluster(data, K)\n",
    "\n",
    "print(result['centroids'])\n",
    "print(result['inertia'])"
   ]
  },
  {
   "cell_type": "code",
   "execution_count": null,
   "metadata": {},
   "outputs": [],
   "source": []
  }
 ],
 "metadata": {
  "kernelspec": {
   "display_name": "Python 3",
   "language": "python",
   "name": "python3"
  },
  "language_info": {
   "codemirror_mode": {
    "name": "ipython",
    "version": 3
   },
   "file_extension": ".py",
   "mimetype": "text/x-python",
   "name": "python",
   "nbconvert_exporter": "python",
   "pygments_lexer": "ipython3",
   "version": "3.7.1"
  }
 },
 "nbformat": 4,
 "nbformat_minor": 2
}
