{
 "cells": [
  {
   "cell_type": "code",
   "execution_count": 1,
   "metadata": {},
   "outputs": [],
   "source": [
    "import imports\n",
    "import numpy as np\n",
    "import sklearn.datasets as skdatasets\n",
    "import sklearn.metrics as skmetrics \n",
    "import sklearn.cluster as skcluster\n",
    "#from initialisations import erisoglu\n",
    "\n",
    "dataset = skdatasets.load_iris()\n",
    "data = dataset.data\n",
    "target = dataset.target\n",
    "\n",
    "score = {}"
   ]
  },
  {
   "cell_type": "markdown",
   "metadata": {},
   "source": [
    "## Their M"
   ]
  },
  {
   "cell_type": "code",
   "execution_count": 2,
   "metadata": {},
   "outputs": [],
   "source": [
    "m1 = [3.6156, 0.2677, 5.1774, 1.4903]\n",
    "m2 = [2.9506, 1.7916, 6.4024, 5.1193]\n",
    "m3 = [2.7917, 0.6361, 5.1278, 2.5722]\n",
    "\n",
    "seeds = np.array([m1, m2, m3])\n",
    "K=len(seeds)\n",
    "est1 = skcluster.KMeans(n_clusters=K, n_init=1, init=seeds)\n",
    "est1.fit(data)\n",
    "\n",
    "score['m'] = skmetrics.adjusted_rand_score(target, est1.labels_)"
   ]
  },
  {
   "cell_type": "markdown",
   "metadata": {},
   "source": [
    "## Their/Our C"
   ]
  },
  {
   "cell_type": "code",
   "execution_count": 3,
   "metadata": {},
   "outputs": [],
   "source": [
    "c1 = [5.7, 4.4, 1.5, 0.4]\n",
    "c2 = [7.7, 2.6, 6.9, 2.3]\n",
    "c3 = [4.5, 2.3, 1.3, 0.3]\n",
    "\n",
    "seeds = np.array([c1, c2, c3])\n",
    "K=len(seeds)\n",
    "est1 = skcluster.KMeans(n_clusters=K, n_init=1, init=seeds)\n",
    "est1.fit(data)\n",
    "\n",
    "score['c'] = skmetrics.adjusted_rand_score(target, est1.labels_)"
   ]
  },
  {
   "cell_type": "markdown",
   "metadata": {},
   "source": [
    "## M with order fixed"
   ]
  },
  {
   "cell_type": "code",
   "execution_count": 4,
   "metadata": {},
   "outputs": [],
   "source": [
    "m1 = [5.1774, 3.6156, 1.4903, 0.2677]\n",
    "m2 = [6.4024, 2.9506, 5.1193, 1.7916]\n",
    "m3 = [5.1278, 2.7917, 2.5722, 0.6361]\n",
    "\n",
    "seeds = np.array([m1, m2, m3])\n",
    "est1 = skcluster.KMeans(n_clusters=len(seeds), n_init=1, init=seeds)\n",
    "est1.fit(data)\n",
    "\n",
    "score['m_reordered'] = skmetrics.adjusted_rand_score(target, est1.labels_)"
   ]
  },
  {
   "cell_type": "markdown",
   "metadata": {},
   "source": [
    "## Random (1 loop)"
   ]
  },
  {
   "cell_type": "code",
   "execution_count": 5,
   "metadata": {},
   "outputs": [],
   "source": [
    "est1 = skcluster.KMeans(n_clusters=3, n_init=1, init=\"random\")\n",
    "est1.fit(data)\n",
    "\n",
    "score['random'] = skmetrics.adjusted_rand_score(target, est1.labels_)"
   ]
  },
  {
   "cell_type": "markdown",
   "metadata": {},
   "source": [
    "## K-Means++"
   ]
  },
  {
   "cell_type": "code",
   "execution_count": 6,
   "metadata": {},
   "outputs": [],
   "source": [
    "est1 = skcluster.KMeans(n_clusters=3)\n",
    "est1.fit(data)\n",
    "\n",
    "score['kmeansplusplus'] = skmetrics.adjusted_rand_score(target, est1.labels_)"
   ]
  },
  {
   "cell_type": "markdown",
   "metadata": {},
   "source": [
    "## Results"
   ]
  },
  {
   "cell_type": "code",
   "execution_count": 7,
   "metadata": {},
   "outputs": [
    {
     "name": "stdout",
     "output_type": "stream",
     "text": [
      "m : 0.4289511167236898\n",
      "c : 0.7163421126838475\n",
      "m_reordered : 0.7163421126838475\n",
      "random : 0.7302382722834697\n",
      "kmeansplusplus : 0.7302382722834697\n"
     ]
    }
   ],
   "source": [
    "for key, val in score.items():\n",
    "    print(key, \":\", val)"
   ]
  },
  {
   "cell_type": "code",
   "execution_count": null,
   "metadata": {},
   "outputs": [],
   "source": []
  }
 ],
 "metadata": {
  "kernelspec": {
   "display_name": "Python 3",
   "language": "python",
   "name": "python3"
  },
  "language_info": {
   "codemirror_mode": {
    "name": "ipython",
    "version": 3
   },
   "file_extension": ".py",
   "mimetype": "text/x-python",
   "name": "python",
   "nbconvert_exporter": "python",
   "pygments_lexer": "ipython3",
   "version": "3.7.1"
  }
 },
 "nbformat": 4,
 "nbformat_minor": 2
}
