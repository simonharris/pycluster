{
 "cells": [
  {
   "cell_type": "code",
   "execution_count": 13,
   "metadata": {},
   "outputs": [
    {
     "name": "stdout",
     "output_type": "stream",
     "text": [
      "[2 1 1 1 2 2 1 2 1 1 2 2 1 1 2 2 2 2 2 2 2 2 2 2 1 1 2 2 2 1 1 2 2 2 1 2 2\n",
      " 2 1 2 2 1 1 2 2 1 2 1 2 2 0 0 0 0 0 0 0 1 0 0 1 0 0 0 0 0 0 0 0 0 0 0 0 0\n",
      " 0 0 0 0 0 0 0 0 0 0 0 0 0 0 0 0 0 0 0 1 0 0 0 0 1 0 0 0 0 0 0 0 0 0 0 0 0\n",
      " 0 0 0 0 0 0 0 0 0 0 0 0 0 0 0 0 0 0 0 0 0 0 0 0 0 0 0 0 0 0 0 0 0 0 0 0 0\n",
      " 0 0]\n",
      "0.4289511167236898\n",
      "\n",
      " [0 0 0 0 0 0 0 0 0 0 0 0 0 0 0 0 0 0 0 0 0 0 0 0 0 0 0 0 0 0 0 0 0 0 0 0 0\n",
      " 0 0 0 0 0 0 0 0 0 0 0 0 0 1 2 1 2 2 2 2 2 2 2 2 2 2 2 2 2 2 2 2 2 2 2 2 2\n",
      " 2 2 2 1 2 2 2 2 2 2 2 2 2 2 2 2 2 2 2 2 2 2 2 2 2 2 1 2 1 1 1 1 2 1 1 1 1\n",
      " 1 1 2 2 1 1 1 1 2 1 2 1 2 1 1 2 2 1 1 1 1 1 2 1 1 1 1 2 1 1 1 2 1 1 1 2 1\n",
      " 1 2]\n",
      "0.7163421126838475\n"
     ]
    }
   ],
   "source": [
    "import imports\n",
    "import numpy as np\n",
    "import sklearn.datasets as skdatasets\n",
    "import sklearn.metrics as skmetrics \n",
    "import sklearn.cluster as skcluster\n",
    "#from initialisations import erisoglu\n",
    "\n",
    "dataset = skdatasets.load_iris()\n",
    "data = dataset.data\n",
    "target = dataset.target\n",
    "\n",
    "m1 = [3.6156, 0.2677, 5.1774, 1.4903]\n",
    "m2 = [2.9506, 1.7916, 6.4024, 5.1193]\n",
    "m3 = [2.7917, 0.6361, 5.1278, 2.5722]\n",
    "\n",
    "seeds = np.array([m1, m2, m3])\n",
    "K=len(seeds)\n",
    "est1 = skcluster.KMeans(n_clusters=K, n_init=1, init=seeds)\n",
    "est1.fit(data)\n",
    "\n",
    "print(est1.labels_)\n",
    "print(skmetrics.adjusted_rand_score(target, est1.labels_))\n",
    "\n",
    "# And the ones we find ------------------------------------------\n",
    "\n",
    "c1 = [5.7, 4.4, 1.5, 0.4]\n",
    "c2 = [7.7, 2.6, 6.9, 2.3]\n",
    "c3 = [4.5, 2.3, 1.3, 0.3]\n",
    "\n",
    "seeds = np.array([c1, c2, c3])\n",
    "K=len(seeds)\n",
    "est1 = skcluster.KMeans(n_clusters=K, n_init=1, init=seeds)\n",
    "est1.fit(data)\n",
    "\n",
    "print(\"\\n\", est1.labels_)\n",
    "print(skmetrics.adjusted_rand_score(target, est1.labels_))"
   ]
  },
  {
   "cell_type": "code",
   "execution_count": null,
   "metadata": {},
   "outputs": [],
   "source": []
  },
  {
   "cell_type": "code",
   "execution_count": null,
   "metadata": {},
   "outputs": [],
   "source": []
  }
 ],
 "metadata": {
  "kernelspec": {
   "display_name": "Python 3",
   "language": "python",
   "name": "python3"
  },
  "language_info": {
   "codemirror_mode": {
    "name": "ipython",
    "version": 3
   },
   "file_extension": ".py",
   "mimetype": "text/x-python",
   "name": "python",
   "nbconvert_exporter": "python",
   "pygments_lexer": "ipython3",
   "version": "3.7.1"
  }
 },
 "nbformat": 4,
 "nbformat_minor": 2
}
