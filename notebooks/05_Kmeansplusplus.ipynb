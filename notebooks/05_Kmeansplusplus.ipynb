{
 "cells": [
  {
   "cell_type": "markdown",
   "metadata": {},
   "source": [
    "# K-Means++"
   ]
  },
  {
   "cell_type": "code",
   "execution_count": 1,
   "metadata": {},
   "outputs": [],
   "source": [
    "import imports\n",
    "\n",
    "import nbutils\n",
    "from initialisations import kmeansplusplus"
   ]
  },
  {
   "cell_type": "code",
   "execution_count": 2,
   "metadata": {},
   "outputs": [
    {
     "name": "stdout",
     "output_type": "stream",
     "text": [
      "Running HART\n",
      "=====================================================\n",
      "Accuracy Score: 0.75\n",
      "Adjusted Rand Index: 0.36\n",
      "NMI: 0.6674193149491419\n",
      "Inertia: 55.4 \n",
      "\n",
      "Running IRIS\n",
      "=====================================================\n",
      "Accuracy Score: 0.8866666666666667\n",
      "Adjusted Rand Index: 0.7163421126838475\n",
      "NMI: 0.7419116631817836\n",
      "Inertia: 78.8556658259773 \n",
      "\n",
      "Running SOYS\n",
      "=====================================================\n",
      "Accuracy Score: 0.7872340425531915\n",
      "Adjusted Rand Index: 0.5924106927055639\n",
      "NMI: 0.7878537361709542\n",
      "Inertia: 232.75925925925924 \n",
      "\n",
      "Running WINE\n",
      "=====================================================\n",
      "Accuracy Score: 0.6853932584269663\n",
      "Adjusted Rand Index: 0.3517721516862617\n",
      "NMI: 0.423309269344735\n",
      "Inertia: 2633555.3324093386 \n",
      "\n",
      "Running WBCO\n",
      "=====================================================\n",
      "Accuracy Score: 0.9604685212298683\n",
      "Adjusted Rand Index: 0.8464675664733539\n",
      "NMI: 0.7478287711382018\n",
      "Inertia: 19323.173817064977 \n",
      "\n"
     ]
    }
   ],
   "source": [
    "nbutils.run_clustering(kmeansplusplus, {})"
   ]
  },
  {
   "cell_type": "markdown",
   "metadata": {},
   "source": [
    "### TODO:\n",
    "\n",
    " - Try with spambase dataset as per paper"
   ]
  }
 ],
 "metadata": {
  "kernelspec": {
   "display_name": "Python 3",
   "language": "python",
   "name": "python3"
  },
  "language_info": {
   "codemirror_mode": {
    "name": "ipython",
    "version": 3
   },
   "file_extension": ".py",
   "mimetype": "text/x-python",
   "name": "python",
   "nbconvert_exporter": "python",
   "pygments_lexer": "ipython3",
   "version": "3.7.1"
  }
 },
 "nbformat": 4,
 "nbformat_minor": 2
}
