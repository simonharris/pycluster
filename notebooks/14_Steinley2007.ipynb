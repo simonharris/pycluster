{
 "cells": [
  {
   "cell_type": "code",
   "execution_count": 1,
   "metadata": {
    "scrolled": true
   },
   "outputs": [],
   "source": [
    "import imports\n",
    "\n",
    "from datasets import loader\n",
    "from initialisations import steinley2007 as steinley\n",
    "import nbutils"
   ]
  },
  {
   "cell_type": "code",
   "execution_count": 2,
   "metadata": {
    "scrolled": false
   },
   "outputs": [
    {
     "name": "stdout",
     "output_type": "stream",
     "text": [
      "Running HART\n",
      "=====================================================\n",
      "Accuracy Score: 0.875\n",
      "Adjusted Rand Index: 0.5454545454545454\n",
      "NMI: 0.7550042924856722\n",
      "Inertia: 49.75 \n",
      "\n",
      "Running IRIS\n",
      "=====================================================\n",
      "Accuracy Score: 0.8866666666666667\n",
      "Adjusted Rand Index: 0.7163421126838475\n",
      "NMI: 0.7419116631817836\n",
      "Inertia: 78.8556658259773 \n",
      "\n",
      "Running SOYS\n",
      "=====================================================\n",
      "Accuracy Score: 0.7872340425531915\n",
      "Adjusted Rand Index: 0.5725301522441179\n",
      "NMI: 0.7527929386124189\n",
      "Inertia: 218.7 \n",
      "\n",
      "Running WINE\n",
      "=====================================================\n",
      "Accuracy Score: 0.702247191011236\n",
      "Adjusted Rand Index: 0.37111371823084754\n",
      "NMI: 0.4287568597645354\n",
      "Inertia: 2370689.686782968 \n",
      "\n",
      "Running WBCO\n",
      "=====================================================\n",
      "Accuracy Score: 0.9619326500732065\n",
      "Adjusted Rand Index: 0.8519538631795488\n",
      "NMI: 0.7545637910164786\n",
      "Inertia: 19323.204899819943 \n",
      "\n"
     ]
    }
   ],
   "source": [
    "restarts = 50#00\n",
    "\n",
    "nbutils.run_clustering(steinley, {'restarts':restarts})"
   ]
  },
  {
   "cell_type": "code",
   "execution_count": null,
   "metadata": {
    "scrolled": true
   },
   "outputs": [],
   "source": []
  }
 ],
 "metadata": {
  "kernelspec": {
   "display_name": "Python 3",
   "language": "python",
   "name": "python3"
  },
  "language_info": {
   "codemirror_mode": {
    "name": "ipython",
    "version": 3
   },
   "file_extension": ".py",
   "mimetype": "text/x-python",
   "name": "python",
   "nbconvert_exporter": "python",
   "pygments_lexer": "ipython3",
   "version": "3.7.1"
  }
 },
 "nbformat": 4,
 "nbformat_minor": 2
}
