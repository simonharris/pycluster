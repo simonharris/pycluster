{
 "cells": [
  {
   "cell_type": "markdown",
   "metadata": {},
   "source": [
    "# K-Means trial run"
   ]
  },
  {
   "cell_type": "markdown",
   "metadata": {},
   "source": [
    "## Initial setup and configuration"
   ]
  },
  {
   "cell_type": "markdown",
   "metadata": {},
   "source": [
    "Import statements:"
   ]
  },
  {
   "cell_type": "code",
   "execution_count": 41,
   "metadata": {},
   "outputs": [],
   "source": [
    "#import numpy as np\n",
    "import sklearn.datasets as skdatasets\n",
    "import sklearn.cluster as skcluster\n",
    "import sklearn.metrics as skmetrics\n",
    "import kmeans\n",
    "import utils\n",
    "from initialisations import random, ikmeans, erisoglu"
   ]
  },
  {
   "cell_type": "markdown",
   "metadata": {},
   "source": [
    "Set up the options for this run:"
   ]
  },
  {
   "cell_type": "code",
   "execution_count": 43,
   "metadata": {},
   "outputs": [],
   "source": [
    "args = {\n",
    "    'dataset':'iris',\n",
    "    #'dataset':'wine',\n",
    "    #'dataset':'bc',\n",
    "    #'algorithm':'random',\n",
    "    #'algorithm':'ikmeans',\n",
    "    'algorithm':'erisoglu',\n",
    "    'K':3\n",
    "}"
   ]
  },
  {
   "cell_type": "markdown",
   "metadata": {},
   "source": [
    "Configuration available:"
   ]
  },
  {
   "cell_type": "code",
   "execution_count": 44,
   "metadata": {},
   "outputs": [],
   "source": [
    "datasets = {\n",
    "    'iris':  skdatasets.load_iris,\n",
    "    'wine':  skdatasets.load_wine,\n",
    "    'bc':    skdatasets.load_breast_cancer,\n",
    "}\n",
    "\n",
    "algorithms = {\n",
    "    'random': random.generate,\n",
    "    'ikmeans': ikmeans.generate,\n",
    "    'erisoglu': erisoglu.generate,\n",
    "}                "
   ]
  },
  {
   "cell_type": "markdown",
   "metadata": {},
   "source": [
    "Run some setup code:"
   ]
  },
  {
   "cell_type": "code",
   "execution_count": 45,
   "metadata": {},
   "outputs": [],
   "source": [
    "dataloader = datasets[args['dataset']]\n",
    "initialiser = algorithms[args['algorithm']]\n",
    "K = args['K']\n",
    "\n",
    "dataset = dataloader()\n",
    "\n",
    "data = utils.standardise(dataset.data)\n",
    "target = dataset.target"
   ]
  },
  {
   "cell_type": "markdown",
   "metadata": {},
   "source": [
    "## Discover some centroids:"
   ]
  },
  {
   "cell_type": "code",
   "execution_count": 46,
   "metadata": {},
   "outputs": [
    {
     "name": "stdout",
     "output_type": "stream",
     "text": [
      "Centroids:\n",
      " [[-0.22222222  1.         -0.83050847 -0.75      ]\n",
      " [ 0.88888889 -0.5         1.          0.83333333]\n",
      " [-0.88888889 -0.75       -0.89830508 -0.83333333]]\n"
     ]
    }
   ],
   "source": [
    "centroids = initialiser(data, K)\n",
    "print(\"Centroids:\\n\", centroids)"
   ]
  },
  {
   "cell_type": "markdown",
   "metadata": {},
   "source": [
    "## Run k-means clustering algorithm:"
   ]
  },
  {
   "cell_type": "code",
   "execution_count": 47,
   "metadata": {},
   "outputs": [
    {
     "data": {
      "text/plain": [
       "KMeans(algorithm='auto', copy_x=True,\n",
       "    init=array([[-0.22222,  1.     , -0.83051, -0.75   ],\n",
       "       [ 0.88889, -0.5    ,  1.     ,  0.83333],\n",
       "       [-0.88889, -0.75   , -0.89831, -0.83333]]),\n",
       "    max_iter=300, n_clusters=3, n_init=1, n_jobs=None,\n",
       "    precompute_distances='auto', random_state=None, tol=0.0001, verbose=0)"
      ]
     },
     "execution_count": 47,
     "metadata": {},
     "output_type": "execute_result"
    }
   ],
   "source": [
    "# Homemade version:\n",
    "Z, U, clusters, iterations = kmeans.cluster(data, K, centroids.copy())\n",
    "\n",
    "# SKLearn version\n",
    "est1 = skcluster.KMeans(n_clusters=K, n_init=1, init=centroids.copy())\n",
    "est1.fit(data)"
   ]
  },
  {
   "cell_type": "markdown",
   "metadata": {},
   "source": [
    "## Output"
   ]
  },
  {
   "cell_type": "code",
   "execution_count": 48,
   "metadata": {},
   "outputs": [
    {
     "name": "stdout",
     "output_type": "stream",
     "text": [
      "Me:\n",
      " [0 0 0 0 0 0 0 0 0 0 0 0 0 0 0 0 0 0 0 0 0 0 0 0 0 0 0 0 0 0 0 0 0 0 0 0 0\n",
      " 0 0 0 0 0 0 0 0 0 0 0 0 0 1 1 1 2 2 2 1 2 2 2 2 2 2 2 2 1 2 2 2 2 1 2 2 2\n",
      " 2 2 1 1 2 2 2 2 2 2 2 1 1 2 2 2 2 2 2 2 2 2 2 2 2 2 1 2 1 1 1 1 2 1 1 1 1\n",
      " 1 1 2 1 1 1 1 1 2 1 2 1 1 1 1 1 1 1 1 1 1 1 2 2 1 1 1 1 1 1 1 2 1 1 1 1 1\n",
      " 1 1]\n",
      "SKL:\n",
      " [0 0 0 0 0 0 0 0 0 0 0 0 0 0 0 0 0 0 0 0 0 0 0 0 0 0 0 0 0 0 0 0 0 0 0 0 0\n",
      " 0 0 0 0 0 0 0 0 0 0 0 0 0 1 1 1 2 2 2 1 2 2 2 2 2 2 2 2 1 2 2 2 2 1 2 2 2\n",
      " 2 2 1 1 2 2 2 2 2 2 2 1 1 2 2 2 2 2 2 2 2 2 2 2 2 2 1 2 1 1 1 1 2 1 1 1 1\n",
      " 1 1 2 1 1 1 1 1 2 1 2 1 1 1 1 1 1 1 1 1 1 1 2 2 1 1 1 1 1 1 1 2 1 1 1 1 1\n",
      " 1 1]\n",
      "Target:\n",
      " [0 0 0 0 0 0 0 0 0 0 0 0 0 0 0 0 0 0 0 0 0 0 0 0 0 0 0 0 0 0 0 0 0 0 0 0 0\n",
      " 0 0 0 0 0 0 0 0 0 0 0 0 0 1 1 1 1 1 1 1 1 1 1 1 1 1 1 1 1 1 1 1 1 1 1 1 1\n",
      " 1 1 1 1 1 1 1 1 1 1 1 1 1 1 1 1 1 1 1 1 1 1 1 1 1 1 2 2 2 2 2 2 2 2 2 2 2\n",
      " 2 2 2 2 2 2 2 2 2 2 2 2 2 2 2 2 2 2 2 2 2 2 2 2 2 2 2 2 2 2 2 2 2 2 2 2 2\n",
      " 2 2]\n",
      "\n",
      "Iterations:\n",
      "Me: 11 | SKL: 11\n"
     ]
    }
   ],
   "source": [
    "print('Me:\\n', U)\n",
    "print(\"SKL:\\n\", est1.labels_)\n",
    "print(\"Target:\\n\", target)\n",
    "\n",
    "print(\"\\nIterations:\")\n",
    "print(\"Me:\", iterations, \"| SKL:\", est1.n_iter_)"
   ]
  },
  {
   "cell_type": "markdown",
   "metadata": {},
   "source": [
    "## Run metrics"
   ]
  },
  {
   "cell_type": "code",
   "execution_count": 49,
   "metadata": {
    "scrolled": true
   },
   "outputs": [
    {
     "name": "stdout",
     "output_type": "stream",
     "text": [
      "\n",
      "Accuracy Score:\n",
      "Me: 0.4533333333333333 | SKL: 0.4533333333333333\n",
      "\n",
      "Adjusted Rand Index:\n",
      "Me: 0.7008666982225341 | SKL: 0.7008666982225341\n"
     ]
    }
   ],
   "source": [
    "acc_me = skmetrics.accuracy_score(target, U)\n",
    "acc_them = skmetrics.accuracy_score(target, est1.labels_)\n",
    "\n",
    "print(\"\\nAccuracy Score:\")\n",
    "print(\"Me:\", acc_me, \"| SKL:\", acc_them)\n",
    "\n",
    "ari_me = skmetrics.adjusted_rand_score(target, U)\n",
    "ari_them = skmetrics.adjusted_rand_score(target, est1.labels_)\n",
    "\n",
    "print(\"\\nAdjusted Rand Index:\")\n",
    "print(\"Me:\", ari_me, \"| SKL:\", ari_them)"
   ]
  },
  {
   "cell_type": "markdown",
   "metadata": {},
   "source": [
    "## Confusion matrices"
   ]
  },
  {
   "cell_type": "code",
   "execution_count": 50,
   "metadata": {},
   "outputs": [
    {
     "name": "stdout",
     "output_type": "stream",
     "text": [
      "Me:\n",
      " [[50  0  0]\n",
      " [ 0 10 40]\n",
      " [ 0 42  8]] \n",
      "\n",
      "SKL:\n",
      " [[50  0  0]\n",
      " [ 0 10 40]\n",
      " [ 0 42  8]]\n"
     ]
    }
   ],
   "source": [
    "cm_me = skmetrics.confusion_matrix(target, U)\n",
    "cm_them = skmetrics.confusion_matrix(target, est1.labels_)\n",
    "\n",
    "print(\"Me:\\n\", cm_me, \"\\n\")\n",
    "print(\"SKL:\\n\", cm_them)"
   ]
  },
  {
   "cell_type": "code",
   "execution_count": null,
   "metadata": {},
   "outputs": [],
   "source": []
  }
 ],
 "metadata": {
  "kernelspec": {
   "display_name": "Python 3",
   "language": "python",
   "name": "python3"
  },
  "language_info": {
   "codemirror_mode": {
    "name": "ipython",
    "version": 3
   },
   "file_extension": ".py",
   "mimetype": "text/x-python",
   "name": "python",
   "nbconvert_exporter": "python",
   "pygments_lexer": "ipython3",
   "version": "3.7.1"
  }
 },
 "nbformat": 4,
 "nbformat_minor": 2
}
