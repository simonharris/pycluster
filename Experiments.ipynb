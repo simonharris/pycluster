{
 "cells": [
  {
   "cell_type": "markdown",
   "metadata": {},
   "source": [
    "# Experimental fun with pycluster"
   ]
  },
  {
   "cell_type": "markdown",
   "metadata": {},
   "source": [
    "## Initial setup and configuration"
   ]
  },
  {
   "cell_type": "markdown",
   "metadata": {},
   "source": [
    "Import statements:"
   ]
  },
  {
   "cell_type": "code",
   "execution_count": 11,
   "metadata": {},
   "outputs": [],
   "source": [
    "#import numpy as np\n",
    "import sklearn.datasets as skdatasets\n",
    "import sklearn.cluster as skcluster\n",
    "import sklearn.metrics as skmetrics\n",
    "import kmeans\n",
    "import utils\n",
    "from initialisations import random, ikmeans"
   ]
  },
  {
   "cell_type": "markdown",
   "metadata": {},
   "source": [
    "Set up our options:"
   ]
  },
  {
   "cell_type": "code",
   "execution_count": 12,
   "metadata": {},
   "outputs": [],
   "source": [
    "args = {\n",
    "    'dataset':'iris',\n",
    "    'algorithm':'ikmeans',\n",
    "    'K':3\n",
    "}"
   ]
  },
  {
   "cell_type": "markdown",
   "metadata": {},
   "source": [
    "Configuration available:"
   ]
  },
  {
   "cell_type": "code",
   "execution_count": 13,
   "metadata": {},
   "outputs": [],
   "source": [
    "datasets = {\n",
    "    'iris':  skdatasets.load_iris,\n",
    "    'wine':  skdatasets.load_wine,\n",
    "    'bc':    skdatasets.load_breast_cancer,\n",
    "}\n",
    "\n",
    "algorithms = {\n",
    "    'random': random.generate,\n",
    "    'ikmeans': ikmeans.generate,\n",
    "}                "
   ]
  },
  {
   "cell_type": "markdown",
   "metadata": {},
   "source": [
    "Run some setup code:"
   ]
  },
  {
   "cell_type": "code",
   "execution_count": 14,
   "metadata": {},
   "outputs": [],
   "source": [
    "dataloader = datasets[args['dataset']]\n",
    "initialiser = algorithms[args['algorithm']]\n",
    "K = args['K']\n",
    "\n",
    "dataset = dataloader()\n",
    "\n",
    "data = utils.standardise(dataset.data)\n",
    "target = dataset.target"
   ]
  },
  {
   "cell_type": "markdown",
   "metadata": {},
   "source": [
    "## Discover some centroids:"
   ]
  },
  {
   "cell_type": "code",
   "execution_count": 26,
   "metadata": {},
   "outputs": [
    {
     "name": "stdout",
     "output_type": "stream",
     "text": [
      "Centroids:\n",
      " [[-0.60777778  0.19       -0.84338983 -0.87833333]\n",
      " [-0.5        -0.31045752 -0.45550528 -0.66666667]\n",
      " [ 0.71980676 -0.00854701  0.62666667  0.37037037]]\n"
     ]
    }
   ],
   "source": [
    "centroids = initialiser(data, K)\n",
    "print(\"Centroids:\\n\", centroids)"
   ]
  },
  {
   "cell_type": "markdown",
   "metadata": {},
   "source": [
    "## Run k-means clustering algorithm:"
   ]
  },
  {
   "cell_type": "code",
   "execution_count": 27,
   "metadata": {},
   "outputs": [
    {
     "data": {
      "text/plain": [
       "KMeans(algorithm='auto', copy_x=True,\n",
       "    init=array([[-0.60778,  0.19   , -0.84339, -0.87833],\n",
       "       [-0.5    , -0.31046, -0.45551, -0.66667],\n",
       "       [ 0.71981, -0.00855,  0.62667,  0.37037]]),\n",
       "    max_iter=300, n_clusters=3, n_init=1, n_jobs=None,\n",
       "    precompute_distances='auto', random_state=None, tol=0.0001, verbose=0)"
      ]
     },
     "execution_count": 27,
     "metadata": {},
     "output_type": "execute_result"
    }
   ],
   "source": [
    "# Homemade version:\n",
    "Z, U, clusters, iterations = kmeans.cluster(data, K, centroids.copy())\n",
    "\n",
    "# SKLearn version\n",
    "est1 = skcluster.KMeans(n_clusters=K, n_init=1, init=centroids.copy())\n",
    "est1.fit(data)"
   ]
  },
  {
   "cell_type": "markdown",
   "metadata": {},
   "source": [
    "## Output"
   ]
  },
  {
   "cell_type": "code",
   "execution_count": 41,
   "metadata": {},
   "outputs": [
    {
     "name": "stdout",
     "output_type": "stream",
     "text": [
      "Me:\n",
      " [0 0 0 0 0 0 0 0 0 0 0 0 0 0 0 0 0 0 0 0 0 0 0 0 0 0 0 0 0 0 0 0 0 0 0 0 0\n",
      " 0 0 0 0 0 0 0 0 0 0 0 0 0 2 2 2 1 1 1 2 1 1 1 1 1 1 1 1 2 1 1 1 1 2 1 1 1\n",
      " 1 1 2 2 1 1 1 1 1 1 1 2 2 1 1 1 1 1 1 1 1 1 1 1 1 1 2 1 2 2 2 2 1 2 2 2 2\n",
      " 2 2 1 2 2 2 2 2 1 2 1 2 2 2 2 2 2 2 2 2 2 2 1 1 2 2 2 2 2 2 2 1 2 2 2 2 2\n",
      " 2 2]\n",
      "SKL:\n",
      " [0 0 0 0 0 0 0 0 0 0 0 0 0 0 0 0 0 0 0 0 0 0 0 0 0 0 0 0 0 0 0 0 0 0 0 0 0\n",
      " 0 0 0 0 0 0 0 0 0 0 0 0 0 2 2 2 1 1 1 2 1 1 1 1 1 1 1 1 2 1 1 1 1 2 1 1 1\n",
      " 1 1 2 2 1 1 1 1 1 1 1 2 2 1 1 1 1 1 1 1 1 1 1 1 1 1 2 1 2 2 2 2 1 2 2 2 2\n",
      " 2 2 1 2 2 2 2 2 1 2 1 2 2 2 2 2 2 2 2 2 2 2 1 1 2 2 2 2 2 2 2 1 2 2 2 2 2\n",
      " 2 2]\n",
      "Target:\n",
      " [0 0 0 0 0 0 0 0 0 0 0 0 0 0 0 0 0 0 0 0 0 0 0 0 0 0 0 0 0 0 0 0 0 0 0 0 0\n",
      " 0 0 0 0 0 0 0 0 0 0 0 0 0 1 1 1 1 1 1 1 1 1 1 1 1 1 1 1 1 1 1 1 1 1 1 1 1\n",
      " 1 1 1 1 1 1 1 1 1 1 1 1 1 1 1 1 1 1 1 1 1 1 1 1 1 1 2 2 2 2 2 2 2 2 2 2 2\n",
      " 2 2 2 2 2 2 2 2 2 2 2 2 2 2 2 2 2 2 2 2 2 2 2 2 2 2 2 2 2 2 2 2 2 2 2 2 2\n",
      " 2 2]\n",
      "\n",
      "Iterations:\n",
      "Me: 8 | SKL: 9\n"
     ]
    }
   ],
   "source": [
    "print('Me:\\n', U)\n",
    "print(\"SKL:\\n\", est1.labels_)\n",
    "print(\"Target:\\n\", target)\n",
    "\n",
    "print(\"\\nIterations:\")\n",
    "print(\"Me:\", iterations, \"| SKL:\", est1.n_iter_)"
   ]
  },
  {
   "cell_type": "markdown",
   "metadata": {},
   "source": [
    "## Run metrics"
   ]
  },
  {
   "cell_type": "code",
   "execution_count": 36,
   "metadata": {
    "scrolled": true
   },
   "outputs": [
    {
     "name": "stdout",
     "output_type": "stream",
     "text": [
      "\n",
      "Accuracy Score:\n",
      "Me: 0.88 | SKL: 0.88\n",
      "\n",
      "Adjusted Rand Index:\n",
      "Me: 0.7008666982225341 | SKL (one iteration): 0.7008666982225341\n",
      "\n",
      "Iterations:\n",
      "Me: 8 | SKL (one iteration): 9\n"
     ]
    }
   ],
   "source": [
    "acc_me = skmetrics.accuracy_score(target, U)\n",
    "acc_them = skmetrics.accuracy_score(target, est1.labels_)\n",
    "\n",
    "print(\"\\nAccuracy Score:\")\n",
    "print(\"Me:\", acc_me, \"| SKL:\", acc_them)\n",
    "\n",
    "ari_me = skmetrics.adjusted_rand_score(target, U)\n",
    "ari_them = skmetrics.adjusted_rand_score(target, est1.labels_)\n",
    "\n",
    "print(\"\\nAdjusted Rand Index:\")\n",
    "print(\"Me:\", ari_me, \"| SKL (one iteration):\", ari_them)"
   ]
  },
  {
   "cell_type": "markdown",
   "metadata": {},
   "source": [
    "## Confusion matrices"
   ]
  },
  {
   "cell_type": "code",
   "execution_count": 42,
   "metadata": {},
   "outputs": [
    {
     "name": "stdout",
     "output_type": "stream",
     "text": [
      "Me:\n",
      " [[50  0  0]\n",
      " [ 0 40 10]\n",
      " [ 0  8 42]] \n",
      "\n",
      "SKL:\n",
      " [[50  0  0]\n",
      " [ 0 40 10]\n",
      " [ 0  8 42]]\n"
     ]
    }
   ],
   "source": [
    "cm_me = skmetrics.confusion_matrix(target, U)\n",
    "cm_them = skmetrics.confusion_matrix(target, est1.labels_)\n",
    "\n",
    "print(\"Me:\\n\", cm_me, \"\\n\")\n",
    "print(\"SKL:\\n\", cm_them)"
   ]
  },
  {
   "cell_type": "code",
   "execution_count": null,
   "metadata": {},
   "outputs": [],
   "source": []
  }
 ],
 "metadata": {
  "kernelspec": {
   "display_name": "Python 3",
   "language": "python",
   "name": "python3"
  },
  "language_info": {
   "codemirror_mode": {
    "name": "ipython",
    "version": 3
   },
   "file_extension": ".py",
   "mimetype": "text/x-python",
   "name": "python",
   "nbconvert_exporter": "python",
   "pygments_lexer": "ipython3",
   "version": "3.7.1"
  }
 },
 "nbformat": 4,
 "nbformat_minor": 2
}
